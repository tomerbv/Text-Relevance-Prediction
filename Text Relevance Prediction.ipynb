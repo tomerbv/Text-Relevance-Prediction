{
 "cells": [
  {
   "cell_type": "code",
   "execution_count": null,
   "metadata": {
    "colab": {
     "base_uri": "https://localhost:8080/"
    },
    "id": "3F0n-tfwCBrG",
    "outputId": "ee4a005c-f124-4c82-cd44-7bb96f5579a1",
    "scrolled": true
   },
   "outputs": [],
   "source": [
    "import numpy as np\n",
    "import pandas as pd\n",
    "import torch\n",
    "import torch.nn as nn\n",
    "from sklearn import metrics\n",
    "from sklearn.metrics import confusion_matrix,accuracy_score,log_loss,ConfusionMatrixDisplay, precision_score, recall_score, f1_score, accuracy_score\n",
    "import matplotlib.pyplot as plt\n",
    "from torch.utils.data import Dataset, DataLoader\n",
    "import time\n",
    "import random\n",
    "import nltk\n",
    "from nltk.tokenize import word_tokenize\n",
    "from nltk.stem import PorterStemmer\n",
    "from nltk.corpus import stopwords\n",
    "nltk.download('stopwords')\n",
    "nltk.download('punkt')\n",
    "import string\n",
    "from sklearn.model_selection import train_test_split\n",
    "from sklearn.feature_extraction.text import CountVectorizer\n",
    "from sklearn.metrics import mean_squared_error,mean_absolute_error\n",
    "from numpy.linalg import norm\n",
    "from scipy.spatial.distance import cityblock,minkowski\n",
    "from sklearn.model_selection import RandomizedSearchCV\n",
    "from sklearn.neighbors import KNeighborsRegressor\n",
    "!pip install xgboost\n",
    "import xgboost as xgb\n",
    "device = torch.device('cuda' if torch.cuda.is_available() else 'cpu')\n",
    "device"
   ]
  },
  {
   "cell_type": "markdown",
   "metadata": {
    "id": "MIl3pXEkvG4Z"
   },
   "source": [
    "# 1.a Data Exploration\n",
    "> Let's observe the raw data and concatinate the relavent columns to create a train data and test data"
   ]
  },
  {
   "cell_type": "code",
   "execution_count": 94,
   "metadata": {
    "id": "-Cihz4v1vG4b"
   },
   "outputs": [],
   "source": [
    "train = pd.read_csv('train.csv', encoding = \"ISO-8859-1\")\n",
    "product_descriptions = pd.read_csv('product_descriptions.csv', encoding = \"ISO-8859-1\")\n",
    "test = pd.read_csv('test.csv', encoding = \"ISO-8859-1\")\n",
    "solution = pd.read_csv('solution.csv', encoding = \"ISO-8859-1\")"
   ]
  },
  {
   "cell_type": "code",
   "execution_count": 95,
   "metadata": {
    "colab": {
     "base_uri": "https://localhost:8080/",
     "height": 206
    },
    "id": "5FtuvC82vG4b",
    "outputId": "8194feed-0b31-4437-d778-40d27c7fca5c"
   },
   "outputs": [
    {
     "data": {
      "text/html": [
       "<div>\n",
       "<style scoped>\n",
       "    .dataframe tbody tr th:only-of-type {\n",
       "        vertical-align: middle;\n",
       "    }\n",
       "\n",
       "    .dataframe tbody tr th {\n",
       "        vertical-align: top;\n",
       "    }\n",
       "\n",
       "    .dataframe thead th {\n",
       "        text-align: right;\n",
       "    }\n",
       "</style>\n",
       "<table border=\"1\" class=\"dataframe\">\n",
       "  <thead>\n",
       "    <tr style=\"text-align: right;\">\n",
       "      <th></th>\n",
       "      <th>id</th>\n",
       "      <th>product_uid</th>\n",
       "      <th>product_title</th>\n",
       "      <th>search_term</th>\n",
       "      <th>relevance</th>\n",
       "    </tr>\n",
       "  </thead>\n",
       "  <tbody>\n",
       "    <tr>\n",
       "      <th>0</th>\n",
       "      <td>2</td>\n",
       "      <td>100001</td>\n",
       "      <td>Simpson Strong-Tie 12-Gauge Angle</td>\n",
       "      <td>angle bracket</td>\n",
       "      <td>3.00</td>\n",
       "    </tr>\n",
       "    <tr>\n",
       "      <th>1</th>\n",
       "      <td>3</td>\n",
       "      <td>100001</td>\n",
       "      <td>Simpson Strong-Tie 12-Gauge Angle</td>\n",
       "      <td>l bracket</td>\n",
       "      <td>2.50</td>\n",
       "    </tr>\n",
       "    <tr>\n",
       "      <th>2</th>\n",
       "      <td>9</td>\n",
       "      <td>100002</td>\n",
       "      <td>BEHR Premium Textured DeckOver 1-gal. #SC-141 ...</td>\n",
       "      <td>deck over</td>\n",
       "      <td>3.00</td>\n",
       "    </tr>\n",
       "    <tr>\n",
       "      <th>3</th>\n",
       "      <td>16</td>\n",
       "      <td>100005</td>\n",
       "      <td>Delta Vero 1-Handle Shower Only Faucet Trim Ki...</td>\n",
       "      <td>rain shower head</td>\n",
       "      <td>2.33</td>\n",
       "    </tr>\n",
       "    <tr>\n",
       "      <th>4</th>\n",
       "      <td>17</td>\n",
       "      <td>100005</td>\n",
       "      <td>Delta Vero 1-Handle Shower Only Faucet Trim Ki...</td>\n",
       "      <td>shower only faucet</td>\n",
       "      <td>2.67</td>\n",
       "    </tr>\n",
       "  </tbody>\n",
       "</table>\n",
       "</div>"
      ],
      "text/plain": [
       "   id  product_uid                                      product_title  \\\n",
       "0   2       100001                  Simpson Strong-Tie 12-Gauge Angle   \n",
       "1   3       100001                  Simpson Strong-Tie 12-Gauge Angle   \n",
       "2   9       100002  BEHR Premium Textured DeckOver 1-gal. #SC-141 ...   \n",
       "3  16       100005  Delta Vero 1-Handle Shower Only Faucet Trim Ki...   \n",
       "4  17       100005  Delta Vero 1-Handle Shower Only Faucet Trim Ki...   \n",
       "\n",
       "          search_term  relevance  \n",
       "0       angle bracket       3.00  \n",
       "1           l bracket       2.50  \n",
       "2           deck over       3.00  \n",
       "3    rain shower head       2.33  \n",
       "4  shower only faucet       2.67  "
      ]
     },
     "execution_count": 95,
     "metadata": {},
     "output_type": "execute_result"
    }
   ],
   "source": [
    "train.head()"
   ]
  },
  {
   "cell_type": "code",
   "execution_count": 96,
   "metadata": {
    "colab": {
     "base_uri": "https://localhost:8080/",
     "height": 206
    },
    "id": "GC7sk0MVvG4c",
    "outputId": "37049259-f1da-4c09-e4fe-a6be0f58ddc2"
   },
   "outputs": [
    {
     "data": {
      "text/html": [
       "<div>\n",
       "<style scoped>\n",
       "    .dataframe tbody tr th:only-of-type {\n",
       "        vertical-align: middle;\n",
       "    }\n",
       "\n",
       "    .dataframe tbody tr th {\n",
       "        vertical-align: top;\n",
       "    }\n",
       "\n",
       "    .dataframe thead th {\n",
       "        text-align: right;\n",
       "    }\n",
       "</style>\n",
       "<table border=\"1\" class=\"dataframe\">\n",
       "  <thead>\n",
       "    <tr style=\"text-align: right;\">\n",
       "      <th></th>\n",
       "      <th>product_uid</th>\n",
       "      <th>product_description</th>\n",
       "    </tr>\n",
       "  </thead>\n",
       "  <tbody>\n",
       "    <tr>\n",
       "      <th>0</th>\n",
       "      <td>100001</td>\n",
       "      <td>Not only do angles make joints stronger, they ...</td>\n",
       "    </tr>\n",
       "    <tr>\n",
       "      <th>1</th>\n",
       "      <td>100002</td>\n",
       "      <td>BEHR Premium Textured DECKOVER is an innovativ...</td>\n",
       "    </tr>\n",
       "    <tr>\n",
       "      <th>2</th>\n",
       "      <td>100003</td>\n",
       "      <td>Classic architecture meets contemporary design...</td>\n",
       "    </tr>\n",
       "    <tr>\n",
       "      <th>3</th>\n",
       "      <td>100004</td>\n",
       "      <td>The Grape Solar 265-Watt Polycrystalline PV So...</td>\n",
       "    </tr>\n",
       "    <tr>\n",
       "      <th>4</th>\n",
       "      <td>100005</td>\n",
       "      <td>Update your bathroom with the Delta Vero Singl...</td>\n",
       "    </tr>\n",
       "  </tbody>\n",
       "</table>\n",
       "</div>"
      ],
      "text/plain": [
       "   product_uid                                product_description\n",
       "0       100001  Not only do angles make joints stronger, they ...\n",
       "1       100002  BEHR Premium Textured DECKOVER is an innovativ...\n",
       "2       100003  Classic architecture meets contemporary design...\n",
       "3       100004  The Grape Solar 265-Watt Polycrystalline PV So...\n",
       "4       100005  Update your bathroom with the Delta Vero Singl..."
      ]
     },
     "execution_count": 96,
     "metadata": {},
     "output_type": "execute_result"
    }
   ],
   "source": [
    "product_descriptions.head()"
   ]
  },
  {
   "cell_type": "code",
   "execution_count": 97,
   "metadata": {
    "colab": {
     "base_uri": "https://localhost:8080/"
    },
    "id": "BolinJIHvG4c",
    "outputId": "790facfc-64cb-4893-f10b-ded4e86a3354",
    "scrolled": true
   },
   "outputs": [
    {
     "data": {
      "text/plain": [
       "124428"
      ]
     },
     "execution_count": 97,
     "metadata": {},
     "output_type": "execute_result"
    }
   ],
   "source": [
    "len(product_descriptions)"
   ]
  },
  {
   "cell_type": "code",
   "execution_count": 98,
   "metadata": {
    "colab": {
     "base_uri": "https://localhost:8080/",
     "height": 206
    },
    "id": "1NW3bFjUvG4c",
    "outputId": "a4bce1db-91ba-4bdb-c2c8-cc12a04ff8b7"
   },
   "outputs": [
    {
     "data": {
      "text/html": [
       "<div>\n",
       "<style scoped>\n",
       "    .dataframe tbody tr th:only-of-type {\n",
       "        vertical-align: middle;\n",
       "    }\n",
       "\n",
       "    .dataframe tbody tr th {\n",
       "        vertical-align: top;\n",
       "    }\n",
       "\n",
       "    .dataframe thead th {\n",
       "        text-align: right;\n",
       "    }\n",
       "</style>\n",
       "<table border=\"1\" class=\"dataframe\">\n",
       "  <thead>\n",
       "    <tr style=\"text-align: right;\">\n",
       "      <th></th>\n",
       "      <th>id</th>\n",
       "      <th>product_uid</th>\n",
       "      <th>product_title</th>\n",
       "      <th>search_term</th>\n",
       "    </tr>\n",
       "  </thead>\n",
       "  <tbody>\n",
       "    <tr>\n",
       "      <th>0</th>\n",
       "      <td>1</td>\n",
       "      <td>100001</td>\n",
       "      <td>Simpson Strong-Tie 12-Gauge Angle</td>\n",
       "      <td>90 degree bracket</td>\n",
       "    </tr>\n",
       "    <tr>\n",
       "      <th>1</th>\n",
       "      <td>4</td>\n",
       "      <td>100001</td>\n",
       "      <td>Simpson Strong-Tie 12-Gauge Angle</td>\n",
       "      <td>metal l brackets</td>\n",
       "    </tr>\n",
       "    <tr>\n",
       "      <th>2</th>\n",
       "      <td>5</td>\n",
       "      <td>100001</td>\n",
       "      <td>Simpson Strong-Tie 12-Gauge Angle</td>\n",
       "      <td>simpson sku able</td>\n",
       "    </tr>\n",
       "    <tr>\n",
       "      <th>3</th>\n",
       "      <td>6</td>\n",
       "      <td>100001</td>\n",
       "      <td>Simpson Strong-Tie 12-Gauge Angle</td>\n",
       "      <td>simpson strong  ties</td>\n",
       "    </tr>\n",
       "    <tr>\n",
       "      <th>4</th>\n",
       "      <td>7</td>\n",
       "      <td>100001</td>\n",
       "      <td>Simpson Strong-Tie 12-Gauge Angle</td>\n",
       "      <td>simpson strong tie hcc668</td>\n",
       "    </tr>\n",
       "  </tbody>\n",
       "</table>\n",
       "</div>"
      ],
      "text/plain": [
       "   id  product_uid                      product_title  \\\n",
       "0   1       100001  Simpson Strong-Tie 12-Gauge Angle   \n",
       "1   4       100001  Simpson Strong-Tie 12-Gauge Angle   \n",
       "2   5       100001  Simpson Strong-Tie 12-Gauge Angle   \n",
       "3   6       100001  Simpson Strong-Tie 12-Gauge Angle   \n",
       "4   7       100001  Simpson Strong-Tie 12-Gauge Angle   \n",
       "\n",
       "                 search_term  \n",
       "0          90 degree bracket  \n",
       "1           metal l brackets  \n",
       "2           simpson sku able  \n",
       "3       simpson strong  ties  \n",
       "4  simpson strong tie hcc668  "
      ]
     },
     "execution_count": 98,
     "metadata": {},
     "output_type": "execute_result"
    }
   ],
   "source": [
    "test.head()"
   ]
  },
  {
   "cell_type": "code",
   "execution_count": 99,
   "metadata": {
    "colab": {
     "base_uri": "https://localhost:8080/",
     "height": 206
    },
    "id": "60pd85-JvG4c",
    "outputId": "09dddf81-f70d-4678-ff2a-7b0f691c8de1"
   },
   "outputs": [
    {
     "data": {
      "text/html": [
       "<div>\n",
       "<style scoped>\n",
       "    .dataframe tbody tr th:only-of-type {\n",
       "        vertical-align: middle;\n",
       "    }\n",
       "\n",
       "    .dataframe tbody tr th {\n",
       "        vertical-align: top;\n",
       "    }\n",
       "\n",
       "    .dataframe thead th {\n",
       "        text-align: right;\n",
       "    }\n",
       "</style>\n",
       "<table border=\"1\" class=\"dataframe\">\n",
       "  <thead>\n",
       "    <tr style=\"text-align: right;\">\n",
       "      <th></th>\n",
       "      <th>id</th>\n",
       "      <th>relevance</th>\n",
       "      <th>Usage</th>\n",
       "    </tr>\n",
       "  </thead>\n",
       "  <tbody>\n",
       "    <tr>\n",
       "      <th>0</th>\n",
       "      <td>1</td>\n",
       "      <td>-1.00</td>\n",
       "      <td>Ignored</td>\n",
       "    </tr>\n",
       "    <tr>\n",
       "      <th>1</th>\n",
       "      <td>4</td>\n",
       "      <td>2.33</td>\n",
       "      <td>Public</td>\n",
       "    </tr>\n",
       "    <tr>\n",
       "      <th>2</th>\n",
       "      <td>5</td>\n",
       "      <td>2.33</td>\n",
       "      <td>Private</td>\n",
       "    </tr>\n",
       "    <tr>\n",
       "      <th>3</th>\n",
       "      <td>6</td>\n",
       "      <td>2.67</td>\n",
       "      <td>Private</td>\n",
       "    </tr>\n",
       "    <tr>\n",
       "      <th>4</th>\n",
       "      <td>7</td>\n",
       "      <td>2.00</td>\n",
       "      <td>Public</td>\n",
       "    </tr>\n",
       "  </tbody>\n",
       "</table>\n",
       "</div>"
      ],
      "text/plain": [
       "   id  relevance    Usage\n",
       "0   1      -1.00  Ignored\n",
       "1   4       2.33   Public\n",
       "2   5       2.33  Private\n",
       "3   6       2.67  Private\n",
       "4   7       2.00   Public"
      ]
     },
     "execution_count": 99,
     "metadata": {},
     "output_type": "execute_result"
    }
   ],
   "source": [
    "solution.head()"
   ]
  },
  {
   "cell_type": "code",
   "execution_count": 100,
   "metadata": {
    "id": "OX23bllRvG4d"
   },
   "outputs": [],
   "source": [
    "train = pd.merge(train, product_descriptions, on=[\"product_uid\", \"product_uid\"])\n",
    "train.insert(3, 'product_description', train.pop('product_description'))"
   ]
  },
  {
   "cell_type": "code",
   "execution_count": 101,
   "metadata": {
    "colab": {
     "base_uri": "https://localhost:8080/",
     "height": 206
    },
    "id": "jQgNtL6BvG4d",
    "outputId": "f18e6526-3694-4826-e1b3-7b193b696ff4"
   },
   "outputs": [
    {
     "data": {
      "text/html": [
       "<div>\n",
       "<style scoped>\n",
       "    .dataframe tbody tr th:only-of-type {\n",
       "        vertical-align: middle;\n",
       "    }\n",
       "\n",
       "    .dataframe tbody tr th {\n",
       "        vertical-align: top;\n",
       "    }\n",
       "\n",
       "    .dataframe thead th {\n",
       "        text-align: right;\n",
       "    }\n",
       "</style>\n",
       "<table border=\"1\" class=\"dataframe\">\n",
       "  <thead>\n",
       "    <tr style=\"text-align: right;\">\n",
       "      <th></th>\n",
       "      <th>id</th>\n",
       "      <th>product_uid</th>\n",
       "      <th>product_title</th>\n",
       "      <th>product_description</th>\n",
       "      <th>search_term</th>\n",
       "      <th>relevance</th>\n",
       "    </tr>\n",
       "  </thead>\n",
       "  <tbody>\n",
       "    <tr>\n",
       "      <th>0</th>\n",
       "      <td>2</td>\n",
       "      <td>100001</td>\n",
       "      <td>Simpson Strong-Tie 12-Gauge Angle</td>\n",
       "      <td>Not only do angles make joints stronger, they ...</td>\n",
       "      <td>angle bracket</td>\n",
       "      <td>3.00</td>\n",
       "    </tr>\n",
       "    <tr>\n",
       "      <th>1</th>\n",
       "      <td>3</td>\n",
       "      <td>100001</td>\n",
       "      <td>Simpson Strong-Tie 12-Gauge Angle</td>\n",
       "      <td>Not only do angles make joints stronger, they ...</td>\n",
       "      <td>l bracket</td>\n",
       "      <td>2.50</td>\n",
       "    </tr>\n",
       "    <tr>\n",
       "      <th>2</th>\n",
       "      <td>9</td>\n",
       "      <td>100002</td>\n",
       "      <td>BEHR Premium Textured DeckOver 1-gal. #SC-141 ...</td>\n",
       "      <td>BEHR Premium Textured DECKOVER is an innovativ...</td>\n",
       "      <td>deck over</td>\n",
       "      <td>3.00</td>\n",
       "    </tr>\n",
       "    <tr>\n",
       "      <th>3</th>\n",
       "      <td>16</td>\n",
       "      <td>100005</td>\n",
       "      <td>Delta Vero 1-Handle Shower Only Faucet Trim Ki...</td>\n",
       "      <td>Update your bathroom with the Delta Vero Singl...</td>\n",
       "      <td>rain shower head</td>\n",
       "      <td>2.33</td>\n",
       "    </tr>\n",
       "    <tr>\n",
       "      <th>4</th>\n",
       "      <td>17</td>\n",
       "      <td>100005</td>\n",
       "      <td>Delta Vero 1-Handle Shower Only Faucet Trim Ki...</td>\n",
       "      <td>Update your bathroom with the Delta Vero Singl...</td>\n",
       "      <td>shower only faucet</td>\n",
       "      <td>2.67</td>\n",
       "    </tr>\n",
       "  </tbody>\n",
       "</table>\n",
       "</div>"
      ],
      "text/plain": [
       "   id  product_uid                                      product_title  \\\n",
       "0   2       100001                  Simpson Strong-Tie 12-Gauge Angle   \n",
       "1   3       100001                  Simpson Strong-Tie 12-Gauge Angle   \n",
       "2   9       100002  BEHR Premium Textured DeckOver 1-gal. #SC-141 ...   \n",
       "3  16       100005  Delta Vero 1-Handle Shower Only Faucet Trim Ki...   \n",
       "4  17       100005  Delta Vero 1-Handle Shower Only Faucet Trim Ki...   \n",
       "\n",
       "                                 product_description         search_term  \\\n",
       "0  Not only do angles make joints stronger, they ...       angle bracket   \n",
       "1  Not only do angles make joints stronger, they ...           l bracket   \n",
       "2  BEHR Premium Textured DECKOVER is an innovativ...           deck over   \n",
       "3  Update your bathroom with the Delta Vero Singl...    rain shower head   \n",
       "4  Update your bathroom with the Delta Vero Singl...  shower only faucet   \n",
       "\n",
       "   relevance  \n",
       "0       3.00  \n",
       "1       2.50  \n",
       "2       3.00  \n",
       "3       2.33  \n",
       "4       2.67  "
      ]
     },
     "execution_count": 101,
     "metadata": {},
     "output_type": "execute_result"
    }
   ],
   "source": [
    "train.head()"
   ]
  },
  {
   "cell_type": "code",
   "execution_count": 102,
   "metadata": {
    "id": "RbcL8ToXvG4d"
   },
   "outputs": [],
   "source": [
    "test = pd.merge(test, product_descriptions, on=[\"product_uid\", \"product_uid\"])\n",
    "test.insert(3, 'product_description', test.pop('product_description'))\n",
    "test = pd.merge(test, solution, on=[\"id\", \"id\"])"
   ]
  },
  {
   "cell_type": "code",
   "execution_count": 103,
   "metadata": {
    "colab": {
     "base_uri": "https://localhost:8080/",
     "height": 206
    },
    "id": "KODFhJsOvG4e",
    "outputId": "08483eef-756d-40b7-ac6e-8b1199c996f9"
   },
   "outputs": [
    {
     "data": {
      "text/html": [
       "<div>\n",
       "<style scoped>\n",
       "    .dataframe tbody tr th:only-of-type {\n",
       "        vertical-align: middle;\n",
       "    }\n",
       "\n",
       "    .dataframe tbody tr th {\n",
       "        vertical-align: top;\n",
       "    }\n",
       "\n",
       "    .dataframe thead th {\n",
       "        text-align: right;\n",
       "    }\n",
       "</style>\n",
       "<table border=\"1\" class=\"dataframe\">\n",
       "  <thead>\n",
       "    <tr style=\"text-align: right;\">\n",
       "      <th></th>\n",
       "      <th>id</th>\n",
       "      <th>product_uid</th>\n",
       "      <th>product_title</th>\n",
       "      <th>product_description</th>\n",
       "      <th>search_term</th>\n",
       "      <th>relevance</th>\n",
       "      <th>Usage</th>\n",
       "    </tr>\n",
       "  </thead>\n",
       "  <tbody>\n",
       "    <tr>\n",
       "      <th>0</th>\n",
       "      <td>1</td>\n",
       "      <td>100001</td>\n",
       "      <td>Simpson Strong-Tie 12-Gauge Angle</td>\n",
       "      <td>Not only do angles make joints stronger, they ...</td>\n",
       "      <td>90 degree bracket</td>\n",
       "      <td>-1.00</td>\n",
       "      <td>Ignored</td>\n",
       "    </tr>\n",
       "    <tr>\n",
       "      <th>1</th>\n",
       "      <td>4</td>\n",
       "      <td>100001</td>\n",
       "      <td>Simpson Strong-Tie 12-Gauge Angle</td>\n",
       "      <td>Not only do angles make joints stronger, they ...</td>\n",
       "      <td>metal l brackets</td>\n",
       "      <td>2.33</td>\n",
       "      <td>Public</td>\n",
       "    </tr>\n",
       "    <tr>\n",
       "      <th>2</th>\n",
       "      <td>5</td>\n",
       "      <td>100001</td>\n",
       "      <td>Simpson Strong-Tie 12-Gauge Angle</td>\n",
       "      <td>Not only do angles make joints stronger, they ...</td>\n",
       "      <td>simpson sku able</td>\n",
       "      <td>2.33</td>\n",
       "      <td>Private</td>\n",
       "    </tr>\n",
       "    <tr>\n",
       "      <th>3</th>\n",
       "      <td>6</td>\n",
       "      <td>100001</td>\n",
       "      <td>Simpson Strong-Tie 12-Gauge Angle</td>\n",
       "      <td>Not only do angles make joints stronger, they ...</td>\n",
       "      <td>simpson strong  ties</td>\n",
       "      <td>2.67</td>\n",
       "      <td>Private</td>\n",
       "    </tr>\n",
       "    <tr>\n",
       "      <th>4</th>\n",
       "      <td>7</td>\n",
       "      <td>100001</td>\n",
       "      <td>Simpson Strong-Tie 12-Gauge Angle</td>\n",
       "      <td>Not only do angles make joints stronger, they ...</td>\n",
       "      <td>simpson strong tie hcc668</td>\n",
       "      <td>2.00</td>\n",
       "      <td>Public</td>\n",
       "    </tr>\n",
       "  </tbody>\n",
       "</table>\n",
       "</div>"
      ],
      "text/plain": [
       "   id  product_uid                      product_title  \\\n",
       "0   1       100001  Simpson Strong-Tie 12-Gauge Angle   \n",
       "1   4       100001  Simpson Strong-Tie 12-Gauge Angle   \n",
       "2   5       100001  Simpson Strong-Tie 12-Gauge Angle   \n",
       "3   6       100001  Simpson Strong-Tie 12-Gauge Angle   \n",
       "4   7       100001  Simpson Strong-Tie 12-Gauge Angle   \n",
       "\n",
       "                                 product_description  \\\n",
       "0  Not only do angles make joints stronger, they ...   \n",
       "1  Not only do angles make joints stronger, they ...   \n",
       "2  Not only do angles make joints stronger, they ...   \n",
       "3  Not only do angles make joints stronger, they ...   \n",
       "4  Not only do angles make joints stronger, they ...   \n",
       "\n",
       "                 search_term  relevance    Usage  \n",
       "0          90 degree bracket      -1.00  Ignored  \n",
       "1           metal l brackets       2.33   Public  \n",
       "2           simpson sku able       2.33  Private  \n",
       "3       simpson strong  ties       2.67  Private  \n",
       "4  simpson strong tie hcc668       2.00   Public  "
      ]
     },
     "execution_count": 103,
     "metadata": {},
     "output_type": "execute_result"
    }
   ],
   "source": [
    "test.head()"
   ]
  },
  {
   "cell_type": "code",
   "execution_count": 104,
   "metadata": {
    "id": "beZDVlGAvG4e"
   },
   "outputs": [],
   "source": [
    "test = test.drop(test[test.Usage == 'Ignored'].index)"
   ]
  },
  {
   "cell_type": "code",
   "execution_count": 105,
   "metadata": {
    "colab": {
     "base_uri": "https://localhost:8080/",
     "height": 206
    },
    "id": "qxMTvtVPvG4e",
    "outputId": "60ffaf3e-e442-4f0f-8809-b0614496e88d"
   },
   "outputs": [
    {
     "data": {
      "text/html": [
       "<div>\n",
       "<style scoped>\n",
       "    .dataframe tbody tr th:only-of-type {\n",
       "        vertical-align: middle;\n",
       "    }\n",
       "\n",
       "    .dataframe tbody tr th {\n",
       "        vertical-align: top;\n",
       "    }\n",
       "\n",
       "    .dataframe thead th {\n",
       "        text-align: right;\n",
       "    }\n",
       "</style>\n",
       "<table border=\"1\" class=\"dataframe\">\n",
       "  <thead>\n",
       "    <tr style=\"text-align: right;\">\n",
       "      <th></th>\n",
       "      <th>id</th>\n",
       "      <th>product_uid</th>\n",
       "      <th>product_title</th>\n",
       "      <th>product_description</th>\n",
       "      <th>search_term</th>\n",
       "      <th>relevance</th>\n",
       "      <th>Usage</th>\n",
       "    </tr>\n",
       "  </thead>\n",
       "  <tbody>\n",
       "    <tr>\n",
       "      <th>1</th>\n",
       "      <td>4</td>\n",
       "      <td>100001</td>\n",
       "      <td>Simpson Strong-Tie 12-Gauge Angle</td>\n",
       "      <td>Not only do angles make joints stronger, they ...</td>\n",
       "      <td>metal l brackets</td>\n",
       "      <td>2.33</td>\n",
       "      <td>Public</td>\n",
       "    </tr>\n",
       "    <tr>\n",
       "      <th>2</th>\n",
       "      <td>5</td>\n",
       "      <td>100001</td>\n",
       "      <td>Simpson Strong-Tie 12-Gauge Angle</td>\n",
       "      <td>Not only do angles make joints stronger, they ...</td>\n",
       "      <td>simpson sku able</td>\n",
       "      <td>2.33</td>\n",
       "      <td>Private</td>\n",
       "    </tr>\n",
       "    <tr>\n",
       "      <th>3</th>\n",
       "      <td>6</td>\n",
       "      <td>100001</td>\n",
       "      <td>Simpson Strong-Tie 12-Gauge Angle</td>\n",
       "      <td>Not only do angles make joints stronger, they ...</td>\n",
       "      <td>simpson strong  ties</td>\n",
       "      <td>2.67</td>\n",
       "      <td>Private</td>\n",
       "    </tr>\n",
       "    <tr>\n",
       "      <th>4</th>\n",
       "      <td>7</td>\n",
       "      <td>100001</td>\n",
       "      <td>Simpson Strong-Tie 12-Gauge Angle</td>\n",
       "      <td>Not only do angles make joints stronger, they ...</td>\n",
       "      <td>simpson strong tie hcc668</td>\n",
       "      <td>2.00</td>\n",
       "      <td>Public</td>\n",
       "    </tr>\n",
       "    <tr>\n",
       "      <th>6</th>\n",
       "      <td>10</td>\n",
       "      <td>100003</td>\n",
       "      <td>STERLING Ensemble 33-1/4 in. x 60 in. x 75-1/4...</td>\n",
       "      <td>Classic architecture meets contemporary design...</td>\n",
       "      <td>bath and shower kit</td>\n",
       "      <td>2.67</td>\n",
       "      <td>Private</td>\n",
       "    </tr>\n",
       "  </tbody>\n",
       "</table>\n",
       "</div>"
      ],
      "text/plain": [
       "   id  product_uid                                      product_title  \\\n",
       "1   4       100001                  Simpson Strong-Tie 12-Gauge Angle   \n",
       "2   5       100001                  Simpson Strong-Tie 12-Gauge Angle   \n",
       "3   6       100001                  Simpson Strong-Tie 12-Gauge Angle   \n",
       "4   7       100001                  Simpson Strong-Tie 12-Gauge Angle   \n",
       "6  10       100003  STERLING Ensemble 33-1/4 in. x 60 in. x 75-1/4...   \n",
       "\n",
       "                                 product_description  \\\n",
       "1  Not only do angles make joints stronger, they ...   \n",
       "2  Not only do angles make joints stronger, they ...   \n",
       "3  Not only do angles make joints stronger, they ...   \n",
       "4  Not only do angles make joints stronger, they ...   \n",
       "6  Classic architecture meets contemporary design...   \n",
       "\n",
       "                 search_term  relevance    Usage  \n",
       "1           metal l brackets       2.33   Public  \n",
       "2           simpson sku able       2.33  Private  \n",
       "3       simpson strong  ties       2.67  Private  \n",
       "4  simpson strong tie hcc668       2.00   Public  \n",
       "6        bath and shower kit       2.67  Private  "
      ]
     },
     "execution_count": 105,
     "metadata": {},
     "output_type": "execute_result"
    }
   ],
   "source": [
    "test.head()"
   ]
  },
  {
   "cell_type": "markdown",
   "metadata": {
    "id": "zXZvMp0uvG4e"
   },
   "source": [
    "now that we see the data is properly merged and the index count is valid we can save the final train and test data without the index columns."
   ]
  },
  {
   "cell_type": "code",
   "execution_count": 106,
   "metadata": {
    "id": "4UJdwY1ivG4f"
   },
   "outputs": [],
   "source": [
    "train.to_csv('train_data.csv', index=False)\n",
    "test.to_csv('test_data.csv', index=False)"
   ]
  },
  {
   "cell_type": "code",
   "execution_count": 107,
   "metadata": {
    "id": "o8hVYDI8vG4f"
   },
   "outputs": [],
   "source": [
    "train_data = pd.read_csv('train_data.csv')\n",
    "test_data = pd.read_csv('test_data.csv')"
   ]
  },
  {
   "cell_type": "code",
   "execution_count": 108,
   "metadata": {
    "colab": {
     "base_uri": "https://localhost:8080/",
     "height": 206
    },
    "id": "rBx0ClpfvG4f",
    "outputId": "89d80324-aad0-446b-d65b-73969d5900af"
   },
   "outputs": [
    {
     "data": {
      "text/html": [
       "<div>\n",
       "<style scoped>\n",
       "    .dataframe tbody tr th:only-of-type {\n",
       "        vertical-align: middle;\n",
       "    }\n",
       "\n",
       "    .dataframe tbody tr th {\n",
       "        vertical-align: top;\n",
       "    }\n",
       "\n",
       "    .dataframe thead th {\n",
       "        text-align: right;\n",
       "    }\n",
       "</style>\n",
       "<table border=\"1\" class=\"dataframe\">\n",
       "  <thead>\n",
       "    <tr style=\"text-align: right;\">\n",
       "      <th></th>\n",
       "      <th>id</th>\n",
       "      <th>product_uid</th>\n",
       "      <th>product_title</th>\n",
       "      <th>product_description</th>\n",
       "      <th>search_term</th>\n",
       "      <th>relevance</th>\n",
       "    </tr>\n",
       "  </thead>\n",
       "  <tbody>\n",
       "    <tr>\n",
       "      <th>0</th>\n",
       "      <td>2</td>\n",
       "      <td>100001</td>\n",
       "      <td>Simpson Strong-Tie 12-Gauge Angle</td>\n",
       "      <td>Not only do angles make joints stronger, they ...</td>\n",
       "      <td>angle bracket</td>\n",
       "      <td>3.00</td>\n",
       "    </tr>\n",
       "    <tr>\n",
       "      <th>1</th>\n",
       "      <td>3</td>\n",
       "      <td>100001</td>\n",
       "      <td>Simpson Strong-Tie 12-Gauge Angle</td>\n",
       "      <td>Not only do angles make joints stronger, they ...</td>\n",
       "      <td>l bracket</td>\n",
       "      <td>2.50</td>\n",
       "    </tr>\n",
       "    <tr>\n",
       "      <th>2</th>\n",
       "      <td>9</td>\n",
       "      <td>100002</td>\n",
       "      <td>BEHR Premium Textured DeckOver 1-gal. #SC-141 ...</td>\n",
       "      <td>BEHR Premium Textured DECKOVER is an innovativ...</td>\n",
       "      <td>deck over</td>\n",
       "      <td>3.00</td>\n",
       "    </tr>\n",
       "    <tr>\n",
       "      <th>3</th>\n",
       "      <td>16</td>\n",
       "      <td>100005</td>\n",
       "      <td>Delta Vero 1-Handle Shower Only Faucet Trim Ki...</td>\n",
       "      <td>Update your bathroom with the Delta Vero Singl...</td>\n",
       "      <td>rain shower head</td>\n",
       "      <td>2.33</td>\n",
       "    </tr>\n",
       "    <tr>\n",
       "      <th>4</th>\n",
       "      <td>17</td>\n",
       "      <td>100005</td>\n",
       "      <td>Delta Vero 1-Handle Shower Only Faucet Trim Ki...</td>\n",
       "      <td>Update your bathroom with the Delta Vero Singl...</td>\n",
       "      <td>shower only faucet</td>\n",
       "      <td>2.67</td>\n",
       "    </tr>\n",
       "  </tbody>\n",
       "</table>\n",
       "</div>"
      ],
      "text/plain": [
       "   id  product_uid                                      product_title  \\\n",
       "0   2       100001                  Simpson Strong-Tie 12-Gauge Angle   \n",
       "1   3       100001                  Simpson Strong-Tie 12-Gauge Angle   \n",
       "2   9       100002  BEHR Premium Textured DeckOver 1-gal. #SC-141 ...   \n",
       "3  16       100005  Delta Vero 1-Handle Shower Only Faucet Trim Ki...   \n",
       "4  17       100005  Delta Vero 1-Handle Shower Only Faucet Trim Ki...   \n",
       "\n",
       "                                 product_description         search_term  \\\n",
       "0  Not only do angles make joints stronger, they ...       angle bracket   \n",
       "1  Not only do angles make joints stronger, they ...           l bracket   \n",
       "2  BEHR Premium Textured DECKOVER is an innovativ...           deck over   \n",
       "3  Update your bathroom with the Delta Vero Singl...    rain shower head   \n",
       "4  Update your bathroom with the Delta Vero Singl...  shower only faucet   \n",
       "\n",
       "   relevance  \n",
       "0       3.00  \n",
       "1       2.50  \n",
       "2       3.00  \n",
       "3       2.33  \n",
       "4       2.67  "
      ]
     },
     "execution_count": 108,
     "metadata": {},
     "output_type": "execute_result"
    }
   ],
   "source": [
    "train_data.head()"
   ]
  },
  {
   "cell_type": "markdown",
   "metadata": {
    "id": "5gk8NW2EvG4g"
   },
   "source": [
    "lets explore the training and test data"
   ]
  },
  {
   "cell_type": "code",
   "execution_count": 109,
   "metadata": {
    "colab": {
     "base_uri": "https://localhost:8080/"
    },
    "id": "KNOQfBesvG4g",
    "outputId": "3a14b31a-2208-414c-d1a3-25fe2be885c5"
   },
   "outputs": [
    {
     "name": "stdout",
     "output_type": "stream",
     "text": [
      "train data length: 74067\n",
      "test data length: 112067\n"
     ]
    }
   ],
   "source": [
    "print('train data length: ' + str(len(train_data)))\n",
    "print('test data length: ' + str(len(test_data)))"
   ]
  },
  {
   "cell_type": "code",
   "execution_count": 110,
   "metadata": {
    "colab": {
     "base_uri": "https://localhost:8080/"
    },
    "id": "wf-IcsD7vG4g",
    "outputId": "ffb3f0db-61ec-4af7-9dd5-35cdf85d99d6"
   },
   "outputs": [
    {
     "data": {
      "text/plain": [
       "id                                                                     9\n",
       "product_uid                                                       100002\n",
       "product_title          BEHR Premium Textured DeckOver 1-gal. #SC-141 ...\n",
       "product_description    BEHR Premium Textured DECKOVER is an innovativ...\n",
       "search_term                                                    deck over\n",
       "relevance                                                            3.0\n",
       "Name: 2, dtype: object"
      ]
     },
     "execution_count": 110,
     "metadata": {},
     "output_type": "execute_result"
    }
   ],
   "source": [
    "train_data.iloc[2]"
   ]
  },
  {
   "cell_type": "code",
   "execution_count": 111,
   "metadata": {
    "colab": {
     "base_uri": "https://localhost:8080/"
    },
    "id": "3voxGzxGvG4g",
    "outputId": "3511fda7-533b-441c-fbab-b4f3cbf91578"
   },
   "outputs": [
    {
     "name": "stdout",
     "output_type": "stream",
     "text": [
      "Average character length in description:\n"
     ]
    },
    {
     "data": {
      "text/plain": [
       "885.663750388162"
      ]
     },
     "execution_count": 111,
     "metadata": {},
     "output_type": "execute_result"
    }
   ],
   "source": [
    "print('Average character length in description:')\n",
    "train_data['product_description'].apply(len).mean()"
   ]
  },
  {
   "cell_type": "code",
   "execution_count": 112,
   "metadata": {
    "colab": {
     "base_uri": "https://localhost:8080/"
    },
    "id": "RwgdATcmvG4h",
    "outputId": "c6086f3a-075a-491b-9ac4-ef5110db7023"
   },
   "outputs": [
    {
     "name": "stdout",
     "output_type": "stream",
     "text": [
      "Average word length in description:\n"
     ]
    },
    {
     "data": {
      "text/plain": [
       "133.72566730122728"
      ]
     },
     "execution_count": 112,
     "metadata": {},
     "output_type": "execute_result"
    }
   ],
   "source": [
    "print('Average word length in description:')\n",
    "train_data['product_description'].apply(str).apply(lambda x: x.split()).apply(len).mean()"
   ]
  },
  {
   "cell_type": "code",
   "execution_count": 113,
   "metadata": {
    "colab": {
     "base_uri": "https://localhost:8080/",
     "height": 35
    },
    "id": "OKtJsw3FvG4h",
    "outputId": "1d6dec69-4274-4acc-dc98-29abb40fb292"
   },
   "outputs": [
    {
     "data": {
      "text/plain": [
       "'Not only do angles make joints stronger, they also provide more consistent, straight corners. Simpso'"
      ]
     },
     "execution_count": 113,
     "metadata": {},
     "output_type": "execute_result"
    }
   ],
   "source": [
    "train_data.iloc[1]['product_description'][:100]"
   ]
  },
  {
   "cell_type": "code",
   "execution_count": 114,
   "metadata": {
    "colab": {
     "base_uri": "https://localhost:8080/"
    },
    "id": "x8DGjJRpvG4h",
    "outputId": "74b23a9e-f71b-4f1a-91fa-b791b920ef59"
   },
   "outputs": [
    {
     "data": {
      "text/plain": [
       "2.381633791027016"
      ]
     },
     "execution_count": 114,
     "metadata": {},
     "output_type": "execute_result"
    }
   ],
   "source": [
    "train_data['relevance'].mean()"
   ]
  },
  {
   "cell_type": "code",
   "execution_count": 115,
   "metadata": {
    "colab": {
     "base_uri": "https://localhost:8080/"
    },
    "id": "SlY6oj4avG4h",
    "outputId": "6c5791bd-84b5-4856-e234-4ef94c867ede"
   },
   "outputs": [
    {
     "data": {
      "text/plain": [
       "3.00    19125\n",
       "2.33    16060\n",
       "2.67    15202\n",
       "2.00    11730\n",
       "1.67     6780\n",
       "1.33     3006\n",
       "1.00     2105\n",
       "2.50       19\n",
       "2.75       11\n",
       "2.25       11\n",
       "1.75        9\n",
       "1.50        5\n",
       "1.25        4\n",
       "Name: relevance, dtype: int64"
      ]
     },
     "execution_count": 115,
     "metadata": {},
     "output_type": "execute_result"
    }
   ],
   "source": [
    "train_data['relevance'].value_counts()"
   ]
  },
  {
   "cell_type": "code",
   "execution_count": 116,
   "metadata": {
    "colab": {
     "base_uri": "https://localhost:8080/",
     "height": 300
    },
    "id": "zI5i2ZTVvG4h",
    "outputId": "dd55ce65-e747-4f3d-9a90-4a98dbe00454"
   },
   "outputs": [
    {
     "data": {
      "text/plain": [
       "<AxesSubplot:xlabel='relevance', ylabel='Count'>"
      ]
     },
     "execution_count": 116,
     "metadata": {},
     "output_type": "execute_result"
    },
    {
     "data": {
      "image/png": "[encoded data removed]",
      "text/plain": [
       "<Figure size 432x288 with 1 Axes>"
      ]
     },
     "metadata": {
      "needs_background": "light"
     },
     "output_type": "display_data"
    }
   ],
   "source": [
    "import seaborn as sns\n",
    "sns.histplot(train_data['relevance'], color=\"dodgerblue\")\n",
    "sns.histplot(test_data['relevance'], color=\"deeppink\")"
   ]
  },
  {
   "cell_type": "markdown",
   "metadata": {
    "id": "67hSwtpAZQFs"
   },
   "source": [
    "## train validation split"
   ]
  },
  {
   "cell_type": "code",
   "execution_count": 117,
   "metadata": {
    "id": "8zTc_DL0ZQFs"
   },
   "outputs": [],
   "source": [
    "train_df,val_df = train_test_split(train_data, test_size=0.2)"
   ]
  },
  {
   "cell_type": "code",
   "execution_count": 118,
   "metadata": {
    "id": "nhw0qtuBZQFs"
   },
   "outputs": [],
   "source": [
    "train_df = train_df.reset_index(drop=True)"
   ]
  },
  {
   "cell_type": "code",
   "execution_count": 119,
   "metadata": {
    "id": "oab90GU3ZQFs"
   },
   "outputs": [],
   "source": [
    "val_df= val_df.reset_index(drop=True)"
   ]
  },
  {
   "cell_type": "code",
   "execution_count": 120,
   "metadata": {
    "colab": {
     "base_uri": "https://localhost:8080/",
     "height": 424
    },
    "id": "U-nvHocFZQFs",
    "outputId": "81354c22-7d18-40ae-b43d-eda3ca721e17"
   },
   "outputs": [
    {
     "data": {
      "text/html": [
       "<div>\n",
       "<style scoped>\n",
       "    .dataframe tbody tr th:only-of-type {\n",
       "        vertical-align: middle;\n",
       "    }\n",
       "\n",
       "    .dataframe tbody tr th {\n",
       "        vertical-align: top;\n",
       "    }\n",
       "\n",
       "    .dataframe thead th {\n",
       "        text-align: right;\n",
       "    }\n",
       "</style>\n",
       "<table border=\"1\" class=\"dataframe\">\n",
       "  <thead>\n",
       "    <tr style=\"text-align: right;\">\n",
       "      <th></th>\n",
       "      <th>id</th>\n",
       "      <th>product_uid</th>\n",
       "      <th>product_title</th>\n",
       "      <th>product_description</th>\n",
       "      <th>search_term</th>\n",
       "      <th>relevance</th>\n",
       "    </tr>\n",
       "  </thead>\n",
       "  <tbody>\n",
       "    <tr>\n",
       "      <th>0</th>\n",
       "      <td>192065</td>\n",
       "      <td>183040</td>\n",
       "      <td>George Foreman Indoor/Outdoor Electric Grill</td>\n",
       "      <td>Versatility is in the name. Easy conversion fr...</td>\n",
       "      <td>outdoor baba grill</td>\n",
       "      <td>2.00</td>\n",
       "    </tr>\n",
       "    <tr>\n",
       "      <th>1</th>\n",
       "      <td>365</td>\n",
       "      <td>100060</td>\n",
       "      <td>RDI Porch and Newel 5 in. x 5 in. x 108 in. Vi...</td>\n",
       "      <td>Add elegance and sophistication to any porch o...</td>\n",
       "      <td>post</td>\n",
       "      <td>2.33</td>\n",
       "    </tr>\n",
       "    <tr>\n",
       "      <th>2</th>\n",
       "      <td>97877</td>\n",
       "      <td>130529</td>\n",
       "      <td>Builders Edge 15 in. x 67 in. Raised Panel Vin...</td>\n",
       "      <td>Builders Edge decorative 15 in. x 67 in. Raise...</td>\n",
       "      <td>shutter exterior movable</td>\n",
       "      <td>2.33</td>\n",
       "    </tr>\n",
       "    <tr>\n",
       "      <th>3</th>\n",
       "      <td>94513</td>\n",
       "      <td>129147</td>\n",
       "      <td>Classic Accessories Veranda 78 in. Patio Day C...</td>\n",
       "      <td>The Veranda collection combines style and func...</td>\n",
       "      <td>chaise</td>\n",
       "      <td>2.67</td>\n",
       "    </tr>\n",
       "    <tr>\n",
       "      <th>4</th>\n",
       "      <td>94196</td>\n",
       "      <td>129019</td>\n",
       "      <td>Edsal 48 in. W x 30 in. D Workbench with Storage</td>\n",
       "      <td>Make a valuable and practical addition to your...</td>\n",
       "      <td>edsal workbench</td>\n",
       "      <td>3.00</td>\n",
       "    </tr>\n",
       "    <tr>\n",
       "      <th>...</th>\n",
       "      <td>...</td>\n",
       "      <td>...</td>\n",
       "      <td>...</td>\n",
       "      <td>...</td>\n",
       "      <td>...</td>\n",
       "      <td>...</td>\n",
       "    </tr>\n",
       "    <tr>\n",
       "      <th>59248</th>\n",
       "      <td>126561</td>\n",
       "      <td>143714</td>\n",
       "      <td>BOEN 4 in. x 4 in. Wall Repair Patch</td>\n",
       "      <td>FiflexMesh Wall repair patch is another DIY it...</td>\n",
       "      <td>repair patch</td>\n",
       "      <td>3.00</td>\n",
       "    </tr>\n",
       "    <tr>\n",
       "      <th>59249</th>\n",
       "      <td>137043</td>\n",
       "      <td>149033</td>\n",
       "      <td>1/2 in. x 2 ft. x 4 ft. PureBond Maple Plywood...</td>\n",
       "      <td>PureBond plywood project panels are a convenie...</td>\n",
       "      <td>maple lumber</td>\n",
       "      <td>2.67</td>\n",
       "    </tr>\n",
       "    <tr>\n",
       "      <th>59250</th>\n",
       "      <td>7637</td>\n",
       "      <td>101291</td>\n",
       "      <td>Cub Cadet XT1 Enduro Series GT 50 in. 25 HP V-...</td>\n",
       "      <td>The Cub Cadet XT1 50 in. riding garden tractor...</td>\n",
       "      <td>lawn tractor</td>\n",
       "      <td>3.00</td>\n",
       "    </tr>\n",
       "    <tr>\n",
       "      <th>59251</th>\n",
       "      <td>135375</td>\n",
       "      <td>148165</td>\n",
       "      <td>Philips 60W Equivalent Daylight A19 LED Light ...</td>\n",
       "      <td>Philips LED A-shape light bulbs are a smart al...</td>\n",
       "      <td>phillits</td>\n",
       "      <td>2.67</td>\n",
       "    </tr>\n",
       "    <tr>\n",
       "      <th>59252</th>\n",
       "      <td>101628</td>\n",
       "      <td>132130</td>\n",
       "      <td>MOEN Eva 1-Handle Posi-Temp Trim Kit, Showerhe...</td>\n",
       "      <td>Sometimes less is more, and that's the case wi...</td>\n",
       "      <td>eva moen set</td>\n",
       "      <td>3.00</td>\n",
       "    </tr>\n",
       "  </tbody>\n",
       "</table>\n",
       "<p>59253 rows × 6 columns</p>\n",
       "</div>"
      ],
      "text/plain": [
       "           id  product_uid                                      product_title  \\\n",
       "0      192065       183040       George Foreman Indoor/Outdoor Electric Grill   \n",
       "1         365       100060  RDI Porch and Newel 5 in. x 5 in. x 108 in. Vi...   \n",
       "2       97877       130529  Builders Edge 15 in. x 67 in. Raised Panel Vin...   \n",
       "3       94513       129147  Classic Accessories Veranda 78 in. Patio Day C...   \n",
       "4       94196       129019   Edsal 48 in. W x 30 in. D Workbench with Storage   \n",
       "...       ...          ...                                                ...   \n",
       "59248  126561       143714               BOEN 4 in. x 4 in. Wall Repair Patch   \n",
       "59249  137043       149033  1/2 in. x 2 ft. x 4 ft. PureBond Maple Plywood...   \n",
       "59250    7637       101291  Cub Cadet XT1 Enduro Series GT 50 in. 25 HP V-...   \n",
       "59251  135375       148165  Philips 60W Equivalent Daylight A19 LED Light ...   \n",
       "59252  101628       132130  MOEN Eva 1-Handle Posi-Temp Trim Kit, Showerhe...   \n",
       "\n",
       "                                     product_description  \\\n",
       "0      Versatility is in the name. Easy conversion fr...   \n",
       "1      Add elegance and sophistication to any porch o...   \n",
       "2      Builders Edge decorative 15 in. x 67 in. Raise...   \n",
       "3      The Veranda collection combines style and func...   \n",
       "4      Make a valuable and practical addition to your...   \n",
       "...                                                  ...   \n",
       "59248  FiflexMesh Wall repair patch is another DIY it...   \n",
       "59249  PureBond plywood project panels are a convenie...   \n",
       "59250  The Cub Cadet XT1 50 in. riding garden tractor...   \n",
       "59251  Philips LED A-shape light bulbs are a smart al...   \n",
       "59252  Sometimes less is more, and that's the case wi...   \n",
       "\n",
       "                    search_term  relevance  \n",
       "0            outdoor baba grill       2.00  \n",
       "1                          post       2.33  \n",
       "2      shutter exterior movable       2.33  \n",
       "3                        chaise       2.67  \n",
       "4               edsal workbench       3.00  \n",
       "...                         ...        ...  \n",
       "59248              repair patch       3.00  \n",
       "59249              maple lumber       2.67  \n",
       "59250              lawn tractor       3.00  \n",
       "59251                  phillits       2.67  \n",
       "59252              eva moen set       3.00  \n",
       "\n",
       "[59253 rows x 6 columns]"
      ]
     },
     "execution_count": 120,
     "metadata": {},
     "output_type": "execute_result"
    }
   ],
   "source": [
    "train_df"
   ]
  },
  {
   "cell_type": "code",
   "execution_count": 121,
   "metadata": {
    "colab": {
     "base_uri": "https://localhost:8080/",
     "height": 424
    },
    "id": "1M8vX7vnZQFt",
    "outputId": "d5b173c2-8184-47b8-a525-04d83239c8ba"
   },
   "outputs": [
    {
     "data": {
      "text/html": [
       "<div>\n",
       "<style scoped>\n",
       "    .dataframe tbody tr th:only-of-type {\n",
       "        vertical-align: middle;\n",
       "    }\n",
       "\n",
       "    .dataframe tbody tr th {\n",
       "        vertical-align: top;\n",
       "    }\n",
       "\n",
       "    .dataframe thead th {\n",
       "        text-align: right;\n",
       "    }\n",
       "</style>\n",
       "<table border=\"1\" class=\"dataframe\">\n",
       "  <thead>\n",
       "    <tr style=\"text-align: right;\">\n",
       "      <th></th>\n",
       "      <th>id</th>\n",
       "      <th>product_uid</th>\n",
       "      <th>product_title</th>\n",
       "      <th>product_description</th>\n",
       "      <th>search_term</th>\n",
       "      <th>relevance</th>\n",
       "    </tr>\n",
       "  </thead>\n",
       "  <tbody>\n",
       "    <tr>\n",
       "      <th>0</th>\n",
       "      <td>179574</td>\n",
       "      <td>174227</td>\n",
       "      <td>Speedi-Products 4 in. Aluminum Flush Roof Cap ...</td>\n",
       "      <td>Speedi-Products 4 in. Aluminum flush roof cap ...</td>\n",
       "      <td>4 pvc vent screen</td>\n",
       "      <td>2.67</td>\n",
       "    </tr>\n",
       "    <tr>\n",
       "      <th>1</th>\n",
       "      <td>152833</td>\n",
       "      <td>157675</td>\n",
       "      <td>Lutron Credenza 300-Watt Plug-In Lamp Dimmer -...</td>\n",
       "      <td>Use the Lutron Credenza 300-Watt Lamp Dimmer t...</td>\n",
       "      <td>credenza</td>\n",
       "      <td>3.00</td>\n",
       "    </tr>\n",
       "    <tr>\n",
       "      <th>2</th>\n",
       "      <td>47956</td>\n",
       "      <td>112033</td>\n",
       "      <td>Ohio Steel Professional Grade 42 in. 18 cu. ft...</td>\n",
       "      <td>This Professional Grade Lawn Sweeper features ...</td>\n",
       "      <td>lawn sweepers</td>\n",
       "      <td>3.00</td>\n",
       "    </tr>\n",
       "    <tr>\n",
       "      <th>3</th>\n",
       "      <td>15457</td>\n",
       "      <td>102717</td>\n",
       "      <td>ClosetMaid 73-1/4 in. H x 32 in. W x 18-3/4 in...</td>\n",
       "      <td>The ClosetMaid 32 in. Garage Cabinet has a dur...</td>\n",
       "      <td>door knob self locking</td>\n",
       "      <td>2.00</td>\n",
       "    </tr>\n",
       "    <tr>\n",
       "      <th>4</th>\n",
       "      <td>23799</td>\n",
       "      <td>104691</td>\n",
       "      <td>Ryobi ONE+ 18-Volt Lithium-Ion Ultimate Combo ...</td>\n",
       "      <td>Seldom has a comprehensive cordless tool kit b...</td>\n",
       "      <td>porter-cable 4-tool 18-volt nickel cordless</td>\n",
       "      <td>2.67</td>\n",
       "    </tr>\n",
       "    <tr>\n",
       "      <th>...</th>\n",
       "      <td>...</td>\n",
       "      <td>...</td>\n",
       "      <td>...</td>\n",
       "      <td>...</td>\n",
       "      <td>...</td>\n",
       "      <td>...</td>\n",
       "    </tr>\n",
       "    <tr>\n",
       "      <th>14809</th>\n",
       "      <td>147322</td>\n",
       "      <td>154564</td>\n",
       "      <td>Feit Electric 100W Equivalent Blue PAR38 CFL F...</td>\n",
       "      <td>This product is a 12 pack of 20 Watt Par38 col...</td>\n",
       "      <td>par38 cfl</td>\n",
       "      <td>2.67</td>\n",
       "    </tr>\n",
       "    <tr>\n",
       "      <th>14810</th>\n",
       "      <td>147731</td>\n",
       "      <td>154779</td>\n",
       "      <td>Speedi-Products 3 in. Plastic Wide Mouth Exhau...</td>\n",
       "      <td>Speedi-Products 3 in. White plastic wide mouth...</td>\n",
       "      <td>kitchen wall plastic vent</td>\n",
       "      <td>2.33</td>\n",
       "    </tr>\n",
       "    <tr>\n",
       "      <th>14811</th>\n",
       "      <td>172993</td>\n",
       "      <td>169857</td>\n",
       "      <td>VELUX 4 - 6 ft. Telescoping 7-Hook Control Rod...</td>\n",
       "      <td>The ZXT 200 control rod is used to operate out...</td>\n",
       "      <td>skylight opening rods</td>\n",
       "      <td>2.33</td>\n",
       "    </tr>\n",
       "    <tr>\n",
       "      <th>14812</th>\n",
       "      <td>155641</td>\n",
       "      <td>159278</td>\n",
       "      <td>Milwaukee Black Oxide Drill Bit Set (14-Piece)</td>\n",
       "      <td>The Milwaukee 48-89-2800 (14-Piece) Black Oxid...</td>\n",
       "      <td>milwaukee drill bits</td>\n",
       "      <td>3.00</td>\n",
       "    </tr>\n",
       "    <tr>\n",
       "      <th>14813</th>\n",
       "      <td>30658</td>\n",
       "      <td>106678</td>\n",
       "      <td>GE Z-Wave 600-Watt Outdoor Plug-In On/Off Modu...</td>\n",
       "      <td>Transform any home into a smart home with the ...</td>\n",
       "      <td>ge watt miser f35cw-u-m</td>\n",
       "      <td>1.00</td>\n",
       "    </tr>\n",
       "  </tbody>\n",
       "</table>\n",
       "<p>14814 rows × 6 columns</p>\n",
       "</div>"
      ],
      "text/plain": [
       "           id  product_uid                                      product_title  \\\n",
       "0      179574       174227  Speedi-Products 4 in. Aluminum Flush Roof Cap ...   \n",
       "1      152833       157675  Lutron Credenza 300-Watt Plug-In Lamp Dimmer -...   \n",
       "2       47956       112033  Ohio Steel Professional Grade 42 in. 18 cu. ft...   \n",
       "3       15457       102717  ClosetMaid 73-1/4 in. H x 32 in. W x 18-3/4 in...   \n",
       "4       23799       104691  Ryobi ONE+ 18-Volt Lithium-Ion Ultimate Combo ...   \n",
       "...       ...          ...                                                ...   \n",
       "14809  147322       154564  Feit Electric 100W Equivalent Blue PAR38 CFL F...   \n",
       "14810  147731       154779  Speedi-Products 3 in. Plastic Wide Mouth Exhau...   \n",
       "14811  172993       169857  VELUX 4 - 6 ft. Telescoping 7-Hook Control Rod...   \n",
       "14812  155641       159278     Milwaukee Black Oxide Drill Bit Set (14-Piece)   \n",
       "14813   30658       106678  GE Z-Wave 600-Watt Outdoor Plug-In On/Off Modu...   \n",
       "\n",
       "                                     product_description  \\\n",
       "0      Speedi-Products 4 in. Aluminum flush roof cap ...   \n",
       "1      Use the Lutron Credenza 300-Watt Lamp Dimmer t...   \n",
       "2      This Professional Grade Lawn Sweeper features ...   \n",
       "3      The ClosetMaid 32 in. Garage Cabinet has a dur...   \n",
       "4      Seldom has a comprehensive cordless tool kit b...   \n",
       "...                                                  ...   \n",
       "14809  This product is a 12 pack of 20 Watt Par38 col...   \n",
       "14810  Speedi-Products 3 in. White plastic wide mouth...   \n",
       "14811  The ZXT 200 control rod is used to operate out...   \n",
       "14812  The Milwaukee 48-89-2800 (14-Piece) Black Oxid...   \n",
       "14813  Transform any home into a smart home with the ...   \n",
       "\n",
       "                                       search_term  relevance  \n",
       "0                                4 pvc vent screen       2.67  \n",
       "1                                         credenza       3.00  \n",
       "2                                    lawn sweepers       3.00  \n",
       "3                           door knob self locking       2.00  \n",
       "4      porter-cable 4-tool 18-volt nickel cordless       2.67  \n",
       "...                                            ...        ...  \n",
       "14809                                    par38 cfl       2.67  \n",
       "14810                    kitchen wall plastic vent       2.33  \n",
       "14811                        skylight opening rods       2.33  \n",
       "14812                         milwaukee drill bits       3.00  \n",
       "14813                      ge watt miser f35cw-u-m       1.00  \n",
       "\n",
       "[14814 rows x 6 columns]"
      ]
     },
     "execution_count": 121,
     "metadata": {},
     "output_type": "execute_result"
    }
   ],
   "source": [
    "val_df"
   ]
  },
  {
   "cell_type": "markdown",
   "metadata": {},
   "source": [
    "## Dictionary with results"
   ]
  },
  {
   "cell_type": "code",
   "execution_count": 122,
   "metadata": {},
   "outputs": [],
   "source": [
    "simaese_char = []\n",
    "naive_benchmark = []\n",
    "char_feature_extractor_KNN = []\n",
    "char_feature_extractor_XGB = []\n",
    "simaese_word = []\n",
    "word_feature_extractor_KNN = []\n",
    "word_feature_extractor_XGB = []"
   ]
  },
  {
   "cell_type": "markdown",
   "metadata": {
    "id": "FTkmTDvEvG4i"
   },
   "source": [
    "## 1.b Character Level LSTM"
   ]
  },
  {
   "cell_type": "markdown",
   "metadata": {
    "id": "V6f_Hqn5ZQFt"
   },
   "source": [
    "### Character sequences"
   ]
  },
  {
   "cell_type": "code",
   "execution_count": 123,
   "metadata": {
    "id": "t7got7lOvG4j"
   },
   "outputs": [],
   "source": [
    "characters = set()\n",
    "product_ids = set()\n",
    "\n",
    "\n",
    "for index, row in train_df.iterrows():\n",
    "    if row['product_uid'] not in product_ids:\n",
    "        for char in row['product_description'].lower():\n",
    "            characters.add(char)\n",
    "        for char in row['search_term'].lower():\n",
    "            characters.add(char)\n",
    "    for char in row['product_title'].lower():\n",
    "        characters.add(char)\n",
    "        \n",
    "        \n",
    "\n",
    "for index, row in val_df.iterrows():\n",
    "    if row['product_uid'] not in product_ids:\n",
    "        for char in row['product_description'].lower():\n",
    "            characters.add(char)\n",
    "        for char in row['search_term'].lower():\n",
    "            characters.add(char)\n",
    "    for char in row['product_title'].lower():\n",
    "        characters.add(char)\n",
    "        \n",
    "for index, row in test_data.iterrows():\n",
    "    if row['product_uid'] not in product_ids:\n",
    "        for char in row['product_description'].lower():\n",
    "            characters.add(char)\n",
    "        for char in row['search_term'].lower():\n",
    "            characters.add(char)\n",
    "    for char in row['product_title'].lower():\n",
    "        characters.add(char)\n"
   ]
  },
  {
   "cell_type": "code",
   "execution_count": 124,
   "metadata": {
    "id": "tmP1-EHNvG4j"
   },
   "outputs": [],
   "source": [
    "import string\n",
    "alpha_dict = dict()\n",
    "\n",
    "for i, char in enumerate(string.ascii_lowercase):\n",
    "    alpha_dict[char] = i + 1\n",
    "\n",
    "for i, char in enumerate(sorted(characters)):\n",
    "    if char not in alpha_dict:\n",
    "        alpha_dict[char] = i + 27"
   ]
  },
  {
   "cell_type": "code",
   "execution_count": 125,
   "metadata": {
    "colab": {
     "base_uri": "https://localhost:8080/"
    },
    "id": "SZu8vuqWvG4j",
    "outputId": "3ecd6d61-2ba2-466b-8885-248d73b01144"
   },
   "outputs": [
    {
     "name": "stdout",
     "output_type": "stream",
     "text": [
      "{'a': 1, 'b': 2, 'c': 3, 'd': 4, 'e': 5, 'f': 6, 'g': 7, 'h': 8, 'i': 9, 'j': 10, 'k': 11, 'l': 12, 'm': 13, 'n': 14, 'o': 15, 'p': 16, 'q': 17, 'r': 18, 's': 19, 't': 20, 'u': 21, 'v': 22, 'w': 23, 'x': 24, 'y': 25, 'z': 26, ' ': 27, '!': 28, '\"': 29, '#': 30, '$': 31, '%': 32, '&': 33, \"'\": 34, '(': 35, ')': 36, '*': 37, '+': 38, ',': 39, '-': 40, '.': 41, '/': 42, '0': 43, '1': 44, '2': 45, '3': 46, '4': 47, '5': 48, '6': 49, '7': 50, '8': 51, '9': 52, ':': 53, ';': 54, '<': 55, '=': 56, '>': 57, '?': 58, '@': 59, '[': 60, '\\\\': 61, ']': 62, '^': 63, '_': 64, '`': 65, '{': 92, '}': 93, '~': 94, '\\x81': 95, '\\x89': 96, '\\x90': 97, '\\x95': 98, '\\x9d': 99, '¡': 100, '¢': 101, 'ª': 102, 'à': 103, 'ã': 104, 'å': 105, 'è': 106, 'ê': 107, 'ï': 108, 'ò': 109, '÷': 110, 'û': 111, 'ü': 112}\n",
      "86\n"
     ]
    }
   ],
   "source": [
    "print(alpha_dict)\n",
    "print(len(alpha_dict))"
   ]
  },
  {
   "cell_type": "markdown",
   "metadata": {
    "id": "OLYGjDAUZQFu"
   },
   "source": [
    "### Dataset"
   ]
  },
  {
   "cell_type": "code",
   "execution_count": 126,
   "metadata": {
    "id": "OTvmV3NYvG4j"
   },
   "outputs": [],
   "source": [
    "class Character_dataset(Dataset):    \n",
    "    def __init__(self, data, alpha_dict):\n",
    "        self.data = data\n",
    "        self.alpha_dict = alpha_dict\n",
    "        self.stop = set(stopwords.words('english') + list(string.punctuation))\n",
    "        self.ps = PorterStemmer()\n",
    "        \n",
    "    def __len__(self):\n",
    "        return len(self.data)\n",
    "    \n",
    "    def __getitem__(self,idx):\n",
    "        X = self.data.iloc[idx]\n",
    "        Y = X['relevance'] - 2\n",
    "        description = list(self.clean_text(X['product_description']))[:100]\n",
    "        search = list(self.clean_text(X['search_term']))[:100]\n",
    "        \n",
    "        description = list(map(lambda x: alpha_dict[x], description))\n",
    "        search = list(map(lambda x:  alpha_dict[x], search))\n",
    "        \n",
    "        padded_description = [0] * 100\n",
    "        rand_index = random.randint(0, (100 - len(description)))\n",
    "        padded_description[rand_index : rand_index + len(description)] = description\n",
    "                        \n",
    "        padded_search = [0] * 100\n",
    "        rand_index = random.randint(0, (100 - len(search)))\n",
    "        padded_search[rand_index : rand_index + len(search)] = search\n",
    "\n",
    "        padded_description = torch.tensor(padded_description).reshape([100,1])\n",
    "        padded_search = torch.tensor(padded_search).reshape([100,1])\n",
    "        \n",
    "        return padded_description, padded_search, torch.tensor([Y])\n",
    "    \n",
    "    \n",
    "    def clean_text(self, text):\n",
    "        res = \"\"\n",
    "        for i in word_tokenize(text.lower()):\n",
    "            if i not in self.stop:\n",
    "                res += (self.ps.stem(i))\n",
    "                           \n",
    "        return res"
   ]
  },
  {
   "cell_type": "code",
   "execution_count": 127,
   "metadata": {
    "id": "FumkoAbnvG4k"
   },
   "outputs": [],
   "source": [
    "train_dataset = Character_dataset(train_df, alpha_dict)"
   ]
  },
  {
   "cell_type": "code",
   "execution_count": 128,
   "metadata": {
    "id": "A0U68gN3ZQFv"
   },
   "outputs": [],
   "source": [
    "val_dataset = Character_dataset(val_df, alpha_dict)"
   ]
  },
  {
   "cell_type": "code",
   "execution_count": 129,
   "metadata": {
    "colab": {
     "base_uri": "https://localhost:8080/"
    },
    "id": "vwKjN_SsvG4k",
    "outputId": "9a45300c-45e8-4c20-cbed-932c8ffa39ba"
   },
   "outputs": [
    {
     "data": {
      "text/plain": [
       "59253"
      ]
     },
     "execution_count": 129,
     "metadata": {},
     "output_type": "execute_result"
    }
   ],
   "source": [
    "len(train_dataset)"
   ]
  },
  {
   "cell_type": "markdown",
   "metadata": {
    "id": "Vti96hdmvG4k"
   },
   "source": [
    "### Siamese network from paper"
   ]
  },
  {
   "cell_type": "code",
   "execution_count": 130,
   "metadata": {
    "id": "4NBqgoo2vG4k"
   },
   "outputs": [],
   "source": [
    "class LSTM_Character_Model(nn.Module):\n",
    "    def __init__(self, dim_input=1, n_hidden=64, n_layer=4):\n",
    "        super(LSTM_Character_Model, self).__init__()\n",
    "        \n",
    "        self.similarity = nn.CosineSimilarity(dim=1)\n",
    "        \n",
    "        self.lstm  = nn.LSTM(\n",
    "            batch_first=True,\n",
    "            bidirectional = True,\n",
    "            dropout=0.2,\n",
    "            input_size = dim_input,\n",
    "            hidden_size = n_hidden,\n",
    "            num_layers = n_layer\n",
    "        )\n",
    "        \n",
    "        self.fc1 = nn.Linear(128, 128)\n",
    "                \n",
    "    def forward(self, description, search):\n",
    "\n",
    "        self.lstm.flatten_parameters()\n",
    "        \n",
    "        output_description, (hidden_description, cell_description) = self.lstm(description)\n",
    "            \n",
    "        output_search, (hidden_search, cell_search) = self.lstm(search)\n",
    "        \n",
    "        output_description = torch.mean(output_description, 1)\n",
    "\n",
    "        output_search = torch.mean(output_search, 1)\n",
    "\n",
    "        output_description = self.fc1(output_description)\n",
    "        \n",
    "        output_search = self.fc1(output_search)\n",
    "\n",
    "        \n",
    "        sim = self.similarity(output_description, output_search)\n",
    "\n",
    "        sim = sim.reshape([len(output_search),1])\n",
    "\n",
    "        return sim\n",
    "        "
   ]
  },
  {
   "cell_type": "code",
   "execution_count": 131,
   "metadata": {
    "colab": {
     "base_uri": "https://localhost:8080/"
    },
    "id": "9OFtxhiRvG4l",
    "outputId": "fc52135e-7df8-4431-da3b-300a7a7e161e"
   },
   "outputs": [
    {
     "data": {
      "text/plain": [
       "LSTM_Character_Model(\n",
       "  (similarity): CosineSimilarity()\n",
       "  (lstm): LSTM(1, 64, num_layers=4, batch_first=True, dropout=0.2, bidirectional=True)\n",
       "  (fc1): Linear(in_features=128, out_features=128, bias=True)\n",
       ")"
      ]
     },
     "execution_count": 131,
     "metadata": {},
     "output_type": "execute_result"
    }
   ],
   "source": [
    "lstm_character_model = LSTM_Character_Model().to(device)\n",
    "lstm_character_model"
   ]
  },
  {
   "cell_type": "code",
   "execution_count": 132,
   "metadata": {
    "id": "q4VgLfi6vG4l"
   },
   "outputs": [],
   "source": [
    "class RMSELoss(nn.Module):\n",
    "    def __init__(self):\n",
    "        super(RMSELoss, self).__init__()\n",
    "        self.mse = nn.MSELoss()\n",
    "        \n",
    "    def forward(self,yhat,y):\n",
    "        return torch.sqrt(self.mse(yhat,y))"
   ]
  },
  {
   "cell_type": "code",
   "execution_count": 133,
   "metadata": {
    "id": "ck-wImK4vG4l"
   },
   "outputs": [],
   "source": [
    "class SiameseLoss(nn.Module):\n",
    "    def __init__(self):\n",
    "        super(SiameseLoss, self).__init__()\n",
    "        self.loss_func = nn.MSELoss(nn.MSELoss(reduction='none'))\n",
    "        \n",
    "    def forward(self, x, y):\n",
    "        loss = self.loss_func(x,y)\n",
    "        intensifire = pow(1 + abs(y - 0.38), 2)\n",
    "        return torch.mean(torch.mul(loss, intensifire)) "
   ]
  },
  {
   "cell_type": "markdown",
   "metadata": {
    "id": "YGBgk_wzZQFw"
   },
   "source": [
    "## Training, Validation and Test loops"
   ]
  },
  {
   "cell_type": "code",
   "execution_count": 134,
   "metadata": {
    "id": "Cgkb0zRDvG4l"
   },
   "outputs": [],
   "source": [
    "def train_loop(data_loader,model,device,loss_fn,optimizer,print_every_n=500):\n",
    "    model.train()\n",
    "    size = len(data_loader.dataset)\n",
    "    num_batches = len(data_loader)\n",
    "    train_loss=0\n",
    "    \n",
    "    rmse_fn = RMSELoss()\n",
    "    mae_fn = nn.L1Loss()\n",
    "    rmse_loss = 0\n",
    "    mae_loss = 0\n",
    "    \n",
    "    for batch,(description, search, y) in enumerate(data_loader):\n",
    "        description = description.to(device, dtype=torch.float)\n",
    "        search = search.to(device, dtype=torch.float)\n",
    "        y = y.to(device, dtype=torch.float)\n",
    "        pred = model(description, search)\n",
    "        \n",
    "        loss = loss_fn(pred,y)\n",
    "        train_loss += loss\n",
    "        optimizer.zero_grad()\n",
    "        loss.backward()\n",
    "        optimizer.step()\n",
    "        \n",
    "        rmse_loss += rmse_fn(pred,y).item()\n",
    "        mae_loss += mae_fn(pred,y).item()\n",
    "            \n",
    "        if batch%print_every_n==0:\n",
    "            loss, current = loss.item(), batch*len(description)\n",
    "            print(f'loss={loss:.3f}, {current} samples / {size}')\n",
    "        \n",
    "    rmse_loss /= num_batches\n",
    "    mae_loss /= num_batches\n",
    "    train_loss /= num_batches\n",
    "    return train_loss, rmse_loss, mae_loss\n"
   ]
  },
  {
   "cell_type": "code",
   "execution_count": 135,
   "metadata": {
    "id": "ncV3wGQdvG4m"
   },
   "outputs": [],
   "source": [
    "def val_loop(data_loader,model,device,loss_fn):\n",
    "    model.eval()\n",
    "    num_batches = len(data_loader)\n",
    "    size=len(data_loader.dataset)\n",
    "    test_loss=0\n",
    "    \n",
    "    rmse_fn = RMSELoss()\n",
    "    mae_fn = nn.L1Loss()\n",
    "    rmse_loss = 0\n",
    "    mae_loss = 0\n",
    "    \n",
    "    with torch.no_grad():\n",
    "        for batch,(description, search, y) in enumerate(data_loader):\n",
    "            description = description.to(device, dtype=torch.float)\n",
    "            search = search.to(device, dtype=torch.float)\n",
    "            y = y.to(device, dtype=torch.float)\n",
    "            pred = model(description, search)\n",
    "            \n",
    "            test_loss += loss_fn(pred,y).item()\n",
    "            \n",
    "            rmse_loss += rmse_fn(pred,y).item()\n",
    "            mae_loss += mae_fn(pred,y).item()\n",
    "            \n",
    "    rmse_loss /= num_batches\n",
    "    mae_loss /= num_batches\n",
    "    test_loss /= num_batches\n",
    "    \n",
    "    return test_loss, rmse_loss, mae_loss"
   ]
  },
  {
   "cell_type": "code",
   "execution_count": 136,
   "metadata": {
    "id": "r1K0Qis0vG4m"
   },
   "outputs": [],
   "source": [
    "def test_loop(data_loader,model,device,loss_fn):\n",
    "    model.eval()\n",
    "    size=len(data_loader.dataset)\n",
    "    num_batches = len(data_loader)\n",
    "    test_loss=0\n",
    "\n",
    "    rmse_fn = RMSELoss()\n",
    "    mae_fn = nn.L1Loss()\n",
    "    rmse_loss = 0\n",
    "    mae_loss = 0\n",
    "    \n",
    "    with torch.no_grad():\n",
    "        for batch,(description, search, y) in enumerate(data_loader):\n",
    "            description = description.to(device, dtype=torch.float)\n",
    "            search = search.to(device, dtype=torch.float)\n",
    "            y = y.to(device, dtype=torch.float)\n",
    "            pred = model(description, search)\n",
    "\n",
    "            test_loss += loss_fn(pred,y).item()\n",
    "\n",
    "            rmse_loss += rmse_fn(pred,y).item()\n",
    "            mae_loss += mae_fn(pred,y).item()\n",
    "            \n",
    "    rmse_loss /= num_batches\n",
    "    mae_loss /= num_batches\n",
    "    test_loss /= num_batches\n",
    "\n",
    "    return test_loss, rmse_loss, mae_loss"
   ]
  },
  {
   "cell_type": "markdown",
   "metadata": {
    "id": "kMxwg3hEZQFy"
   },
   "source": [
    "## Model Parameters and Data loaders"
   ]
  },
  {
   "cell_type": "code",
   "execution_count": 137,
   "metadata": {
    "id": "kFI9DYSKvG4m"
   },
   "outputs": [],
   "source": [
    "learning_rate = 0.0001\n",
    "epochs = 15\n",
    "batch_size = 32\n",
    "loss_fn = nn.MSELoss()\n",
    "optimizer = torch.optim.Adam(lstm_character_model.parameters(),lr=learning_rate)"
   ]
  },
  {
   "cell_type": "code",
   "execution_count": 138,
   "metadata": {
    "id": "mFu2M2coZQFy"
   },
   "outputs": [],
   "source": [
    "train_loader = DataLoader(train_dataset,batch_size=32,shuffle=True)\n",
    "val_loader = DataLoader(val_dataset,batch_size=32,shuffle=True)"
   ]
  },
  {
   "cell_type": "code",
   "execution_count": 139,
   "metadata": {
    "colab": {
     "base_uri": "https://localhost:8080/"
    },
    "id": "Mj5Ew8k7vG4m",
    "outputId": "e0304048-f85e-471c-90bc-e69190ff8283",
    "scrolled": true
   },
   "outputs": [
    {
     "name": "stdout",
     "output_type": "stream",
     "text": [
      "Starting epoch 1\n",
      "loss=0.714, 0 samples / 59253\n",
      "loss=0.234, 16000 samples / 59253\n",
      "loss=0.324, 32000 samples / 59253\n",
      "loss=0.443, 48000 samples / 59253\n",
      "Epoch:1/15 AVG Training Loss:0.296 AVG Val Loss:0.288\n",
      "AVG Training rmse Loss:0.540 AVG Val rmse Loss:0.533\n",
      " AVG Training mae Loss:0.447 AVG Val mae Loss:0.440\n",
      "Starting epoch 2\n",
      "loss=0.353, 0 samples / 59253\n",
      "loss=0.296, 16000 samples / 59253\n",
      "loss=0.231, 32000 samples / 59253\n",
      "loss=0.257, 48000 samples / 59253\n",
      "Epoch:2/15 AVG Training Loss:0.288 AVG Val Loss:0.285\n",
      "AVG Training rmse Loss:0.534 AVG Val rmse Loss:0.531\n",
      " AVG Training mae Loss:0.440 AVG Val mae Loss:0.435\n",
      "Starting epoch 3\n",
      "loss=0.243, 0 samples / 59253\n",
      "loss=0.269, 16000 samples / 59253\n",
      "loss=0.349, 32000 samples / 59253\n",
      "loss=0.289, 48000 samples / 59253\n",
      "Epoch:3/15 AVG Training Loss:0.287 AVG Val Loss:0.287\n",
      "AVG Training rmse Loss:0.532 AVG Val rmse Loss:0.532\n",
      " AVG Training mae Loss:0.439 AVG Val mae Loss:0.441\n",
      "Starting epoch 4\n",
      "loss=0.255, 0 samples / 59253\n",
      "loss=0.211, 16000 samples / 59253\n",
      "loss=0.237, 32000 samples / 59253\n",
      "loss=0.196, 48000 samples / 59253\n",
      "Epoch:4/15 AVG Training Loss:0.287 AVG Val Loss:0.283\n",
      "AVG Training rmse Loss:0.532 AVG Val rmse Loss:0.529\n",
      " AVG Training mae Loss:0.439 AVG Val mae Loss:0.437\n",
      "Starting epoch 5\n",
      "loss=0.250, 0 samples / 59253\n",
      "loss=0.278, 16000 samples / 59253\n",
      "loss=0.402, 32000 samples / 59253\n",
      "loss=0.192, 48000 samples / 59253\n",
      "Epoch:5/15 AVG Training Loss:0.286 AVG Val Loss:0.282\n",
      "AVG Training rmse Loss:0.531 AVG Val rmse Loss:0.528\n",
      " AVG Training mae Loss:0.438 AVG Val mae Loss:0.436\n",
      "Starting epoch 6\n",
      "loss=0.281, 0 samples / 59253\n",
      "loss=0.325, 16000 samples / 59253\n",
      "loss=0.241, 32000 samples / 59253\n",
      "loss=0.182, 48000 samples / 59253\n",
      "Epoch:6/15 AVG Training Loss:0.285 AVG Val Loss:0.282\n",
      "AVG Training rmse Loss:0.530 AVG Val rmse Loss:0.528\n",
      " AVG Training mae Loss:0.438 AVG Val mae Loss:0.436\n",
      "Starting epoch 7\n",
      "loss=0.230, 0 samples / 59253\n",
      "loss=0.301, 16000 samples / 59253\n",
      "loss=0.347, 32000 samples / 59253\n",
      "loss=0.281, 48000 samples / 59253\n",
      "Epoch:7/15 AVG Training Loss:0.284 AVG Val Loss:0.283\n",
      "AVG Training rmse Loss:0.529 AVG Val rmse Loss:0.528\n",
      " AVG Training mae Loss:0.437 AVG Val mae Loss:0.436\n",
      "Starting epoch 8\n",
      "loss=0.299, 0 samples / 59253\n",
      "loss=0.237, 16000 samples / 59253\n",
      "loss=0.151, 32000 samples / 59253\n",
      "loss=0.268, 48000 samples / 59253\n",
      "Epoch:8/15 AVG Training Loss:0.283 AVG Val Loss:0.281\n",
      "AVG Training rmse Loss:0.529 AVG Val rmse Loss:0.526\n",
      " AVG Training mae Loss:0.436 AVG Val mae Loss:0.435\n",
      "Starting epoch 9\n",
      "loss=0.214, 0 samples / 59253\n",
      "loss=0.349, 16000 samples / 59253\n",
      "loss=0.312, 32000 samples / 59253\n",
      "loss=0.222, 48000 samples / 59253\n",
      "Epoch:9/15 AVG Training Loss:0.283 AVG Val Loss:0.280\n",
      "AVG Training rmse Loss:0.528 AVG Val rmse Loss:0.526\n",
      " AVG Training mae Loss:0.436 AVG Val mae Loss:0.434\n",
      "Starting epoch 10\n",
      "loss=0.323, 0 samples / 59253\n",
      "loss=0.300, 16000 samples / 59253\n",
      "loss=0.278, 32000 samples / 59253\n",
      "loss=0.411, 48000 samples / 59253\n",
      "Epoch:10/15 AVG Training Loss:0.282 AVG Val Loss:0.280\n",
      "AVG Training rmse Loss:0.527 AVG Val rmse Loss:0.526\n",
      " AVG Training mae Loss:0.435 AVG Val mae Loss:0.433\n",
      "Starting epoch 11\n",
      "loss=0.309, 0 samples / 59253\n",
      "loss=0.270, 16000 samples / 59253\n",
      "loss=0.255, 32000 samples / 59253\n",
      "loss=0.244, 48000 samples / 59253\n",
      "Epoch:11/15 AVG Training Loss:0.282 AVG Val Loss:0.279\n",
      "AVG Training rmse Loss:0.527 AVG Val rmse Loss:0.525\n",
      " AVG Training mae Loss:0.434 AVG Val mae Loss:0.433\n",
      "Starting epoch 12\n",
      "loss=0.445, 0 samples / 59253\n",
      "loss=0.317, 16000 samples / 59253\n",
      "loss=0.300, 32000 samples / 59253\n",
      "loss=0.260, 48000 samples / 59253\n",
      "Epoch:12/15 AVG Training Loss:0.281 AVG Val Loss:0.280\n",
      "AVG Training rmse Loss:0.527 AVG Val rmse Loss:0.526\n",
      " AVG Training mae Loss:0.434 AVG Val mae Loss:0.435\n",
      "Starting epoch 13\n",
      "loss=0.268, 0 samples / 59253\n",
      "loss=0.391, 16000 samples / 59253\n",
      "loss=0.234, 32000 samples / 59253\n",
      "loss=0.177, 48000 samples / 59253\n",
      "Epoch:13/15 AVG Training Loss:0.281 AVG Val Loss:0.279\n",
      "AVG Training rmse Loss:0.526 AVG Val rmse Loss:0.524\n",
      " AVG Training mae Loss:0.434 AVG Val mae Loss:0.432\n",
      "Starting epoch 14\n",
      "loss=0.337, 0 samples / 59253\n",
      "loss=0.154, 16000 samples / 59253\n",
      "loss=0.287, 32000 samples / 59253\n",
      "loss=0.505, 48000 samples / 59253\n",
      "Epoch:14/15 AVG Training Loss:0.281 AVG Val Loss:0.279\n",
      "AVG Training rmse Loss:0.526 AVG Val rmse Loss:0.525\n",
      " AVG Training mae Loss:0.434 AVG Val mae Loss:0.433\n",
      "Starting epoch 15\n",
      "loss=0.249, 0 samples / 59253\n",
      "loss=0.383, 16000 samples / 59253\n",
      "loss=0.203, 32000 samples / 59253\n",
      "loss=0.353, 48000 samples / 59253\n",
      "Epoch:15/15 AVG Training Loss:0.280 AVG Val Loss:0.279\n",
      "AVG Training rmse Loss:0.525 AVG Val rmse Loss:0.525\n",
      " AVG Training mae Loss:0.434 AVG Val mae Loss:0.432\n"
     ]
    }
   ],
   "source": [
    "torch.cuda.empty_cache()\n",
    "\n",
    "history = {'train_loss': [], 'val_loss': [], 'train_rmse':[],'val_rmse':[], 'train_mae':[],'val_mae':[]}\n",
    "start_time = time.time()\n",
    "\n",
    "for epoch in range(epochs):\n",
    "    print(f'Starting epoch {epoch+1}')\n",
    "\n",
    "    train_epoch_loss, train_rmse_loss, train_mae_loss = train_loop(train_loader,lstm_character_model,device,loss_fn,optimizer)\n",
    "\n",
    "    val_loss, val_rmse_loss, val_mae_loss = val_loop(val_loader,lstm_character_model,device,loss_fn)\n",
    "\n",
    "    print(\"Epoch:{}/{} AVG Training Loss:{:.3f} AVG Val Loss:{:.3f}\".format(epoch + 1,\n",
    "                                                                          epochs,\n",
    "                                                                          train_epoch_loss,\n",
    "                                                                          val_loss))\n",
    "\n",
    "    print(\"AVG Training rmse Loss:{:.3f} AVG Val rmse Loss:{:.3f}\".format(train_rmse_loss,\n",
    "                                                                      val_rmse_loss))\n",
    "\n",
    "    print(\" AVG Training mae Loss:{:.3f} AVG Val mae Loss:{:.3f}\".format(train_mae_loss,\n",
    "                                                                      val_mae_loss))\n",
    "\n",
    "    history['train_loss'].append(train_epoch_loss.detach().cpu().numpy())\n",
    "    history['val_loss'].append(val_loss)\n",
    "    history['train_rmse'].append(train_rmse_loss)\n",
    "    history['val_rmse'].append(val_rmse_loss)   \n",
    "    history['train_mae'].append(train_mae_loss)\n",
    "    history['val_mae'].append(val_mae_loss)  \n",
    "        \n",
    "    \n",
    "history['total_time'] = time.time() - start_time"
   ]
  },
  {
   "cell_type": "markdown",
   "metadata": {
    "id": "P-B8xS_CZQFz"
   },
   "source": [
    "## Plots"
   ]
  },
  {
   "cell_type": "code",
   "execution_count": 140,
   "metadata": {
    "id": "1VUpcrm6vG4n"
   },
   "outputs": [],
   "source": [
    "def plot_acc_loss(history):\n",
    "    fig, ax = plt.subplots(1,3,figsize=(12,4))\n",
    "    ax[0].plot(history['train_loss'])\n",
    "    ax[0].plot(history['val_loss'])\n",
    "    ax[0].set_title('Model loss: ')\n",
    "    ax[0].set_ylabel('Loss')\n",
    "    ax[0].set_xlabel('Epoch')\n",
    "    ax[0].legend(['Train', 'Test'], loc='upper left')\n",
    "\n",
    "    # Plot training & validation loss values\n",
    "    ax[1].plot(history['train_rmse'])\n",
    "    ax[1].plot(history['val_rmse'])\n",
    "    ax[1].set_title('Model rmse loss: ')\n",
    "    ax[1].set_ylabel('Rmse')\n",
    "    ax[1].set_xlabel('Epoch')\n",
    "    ax[1].legend(['Train', 'Test'], loc='upper left')\n",
    "    \n",
    "    ax[2].plot(history['train_mae'])\n",
    "    ax[2].plot(history['val_mae'])\n",
    "    ax[2].set_title('Model mae loss: ')\n",
    "    ax[2].set_ylabel('Mae')\n",
    "    ax[2].set_xlabel('Epoch')\n",
    "    ax[2].legend(['Train', 'Test'], loc='upper left')\n",
    "    plt.show()"
   ]
  },
  {
   "cell_type": "code",
   "execution_count": 141,
   "metadata": {
    "colab": {
     "base_uri": "https://localhost:8080/",
     "height": 295
    },
    "id": "wMiki8-9vG4n",
    "outputId": "4d2d1742-618d-4abb-9320-bbe25514bfcd"
   },
   "outputs": [
    {
     "data": {
      "image/png": "[encoded data removed]",
      "text/plain": [
       "<Figure size 864x288 with 3 Axes>"
      ]
     },
     "metadata": {
      "needs_background": "light"
     },
     "output_type": "display_data"
    }
   ],
   "source": [
    "plot_acc_loss(history)"
   ]
  },
  {
   "cell_type": "code",
   "execution_count": 142,
   "metadata": {},
   "outputs": [
    {
     "name": "stdout",
     "output_type": "stream",
     "text": [
      "0.28006652\n",
      "0.27859039577307504\n",
      "0.5254790416031625\n",
      "0.5246401816027211\n",
      "0.4335320700064591\n",
      "0.4324841960846219\n"
     ]
    }
   ],
   "source": [
    "print(history['train_loss'][-1])\n",
    "print(history['val_loss'][-1])\n",
    "print(history['train_rmse'][-1])\n",
    "print(history['val_rmse'][-1])\n",
    "print(history['train_mae'][-1])\n",
    "print(history['val_mae'][-1])"
   ]
  },
  {
   "cell_type": "markdown",
   "metadata": {
    "id": "9LV9Hg46ZQF0"
   },
   "source": [
    "## Testing"
   ]
  },
  {
   "cell_type": "code",
   "execution_count": 143,
   "metadata": {
    "colab": {
     "base_uri": "https://localhost:8080/"
    },
    "id": "k3BDvHrAvG4n",
    "outputId": "05f8f543-60d6-4ea5-9750-caf21f9f61bd"
   },
   "outputs": [
    {
     "name": "stdout",
     "output_type": "stream",
     "text": [
      "test loss : 0.28304089794890935\n",
      "test rmse loss : 0.5282906397577357\n",
      "test mae loss : 0.4353805627443094\n"
     ]
    }
   ],
   "source": [
    "test_dataset = Character_dataset(test_data, alpha_dict)\n",
    "test_loader = DataLoader(test_dataset,batch_size=32,shuffle=False)\n",
    "test_loss, test_rmse_loss, test_mae_loss = test_loop(test_loader,lstm_character_model,device,loss_fn)\n",
    "print(\"test loss : \" + str(test_loss))\n",
    "print(\"test rmse loss : \" + str(test_rmse_loss))\n",
    "print(\"test mae loss : \" + str(test_mae_loss))"
   ]
  },
  {
   "cell_type": "code",
   "execution_count": 144,
   "metadata": {
    "id": "0rTOiG2DvG4o"
   },
   "outputs": [],
   "source": [
    "torch.save(lstm_character_model, 'models/LSTM_Character_Model.pt')"
   ]
  },
  {
   "cell_type": "code",
   "execution_count": 145,
   "metadata": {},
   "outputs": [],
   "source": [
    "simaese_char.append(history['total_time']/60)\n",
    "simaese_char.append(history['train_rmse'][-1])\n",
    "simaese_char.append(history['val_rmse'][-1])\n",
    "simaese_char.append(test_rmse_loss)\n",
    "simaese_char.append(history['train_mae'][-1])\n",
    "simaese_char.append(history['val_mae'][-1])\n",
    "simaese_char.append(test_mae_loss)"
   ]
  },
  {
   "cell_type": "code",
   "execution_count": 146,
   "metadata": {},
   "outputs": [
    {
     "data": {
      "text/plain": [
       "[53.93897269964218,\n",
       " 0.5254790416031625,\n",
       " 0.5246401816027211,\n",
       " 0.5282906397577357,\n",
       " 0.4335320700064591,\n",
       " 0.4324841960846219,\n",
       " 0.4353805627443094]"
      ]
     },
     "execution_count": 146,
     "metadata": {},
     "output_type": "execute_result"
    }
   ],
   "source": [
    "simaese_char"
   ]
  },
  {
   "cell_type": "markdown",
   "metadata": {
    "id": "SXpd6G8Y2Ja8"
   },
   "source": [
    "## 1.c Naive Benchmark"
   ]
  },
  {
   "cell_type": "markdown",
   "metadata": {
    "id": "J5ayvMsvZQF1"
   },
   "source": [
    "> for our benchmark we will create a vector with the frequencies of characters for the search term and Product description using CountVectorizer. Then for each row find the cosine similiratiy between these vectors and caculate our metrics"
   ]
  },
  {
   "cell_type": "code",
   "execution_count": 147,
   "metadata": {
    "id": "AXLHFas9ZQF1"
   },
   "outputs": [],
   "source": [
    "def benchmark_similiraties(df):\n",
    "    descriptions = df['product_description'].apply(str.lower).values.tolist()\n",
    "    searches = df['search_term'].apply(str.lower).values.tolist()\n",
    "    char_vectorizer = CountVectorizer(analyzer='char', min_df=1)\n",
    "    desc_count_array = char_vectorizer.fit_transform(descriptions).toarray()\n",
    "    desc_df = pd.DataFrame(data=desc_count_array,columns = char_vectorizer.get_feature_names())\n",
    "    search_count_array = char_vectorizer.transform(searches).toarray()\n",
    "    search_df = pd.DataFrame(data=search_count_array,columns = char_vectorizer.get_feature_names())\n",
    "    similiraties = []\n",
    "    for i in range(len(search_df)):\n",
    "        desc_vector =  desc_df.loc[i].values\n",
    "        search_vector = search_df.loc[i].values\n",
    "        cosine = np.dot(desc_vector,search_vector)/(norm(desc_vector)*norm(search_vector))\n",
    "        similiraties.append(cosine)\n",
    "    pred = np.interp(similiraties ,[0,1], [1,3])\n",
    "    rmse = mean_squared_error(df['relevance'], pred, squared=False)\n",
    "    mae = mean_absolute_error(df['relevance'], pred)\n",
    "    return rmse,mae\n",
    "    \n",
    "    "
   ]
  },
  {
   "cell_type": "code",
   "execution_count": 148,
   "metadata": {
    "colab": {
     "base_uri": "https://localhost:8080/",
     "height": 424
    },
    "id": "bVudoceRZQF1",
    "outputId": "4b4ee71b-38e6-4917-b398-479caffffa36"
   },
   "outputs": [
    {
     "data": {
      "text/html": [
       "<div>\n",
       "<style scoped>\n",
       "    .dataframe tbody tr th:only-of-type {\n",
       "        vertical-align: middle;\n",
       "    }\n",
       "\n",
       "    .dataframe tbody tr th {\n",
       "        vertical-align: top;\n",
       "    }\n",
       "\n",
       "    .dataframe thead th {\n",
       "        text-align: right;\n",
       "    }\n",
       "</style>\n",
       "<table border=\"1\" class=\"dataframe\">\n",
       "  <thead>\n",
       "    <tr style=\"text-align: right;\">\n",
       "      <th></th>\n",
       "      <th>id</th>\n",
       "      <th>product_uid</th>\n",
       "      <th>product_title</th>\n",
       "      <th>product_description</th>\n",
       "      <th>search_term</th>\n",
       "      <th>relevance</th>\n",
       "    </tr>\n",
       "  </thead>\n",
       "  <tbody>\n",
       "    <tr>\n",
       "      <th>0</th>\n",
       "      <td>2</td>\n",
       "      <td>100001</td>\n",
       "      <td>Simpson Strong-Tie 12-Gauge Angle</td>\n",
       "      <td>Not only do angles make joints stronger, they ...</td>\n",
       "      <td>angle bracket</td>\n",
       "      <td>3.00</td>\n",
       "    </tr>\n",
       "    <tr>\n",
       "      <th>1</th>\n",
       "      <td>3</td>\n",
       "      <td>100001</td>\n",
       "      <td>Simpson Strong-Tie 12-Gauge Angle</td>\n",
       "      <td>Not only do angles make joints stronger, they ...</td>\n",
       "      <td>l bracket</td>\n",
       "      <td>2.50</td>\n",
       "    </tr>\n",
       "    <tr>\n",
       "      <th>2</th>\n",
       "      <td>9</td>\n",
       "      <td>100002</td>\n",
       "      <td>BEHR Premium Textured DeckOver 1-gal. #SC-141 ...</td>\n",
       "      <td>BEHR Premium Textured DECKOVER is an innovativ...</td>\n",
       "      <td>deck over</td>\n",
       "      <td>3.00</td>\n",
       "    </tr>\n",
       "    <tr>\n",
       "      <th>3</th>\n",
       "      <td>16</td>\n",
       "      <td>100005</td>\n",
       "      <td>Delta Vero 1-Handle Shower Only Faucet Trim Ki...</td>\n",
       "      <td>Update your bathroom with the Delta Vero Singl...</td>\n",
       "      <td>rain shower head</td>\n",
       "      <td>2.33</td>\n",
       "    </tr>\n",
       "    <tr>\n",
       "      <th>4</th>\n",
       "      <td>17</td>\n",
       "      <td>100005</td>\n",
       "      <td>Delta Vero 1-Handle Shower Only Faucet Trim Ki...</td>\n",
       "      <td>Update your bathroom with the Delta Vero Singl...</td>\n",
       "      <td>shower only faucet</td>\n",
       "      <td>2.67</td>\n",
       "    </tr>\n",
       "    <tr>\n",
       "      <th>...</th>\n",
       "      <td>...</td>\n",
       "      <td>...</td>\n",
       "      <td>...</td>\n",
       "      <td>...</td>\n",
       "      <td>...</td>\n",
       "      <td>...</td>\n",
       "    </tr>\n",
       "    <tr>\n",
       "      <th>74062</th>\n",
       "      <td>221457</td>\n",
       "      <td>206638</td>\n",
       "      <td>Atlantic Windowpane 576 CD or 192 DVD Blu-Ray ...</td>\n",
       "      <td>Atlantic, Inc. 94835722 Uniquely designed for ...</td>\n",
       "      <td>tv riser glass</td>\n",
       "      <td>1.00</td>\n",
       "    </tr>\n",
       "    <tr>\n",
       "      <th>74063</th>\n",
       "      <td>221458</td>\n",
       "      <td>206639</td>\n",
       "      <td>Philips 40-Watt Halogen R20 Flood Light Bulb (...</td>\n",
       "      <td>Philips Energy Advantage lamps use less energy...</td>\n",
       "      <td>r20 halogen light</td>\n",
       "      <td>3.00</td>\n",
       "    </tr>\n",
       "    <tr>\n",
       "      <th>74064</th>\n",
       "      <td>221463</td>\n",
       "      <td>206641</td>\n",
       "      <td>Schlage Camelot In-Active Aged Bronze Handlese...</td>\n",
       "      <td>The Schlage Camelot In-Active Aged Bronze Hand...</td>\n",
       "      <td>schlage lock siena half dummy knob with</td>\n",
       "      <td>2.33</td>\n",
       "    </tr>\n",
       "    <tr>\n",
       "      <th>74065</th>\n",
       "      <td>221471</td>\n",
       "      <td>206648</td>\n",
       "      <td>Plastec 11 in. x 24 in. Rose Garden Wall Decor...</td>\n",
       "      <td>The Rose Garden is inspired by the popular ear...</td>\n",
       "      <td>zen garden  decor</td>\n",
       "      <td>3.00</td>\n",
       "    </tr>\n",
       "    <tr>\n",
       "      <th>74066</th>\n",
       "      <td>221473</td>\n",
       "      <td>206650</td>\n",
       "      <td>LICHTENBERG Pool Blue No. 918 Millennial Ryan ...</td>\n",
       "      <td>No. 918 Millennial Ryan heathered texture semi...</td>\n",
       "      <td>fine sheer curtain 63 inches</td>\n",
       "      <td>2.33</td>\n",
       "    </tr>\n",
       "  </tbody>\n",
       "</table>\n",
       "<p>74067 rows × 6 columns</p>\n",
       "</div>"
      ],
      "text/plain": [
       "           id  product_uid                                      product_title  \\\n",
       "0           2       100001                  Simpson Strong-Tie 12-Gauge Angle   \n",
       "1           3       100001                  Simpson Strong-Tie 12-Gauge Angle   \n",
       "2           9       100002  BEHR Premium Textured DeckOver 1-gal. #SC-141 ...   \n",
       "3          16       100005  Delta Vero 1-Handle Shower Only Faucet Trim Ki...   \n",
       "4          17       100005  Delta Vero 1-Handle Shower Only Faucet Trim Ki...   \n",
       "...       ...          ...                                                ...   \n",
       "74062  221457       206638  Atlantic Windowpane 576 CD or 192 DVD Blu-Ray ...   \n",
       "74063  221458       206639  Philips 40-Watt Halogen R20 Flood Light Bulb (...   \n",
       "74064  221463       206641  Schlage Camelot In-Active Aged Bronze Handlese...   \n",
       "74065  221471       206648  Plastec 11 in. x 24 in. Rose Garden Wall Decor...   \n",
       "74066  221473       206650  LICHTENBERG Pool Blue No. 918 Millennial Ryan ...   \n",
       "\n",
       "                                     product_description  \\\n",
       "0      Not only do angles make joints stronger, they ...   \n",
       "1      Not only do angles make joints stronger, they ...   \n",
       "2      BEHR Premium Textured DECKOVER is an innovativ...   \n",
       "3      Update your bathroom with the Delta Vero Singl...   \n",
       "4      Update your bathroom with the Delta Vero Singl...   \n",
       "...                                                  ...   \n",
       "74062  Atlantic, Inc. 94835722 Uniquely designed for ...   \n",
       "74063  Philips Energy Advantage lamps use less energy...   \n",
       "74064  The Schlage Camelot In-Active Aged Bronze Hand...   \n",
       "74065  The Rose Garden is inspired by the popular ear...   \n",
       "74066  No. 918 Millennial Ryan heathered texture semi...   \n",
       "\n",
       "                                   search_term  relevance  \n",
       "0                                angle bracket       3.00  \n",
       "1                                    l bracket       2.50  \n",
       "2                                    deck over       3.00  \n",
       "3                             rain shower head       2.33  \n",
       "4                           shower only faucet       2.67  \n",
       "...                                        ...        ...  \n",
       "74062                           tv riser glass       1.00  \n",
       "74063                        r20 halogen light       3.00  \n",
       "74064  schlage lock siena half dummy knob with       2.33  \n",
       "74065                        zen garden  decor       3.00  \n",
       "74066             fine sheer curtain 63 inches       2.33  \n",
       "\n",
       "[74067 rows x 6 columns]"
      ]
     },
     "execution_count": 148,
     "metadata": {},
     "output_type": "execute_result"
    }
   ],
   "source": [
    "train_data"
   ]
  },
  {
   "cell_type": "code",
   "execution_count": 149,
   "metadata": {
    "colab": {
     "base_uri": "https://localhost:8080/"
    },
    "id": "72mqFe7L2UFi",
    "outputId": "e8cd21ad-2775-4f05-93b5-1cf21c9d6efb"
   },
   "outputs": [
    {
     "name": "stderr",
     "output_type": "stream",
     "text": [
      "/storage/modules/packages/anaconda3/lib/python3.7/site-packages/sklearn/utils/deprecation.py:87: FutureWarning: Function get_feature_names is deprecated; get_feature_names is deprecated in 1.0 and will be removed in 1.2. Please use get_feature_names_out instead.\n",
      "  warnings.warn(msg, category=FutureWarning)\n"
     ]
    }
   ],
   "source": [
    "import time\n",
    "s_time = time.time()\n",
    "train_rmse,train_mae = benchmark_similiraties(train_df)\n"
   ]
  },
  {
   "cell_type": "code",
   "execution_count": 150,
   "metadata": {
    "colab": {
     "base_uri": "https://localhost:8080/"
    },
    "id": "ixSdX6EW2WOA",
    "outputId": "d2d1730f-6d8a-4fe9-98c5-644393f05171"
   },
   "outputs": [
    {
     "data": {
      "text/plain": [
       "0.5871463088983174"
      ]
     },
     "execution_count": 150,
     "metadata": {},
     "output_type": "execute_result"
    }
   ],
   "source": [
    "train_rmse"
   ]
  },
  {
   "cell_type": "code",
   "execution_count": 151,
   "metadata": {
    "colab": {
     "base_uri": "https://localhost:8080/"
    },
    "id": "dvrhdIT-2XSZ",
    "outputId": "75754370-3086-49a6-e45a-e98eb3deedcd"
   },
   "outputs": [
    {
     "data": {
      "text/plain": [
       "0.47337528548601027"
      ]
     },
     "execution_count": 151,
     "metadata": {},
     "output_type": "execute_result"
    }
   ],
   "source": [
    "train_mae"
   ]
  },
  {
   "cell_type": "code",
   "execution_count": 152,
   "metadata": {
    "colab": {
     "base_uri": "https://localhost:8080/"
    },
    "id": "avlCS05cZQF2",
    "outputId": "693c5eb1-b30c-405c-afcc-241bfa0fc8dc"
   },
   "outputs": [
    {
     "name": "stderr",
     "output_type": "stream",
     "text": [
      "/storage/modules/packages/anaconda3/lib/python3.7/site-packages/sklearn/utils/deprecation.py:87: FutureWarning: Function get_feature_names is deprecated; get_feature_names is deprecated in 1.0 and will be removed in 1.2. Please use get_feature_names_out instead.\n",
      "  warnings.warn(msg, category=FutureWarning)\n"
     ]
    }
   ],
   "source": [
    "\n",
    "val_rmse,val_mae = benchmark_similiraties(val_df)\n"
   ]
  },
  {
   "cell_type": "code",
   "execution_count": 153,
   "metadata": {
    "colab": {
     "base_uri": "https://localhost:8080/"
    },
    "id": "n8JtdyTdZQF2",
    "outputId": "342bc197-4a83-4b61-d78d-00e19f41c03a"
   },
   "outputs": [
    {
     "data": {
      "text/plain": [
       "0.5839727309277047"
      ]
     },
     "execution_count": 153,
     "metadata": {},
     "output_type": "execute_result"
    }
   ],
   "source": [
    "val_rmse"
   ]
  },
  {
   "cell_type": "code",
   "execution_count": 154,
   "metadata": {
    "colab": {
     "base_uri": "https://localhost:8080/"
    },
    "id": "1naan019ZQF3",
    "outputId": "40a5e03d-85f8-463f-b40a-03945291e259"
   },
   "outputs": [
    {
     "data": {
      "text/plain": [
       "0.47021607019987427"
      ]
     },
     "execution_count": 154,
     "metadata": {},
     "output_type": "execute_result"
    }
   ],
   "source": [
    "val_mae"
   ]
  },
  {
   "cell_type": "code",
   "execution_count": 155,
   "metadata": {
    "colab": {
     "base_uri": "https://localhost:8080/"
    },
    "id": "ZOjblkTg2Y0B",
    "outputId": "b5227bc7-577b-49c7-d706-8baf532adfc6"
   },
   "outputs": [
    {
     "name": "stderr",
     "output_type": "stream",
     "text": [
      "/storage/modules/packages/anaconda3/lib/python3.7/site-packages/sklearn/utils/deprecation.py:87: FutureWarning: Function get_feature_names is deprecated; get_feature_names is deprecated in 1.0 and will be removed in 1.2. Please use get_feature_names_out instead.\n",
      "  warnings.warn(msg, category=FutureWarning)\n"
     ]
    }
   ],
   "source": [
    "test_rmse,test_mae = benchmark_similiraties(test_data)\n"
   ]
  },
  {
   "cell_type": "code",
   "execution_count": 156,
   "metadata": {
    "colab": {
     "base_uri": "https://localhost:8080/"
    },
    "id": "bnYd0fAX2aEZ",
    "outputId": "99f48fa4-3b5a-49ca-c19f-a0f52a340f0e"
   },
   "outputs": [
    {
     "data": {
      "text/plain": [
       "0.5885336446557803"
      ]
     },
     "execution_count": 156,
     "metadata": {},
     "output_type": "execute_result"
    }
   ],
   "source": [
    "test_rmse"
   ]
  },
  {
   "cell_type": "code",
   "execution_count": 157,
   "metadata": {
    "colab": {
     "base_uri": "https://localhost:8080/"
    },
    "id": "Bz4Sf1h32b0K",
    "outputId": "804bc367-2ea7-43e2-911b-1773d13c0c61"
   },
   "outputs": [
    {
     "data": {
      "text/plain": [
       "0.4735840523027748"
      ]
     },
     "execution_count": 157,
     "metadata": {},
     "output_type": "execute_result"
    }
   ],
   "source": [
    "test_mae"
   ]
  },
  {
   "cell_type": "code",
   "execution_count": 158,
   "metadata": {
    "id": "WGJA2D_j-E3z"
   },
   "outputs": [],
   "source": [
    "end = time.time() - s_time"
   ]
  },
  {
   "cell_type": "code",
   "execution_count": 159,
   "metadata": {},
   "outputs": [],
   "source": [
    "naive_benchmark.append(end/60)"
   ]
  },
  {
   "cell_type": "code",
   "execution_count": 160,
   "metadata": {},
   "outputs": [],
   "source": [
    "naive_benchmark.append(train_rmse)"
   ]
  },
  {
   "cell_type": "code",
   "execution_count": 161,
   "metadata": {},
   "outputs": [],
   "source": [
    "naive_benchmark.append(val_rmse)"
   ]
  },
  {
   "cell_type": "code",
   "execution_count": 162,
   "metadata": {},
   "outputs": [],
   "source": [
    "naive_benchmark.append(test_rmse)"
   ]
  },
  {
   "cell_type": "code",
   "execution_count": 163,
   "metadata": {},
   "outputs": [],
   "source": [
    "naive_benchmark.append(train_mae)"
   ]
  },
  {
   "cell_type": "code",
   "execution_count": 164,
   "metadata": {},
   "outputs": [],
   "source": [
    "naive_benchmark.append(val_mae)"
   ]
  },
  {
   "cell_type": "code",
   "execution_count": 165,
   "metadata": {},
   "outputs": [],
   "source": [
    "naive_benchmark.append(test_mae)"
   ]
  },
  {
   "cell_type": "markdown",
   "metadata": {
    "id": "9iCBWpdmvG4o"
   },
   "source": [
    "## 1.d Classic ML model with feature extractor"
   ]
  },
  {
   "cell_type": "markdown",
   "metadata": {
    "id": "U3Q_lk1ZZQF3"
   },
   "source": [
    "> to create our features for our classical models we will do the following steps:\n",
    "1. omit the cosine similarity layer in our model\n",
    "2. insert all our data into the model and recieve for each sample of our data 2 vectors - a vector of size 128 that represents the search term and a vector of sizer 128 that represents the description\n",
    "3. use similarity metrics to create features that will reprsent each row in our data\n",
    "4. Run KNN and XGBregressor while using RandomesearchCV to find best hyperparamters for the models"
   ]
  },
  {
   "cell_type": "code",
   "execution_count": 166,
   "metadata": {
    "colab": {
     "base_uri": "https://localhost:8080/"
    },
    "id": "MOyMrH_0vG4o",
    "outputId": "ebda14a5-dbb7-49af-85b2-cee794172e62"
   },
   "outputs": [
    {
     "name": "stdout",
     "output_type": "stream",
     "text": [
      "[LSTM_Character_Model(\n",
      "  (similarity): CosineSimilarity()\n",
      "  (lstm): LSTM(1, 64, num_layers=4, batch_first=True, dropout=0.2, bidirectional=True)\n",
      "  (fc1): Linear(in_features=128, out_features=128, bias=True)\n",
      "), CosineSimilarity(), LSTM(1, 64, num_layers=4, batch_first=True, dropout=0.2, bidirectional=True), Linear(in_features=128, out_features=128, bias=True)]\n"
     ]
    }
   ],
   "source": [
    "lstm_character_model = torch.load('models/LSTM_Character_Model.pt')\n",
    "print(list(lstm_character_model.modules()))"
   ]
  },
  {
   "cell_type": "code",
   "execution_count": 167,
   "metadata": {
    "id": "WRP6qDYZvG4o"
   },
   "outputs": [
    {
     "name": "stdout",
     "output_type": "stream",
     "text": [
      "Sequential(\n",
      "  (0): LSTM(1, 64, num_layers=4, batch_first=True, dropout=0.2, bidirectional=True)\n",
      ")\n"
     ]
    }
   ],
   "source": [
    "lstm_character_embedding = nn.Sequential(list(lstm_character_model.modules())[2])\n",
    "print(lstm_character_embedding)"
   ]
  },
  {
   "cell_type": "code",
   "execution_count": 168,
   "metadata": {
    "id": "kSnODCNMvG4p",
    "scrolled": true
   },
   "outputs": [],
   "source": [
    "class lstm_character_embedder:\n",
    "    def __init__(self, lstm_character_embedding):\n",
    "        self.lstm_character_embedding = lstm_character_embedding\n",
    "        \n",
    "    def get_character_embedding(self, description, search):\n",
    "        description = description.to(device, dtype=torch.float)\n",
    "        search = search.to(device, dtype=torch.float)\n",
    "\n",
    "        out_description, _ = lstm_character_embedding(description)\n",
    "        out_search, _  = lstm_character_embedding(search)\n",
    "\n",
    "        description_vector = [x.item() for x in torch.mean(out_description, 0)]\n",
    "        search_vector = [x.item() for x in torch.mean(out_search, 0)]\n",
    "        \n",
    "        return description_vector, search_vector\n",
    "\n",
    "\n",
    "lstm_character_embedder = lstm_character_embedder(lstm_character_embedding)\n"
   ]
  },
  {
   "cell_type": "code",
   "execution_count": 169,
   "metadata": {
    "id": "1DKwckdRvG4p"
   },
   "outputs": [],
   "source": [
    "X_train = list(map(lambda x: lstm_character_embedder.get_character_embedding(x[0],x[1]), train_dataset))\n",
    "Y_train = list(map(lambda x: x[2].item() + 2 , train_dataset))"
   ]
  },
  {
   "cell_type": "code",
   "execution_count": 170,
   "metadata": {
    "id": "Whneb3Z9ZQF4"
   },
   "outputs": [],
   "source": [
    "X_val = list(map(lambda x: lstm_character_embedder.get_character_embedding(x[0],x[1]), val_dataset))\n",
    "Y_val = list(map(lambda x: x[2].item() + 2 , val_dataset))"
   ]
  },
  {
   "cell_type": "code",
   "execution_count": 171,
   "metadata": {
    "id": "hQbYtBk2ZQF5"
   },
   "outputs": [],
   "source": [
    "X_test = list(map(lambda x: lstm_character_embedder.get_character_embedding(x[0],x[1]), test_dataset))\n",
    "Y_test = list(map(lambda x: x[2].item() + 2 , test_dataset))"
   ]
  },
  {
   "cell_type": "code",
   "execution_count": 172,
   "metadata": {
    "colab": {
     "base_uri": "https://localhost:8080/"
    },
    "id": "qrLW2cp1ZQF5",
    "outputId": "90f92716-e957-4746-d236-53ced6deafe5"
   },
   "outputs": [
    {
     "data": {
      "text/plain": [
       "59253"
      ]
     },
     "execution_count": 172,
     "metadata": {},
     "output_type": "execute_result"
    }
   ],
   "source": [
    "len(X_train)"
   ]
  },
  {
   "cell_type": "code",
   "execution_count": 173,
   "metadata": {
    "colab": {
     "base_uri": "https://localhost:8080/"
    },
    "id": "Hcg1qT5lZQF7",
    "outputId": "a3b29bb0-68e6-437d-9be5-dac0ec4fa4ef"
   },
   "outputs": [
    {
     "data": {
      "text/plain": [
       "59253"
      ]
     },
     "execution_count": 173,
     "metadata": {},
     "output_type": "execute_result"
    }
   ],
   "source": [
    "len(Y_train)"
   ]
  },
  {
   "cell_type": "code",
   "execution_count": 174,
   "metadata": {
    "id": "3Gj0j8zDZQF7"
   },
   "outputs": [],
   "source": [
    "def get_df(vectors,target):\n",
    "    X_cosine = list(map(lambda x: (np.dot(x[0],x[1])/(norm(x[0])*norm(x[1]))) + 2,vectors))\n",
    "    np_x = np.array(vectors)\n",
    "    x_eac = list(map(lambda x: np.linalg.norm(x[0] - x[1]) , np_x))\n",
    "    x_man = list(map(lambda x : cityblock(x[0],x[1]),vectors))\n",
    "    x_minkowski = list(map(lambda x : minkowski(x[0],x[1]),vectors))\n",
    "    data = {\n",
    "   'cosine similarity':  X_cosine,\n",
    "   'Euclidean distance': x_eac,\n",
    "    'manhattan distance' : x_man,\n",
    "    'minkowski distance' : x_minkowski,\n",
    "    'target' : target\n",
    "    }\n",
    "    feature_df = pd.DataFrame(data)\n",
    "    return feature_df\n",
    "    "
   ]
  },
  {
   "cell_type": "code",
   "execution_count": 175,
   "metadata": {
    "id": "Ln9nUSsvZQF7"
   },
   "outputs": [],
   "source": [
    "classical_train_df = get_df(X_train,Y_train)"
   ]
  },
  {
   "cell_type": "code",
   "execution_count": 176,
   "metadata": {
    "id": "eats0yBaZQF8"
   },
   "outputs": [],
   "source": [
    "classical_val_df = get_df(X_val,Y_val)"
   ]
  },
  {
   "cell_type": "code",
   "execution_count": 177,
   "metadata": {
    "id": "GfuiksqLZQF8"
   },
   "outputs": [],
   "source": [
    "classical_test_df = get_df(X_test,Y_test)"
   ]
  },
  {
   "cell_type": "code",
   "execution_count": 178,
   "metadata": {
    "colab": {
     "base_uri": "https://localhost:8080/",
     "height": 424
    },
    "id": "97fHF-34ZQF8",
    "outputId": "bf85270a-3332-4138-bf5e-3b575165f002"
   },
   "outputs": [
    {
     "data": {
      "text/html": [
       "<div>\n",
       "<style scoped>\n",
       "    .dataframe tbody tr th:only-of-type {\n",
       "        vertical-align: middle;\n",
       "    }\n",
       "\n",
       "    .dataframe tbody tr th {\n",
       "        vertical-align: top;\n",
       "    }\n",
       "\n",
       "    .dataframe thead th {\n",
       "        text-align: right;\n",
       "    }\n",
       "</style>\n",
       "<table border=\"1\" class=\"dataframe\">\n",
       "  <thead>\n",
       "    <tr style=\"text-align: right;\">\n",
       "      <th></th>\n",
       "      <th>cosine similarity</th>\n",
       "      <th>Euclidean distance</th>\n",
       "      <th>manhattan distance</th>\n",
       "      <th>minkowski distance</th>\n",
       "      <th>target</th>\n",
       "    </tr>\n",
       "  </thead>\n",
       "  <tbody>\n",
       "    <tr>\n",
       "      <th>0</th>\n",
       "      <td>2.055311</td>\n",
       "      <td>3.611185</td>\n",
       "      <td>23.455012</td>\n",
       "      <td>3.611185</td>\n",
       "      <td>2.00</td>\n",
       "    </tr>\n",
       "    <tr>\n",
       "      <th>1</th>\n",
       "      <td>1.963509</td>\n",
       "      <td>4.365728</td>\n",
       "      <td>29.412857</td>\n",
       "      <td>4.365728</td>\n",
       "      <td>2.33</td>\n",
       "    </tr>\n",
       "    <tr>\n",
       "      <th>2</th>\n",
       "      <td>2.006852</td>\n",
       "      <td>3.789740</td>\n",
       "      <td>24.493964</td>\n",
       "      <td>3.789740</td>\n",
       "      <td>2.33</td>\n",
       "    </tr>\n",
       "    <tr>\n",
       "      <th>3</th>\n",
       "      <td>1.965933</td>\n",
       "      <td>4.378490</td>\n",
       "      <td>30.130960</td>\n",
       "      <td>4.378490</td>\n",
       "      <td>2.67</td>\n",
       "    </tr>\n",
       "    <tr>\n",
       "      <th>4</th>\n",
       "      <td>2.054162</td>\n",
       "      <td>3.607975</td>\n",
       "      <td>22.854659</td>\n",
       "      <td>3.607975</td>\n",
       "      <td>3.00</td>\n",
       "    </tr>\n",
       "    <tr>\n",
       "      <th>...</th>\n",
       "      <td>...</td>\n",
       "      <td>...</td>\n",
       "      <td>...</td>\n",
       "      <td>...</td>\n",
       "      <td>...</td>\n",
       "    </tr>\n",
       "    <tr>\n",
       "      <th>59248</th>\n",
       "      <td>2.110075</td>\n",
       "      <td>3.584120</td>\n",
       "      <td>22.961699</td>\n",
       "      <td>3.584120</td>\n",
       "      <td>3.00</td>\n",
       "    </tr>\n",
       "    <tr>\n",
       "      <th>59249</th>\n",
       "      <td>2.129670</td>\n",
       "      <td>3.479103</td>\n",
       "      <td>22.633427</td>\n",
       "      <td>3.479103</td>\n",
       "      <td>2.67</td>\n",
       "    </tr>\n",
       "    <tr>\n",
       "      <th>59250</th>\n",
       "      <td>2.116668</td>\n",
       "      <td>3.474326</td>\n",
       "      <td>22.274174</td>\n",
       "      <td>3.474326</td>\n",
       "      <td>3.00</td>\n",
       "    </tr>\n",
       "    <tr>\n",
       "      <th>59251</th>\n",
       "      <td>2.128542</td>\n",
       "      <td>3.457292</td>\n",
       "      <td>22.697970</td>\n",
       "      <td>3.457292</td>\n",
       "      <td>2.67</td>\n",
       "    </tr>\n",
       "    <tr>\n",
       "      <th>59252</th>\n",
       "      <td>2.132804</td>\n",
       "      <td>3.471947</td>\n",
       "      <td>22.597038</td>\n",
       "      <td>3.471947</td>\n",
       "      <td>3.00</td>\n",
       "    </tr>\n",
       "  </tbody>\n",
       "</table>\n",
       "<p>59253 rows × 5 columns</p>\n",
       "</div>"
      ],
      "text/plain": [
       "       cosine similarity  Euclidean distance  manhattan distance  \\\n",
       "0               2.055311            3.611185           23.455012   \n",
       "1               1.963509            4.365728           29.412857   \n",
       "2               2.006852            3.789740           24.493964   \n",
       "3               1.965933            4.378490           30.130960   \n",
       "4               2.054162            3.607975           22.854659   \n",
       "...                  ...                 ...                 ...   \n",
       "59248           2.110075            3.584120           22.961699   \n",
       "59249           2.129670            3.479103           22.633427   \n",
       "59250           2.116668            3.474326           22.274174   \n",
       "59251           2.128542            3.457292           22.697970   \n",
       "59252           2.132804            3.471947           22.597038   \n",
       "\n",
       "       minkowski distance  target  \n",
       "0                3.611185    2.00  \n",
       "1                4.365728    2.33  \n",
       "2                3.789740    2.33  \n",
       "3                4.378490    2.67  \n",
       "4                3.607975    3.00  \n",
       "...                   ...     ...  \n",
       "59248            3.584120    3.00  \n",
       "59249            3.479103    2.67  \n",
       "59250            3.474326    3.00  \n",
       "59251            3.457292    2.67  \n",
       "59252            3.471947    3.00  \n",
       "\n",
       "[59253 rows x 5 columns]"
      ]
     },
     "execution_count": 178,
     "metadata": {},
     "output_type": "execute_result"
    }
   ],
   "source": [
    "classical_train_df"
   ]
  },
  {
   "cell_type": "code",
   "execution_count": 179,
   "metadata": {
    "colab": {
     "base_uri": "https://localhost:8080/",
     "height": 424
    },
    "id": "0j6UJeRuZQF8",
    "outputId": "933e0f19-f584-4032-8393-331457730377"
   },
   "outputs": [
    {
     "data": {
      "text/html": [
       "<div>\n",
       "<style scoped>\n",
       "    .dataframe tbody tr th:only-of-type {\n",
       "        vertical-align: middle;\n",
       "    }\n",
       "\n",
       "    .dataframe tbody tr th {\n",
       "        vertical-align: top;\n",
       "    }\n",
       "\n",
       "    .dataframe thead th {\n",
       "        text-align: right;\n",
       "    }\n",
       "</style>\n",
       "<table border=\"1\" class=\"dataframe\">\n",
       "  <thead>\n",
       "    <tr style=\"text-align: right;\">\n",
       "      <th></th>\n",
       "      <th>cosine similarity</th>\n",
       "      <th>Euclidean distance</th>\n",
       "      <th>manhattan distance</th>\n",
       "      <th>minkowski distance</th>\n",
       "      <th>target</th>\n",
       "    </tr>\n",
       "  </thead>\n",
       "  <tbody>\n",
       "    <tr>\n",
       "      <th>0</th>\n",
       "      <td>2.062934</td>\n",
       "      <td>3.687061</td>\n",
       "      <td>23.694607</td>\n",
       "      <td>3.687061</td>\n",
       "      <td>2.67</td>\n",
       "    </tr>\n",
       "    <tr>\n",
       "      <th>1</th>\n",
       "      <td>2.119558</td>\n",
       "      <td>3.496388</td>\n",
       "      <td>22.632526</td>\n",
       "      <td>3.496388</td>\n",
       "      <td>3.00</td>\n",
       "    </tr>\n",
       "    <tr>\n",
       "      <th>2</th>\n",
       "      <td>2.118566</td>\n",
       "      <td>3.463931</td>\n",
       "      <td>22.248302</td>\n",
       "      <td>3.463931</td>\n",
       "      <td>3.00</td>\n",
       "    </tr>\n",
       "    <tr>\n",
       "      <th>3</th>\n",
       "      <td>2.064888</td>\n",
       "      <td>3.645936</td>\n",
       "      <td>23.565588</td>\n",
       "      <td>3.645936</td>\n",
       "      <td>2.00</td>\n",
       "    </tr>\n",
       "    <tr>\n",
       "      <th>4</th>\n",
       "      <td>2.061505</td>\n",
       "      <td>2.895362</td>\n",
       "      <td>19.629853</td>\n",
       "      <td>2.895362</td>\n",
       "      <td>2.67</td>\n",
       "    </tr>\n",
       "    <tr>\n",
       "      <th>...</th>\n",
       "      <td>...</td>\n",
       "      <td>...</td>\n",
       "      <td>...</td>\n",
       "      <td>...</td>\n",
       "      <td>...</td>\n",
       "    </tr>\n",
       "    <tr>\n",
       "      <th>14809</th>\n",
       "      <td>2.094694</td>\n",
       "      <td>3.525742</td>\n",
       "      <td>22.434060</td>\n",
       "      <td>3.525742</td>\n",
       "      <td>2.67</td>\n",
       "    </tr>\n",
       "    <tr>\n",
       "      <th>14810</th>\n",
       "      <td>2.053734</td>\n",
       "      <td>3.500650</td>\n",
       "      <td>23.345334</td>\n",
       "      <td>3.500650</td>\n",
       "      <td>2.33</td>\n",
       "    </tr>\n",
       "    <tr>\n",
       "      <th>14811</th>\n",
       "      <td>2.066692</td>\n",
       "      <td>3.641751</td>\n",
       "      <td>23.038986</td>\n",
       "      <td>3.641751</td>\n",
       "      <td>2.33</td>\n",
       "    </tr>\n",
       "    <tr>\n",
       "      <th>14812</th>\n",
       "      <td>2.020037</td>\n",
       "      <td>3.570112</td>\n",
       "      <td>22.853463</td>\n",
       "      <td>3.570112</td>\n",
       "      <td>3.00</td>\n",
       "    </tr>\n",
       "    <tr>\n",
       "      <th>14813</th>\n",
       "      <td>1.951781</td>\n",
       "      <td>3.753206</td>\n",
       "      <td>26.261663</td>\n",
       "      <td>3.753206</td>\n",
       "      <td>1.00</td>\n",
       "    </tr>\n",
       "  </tbody>\n",
       "</table>\n",
       "<p>14814 rows × 5 columns</p>\n",
       "</div>"
      ],
      "text/plain": [
       "       cosine similarity  Euclidean distance  manhattan distance  \\\n",
       "0               2.062934            3.687061           23.694607   \n",
       "1               2.119558            3.496388           22.632526   \n",
       "2               2.118566            3.463931           22.248302   \n",
       "3               2.064888            3.645936           23.565588   \n",
       "4               2.061505            2.895362           19.629853   \n",
       "...                  ...                 ...                 ...   \n",
       "14809           2.094694            3.525742           22.434060   \n",
       "14810           2.053734            3.500650           23.345334   \n",
       "14811           2.066692            3.641751           23.038986   \n",
       "14812           2.020037            3.570112           22.853463   \n",
       "14813           1.951781            3.753206           26.261663   \n",
       "\n",
       "       minkowski distance  target  \n",
       "0                3.687061    2.67  \n",
       "1                3.496388    3.00  \n",
       "2                3.463931    3.00  \n",
       "3                3.645936    2.00  \n",
       "4                2.895362    2.67  \n",
       "...                   ...     ...  \n",
       "14809            3.525742    2.67  \n",
       "14810            3.500650    2.33  \n",
       "14811            3.641751    2.33  \n",
       "14812            3.570112    3.00  \n",
       "14813            3.753206    1.00  \n",
       "\n",
       "[14814 rows x 5 columns]"
      ]
     },
     "execution_count": 179,
     "metadata": {},
     "output_type": "execute_result"
    }
   ],
   "source": [
    "classical_val_df"
   ]
  },
  {
   "cell_type": "code",
   "execution_count": 180,
   "metadata": {
    "colab": {
     "base_uri": "https://localhost:8080/",
     "height": 424
    },
    "id": "aAc-RYthZQF8",
    "outputId": "8c0e197e-3fac-41f0-ae14-90736b553c27"
   },
   "outputs": [
    {
     "data": {
      "text/html": [
       "<div>\n",
       "<style scoped>\n",
       "    .dataframe tbody tr th:only-of-type {\n",
       "        vertical-align: middle;\n",
       "    }\n",
       "\n",
       "    .dataframe tbody tr th {\n",
       "        vertical-align: top;\n",
       "    }\n",
       "\n",
       "    .dataframe thead th {\n",
       "        text-align: right;\n",
       "    }\n",
       "</style>\n",
       "<table border=\"1\" class=\"dataframe\">\n",
       "  <thead>\n",
       "    <tr style=\"text-align: right;\">\n",
       "      <th></th>\n",
       "      <th>cosine similarity</th>\n",
       "      <th>Euclidean distance</th>\n",
       "      <th>manhattan distance</th>\n",
       "      <th>minkowski distance</th>\n",
       "      <th>target</th>\n",
       "    </tr>\n",
       "  </thead>\n",
       "  <tbody>\n",
       "    <tr>\n",
       "      <th>0</th>\n",
       "      <td>2.078276</td>\n",
       "      <td>3.673224</td>\n",
       "      <td>23.409714</td>\n",
       "      <td>3.673224</td>\n",
       "      <td>2.33</td>\n",
       "    </tr>\n",
       "    <tr>\n",
       "      <th>1</th>\n",
       "      <td>2.095838</td>\n",
       "      <td>3.628136</td>\n",
       "      <td>23.047960</td>\n",
       "      <td>3.628136</td>\n",
       "      <td>2.33</td>\n",
       "    </tr>\n",
       "    <tr>\n",
       "      <th>2</th>\n",
       "      <td>2.080878</td>\n",
       "      <td>3.627411</td>\n",
       "      <td>23.090651</td>\n",
       "      <td>3.627411</td>\n",
       "      <td>2.67</td>\n",
       "    </tr>\n",
       "    <tr>\n",
       "      <th>3</th>\n",
       "      <td>1.977999</td>\n",
       "      <td>3.591546</td>\n",
       "      <td>25.150276</td>\n",
       "      <td>3.591546</td>\n",
       "      <td>2.00</td>\n",
       "    </tr>\n",
       "    <tr>\n",
       "      <th>4</th>\n",
       "      <td>2.108571</td>\n",
       "      <td>3.581558</td>\n",
       "      <td>22.888188</td>\n",
       "      <td>3.581558</td>\n",
       "      <td>2.67</td>\n",
       "    </tr>\n",
       "    <tr>\n",
       "      <th>...</th>\n",
       "      <td>...</td>\n",
       "      <td>...</td>\n",
       "      <td>...</td>\n",
       "      <td>...</td>\n",
       "      <td>...</td>\n",
       "    </tr>\n",
       "    <tr>\n",
       "      <th>112062</th>\n",
       "      <td>2.106733</td>\n",
       "      <td>3.491545</td>\n",
       "      <td>22.229208</td>\n",
       "      <td>3.491545</td>\n",
       "      <td>2.33</td>\n",
       "    </tr>\n",
       "    <tr>\n",
       "      <th>112063</th>\n",
       "      <td>2.065921</td>\n",
       "      <td>3.648364</td>\n",
       "      <td>23.310603</td>\n",
       "      <td>3.648364</td>\n",
       "      <td>1.00</td>\n",
       "    </tr>\n",
       "    <tr>\n",
       "      <th>112064</th>\n",
       "      <td>1.998506</td>\n",
       "      <td>3.696380</td>\n",
       "      <td>25.294709</td>\n",
       "      <td>3.696380</td>\n",
       "      <td>2.67</td>\n",
       "    </tr>\n",
       "    <tr>\n",
       "      <th>112065</th>\n",
       "      <td>2.056964</td>\n",
       "      <td>3.467968</td>\n",
       "      <td>23.290297</td>\n",
       "      <td>3.467968</td>\n",
       "      <td>1.00</td>\n",
       "    </tr>\n",
       "    <tr>\n",
       "      <th>112066</th>\n",
       "      <td>2.080832</td>\n",
       "      <td>3.645336</td>\n",
       "      <td>23.102077</td>\n",
       "      <td>3.645336</td>\n",
       "      <td>2.33</td>\n",
       "    </tr>\n",
       "  </tbody>\n",
       "</table>\n",
       "<p>112067 rows × 5 columns</p>\n",
       "</div>"
      ],
      "text/plain": [
       "        cosine similarity  Euclidean distance  manhattan distance  \\\n",
       "0                2.078276            3.673224           23.409714   \n",
       "1                2.095838            3.628136           23.047960   \n",
       "2                2.080878            3.627411           23.090651   \n",
       "3                1.977999            3.591546           25.150276   \n",
       "4                2.108571            3.581558           22.888188   \n",
       "...                   ...                 ...                 ...   \n",
       "112062           2.106733            3.491545           22.229208   \n",
       "112063           2.065921            3.648364           23.310603   \n",
       "112064           1.998506            3.696380           25.294709   \n",
       "112065           2.056964            3.467968           23.290297   \n",
       "112066           2.080832            3.645336           23.102077   \n",
       "\n",
       "        minkowski distance  target  \n",
       "0                 3.673224    2.33  \n",
       "1                 3.628136    2.33  \n",
       "2                 3.627411    2.67  \n",
       "3                 3.591546    2.00  \n",
       "4                 3.581558    2.67  \n",
       "...                    ...     ...  \n",
       "112062            3.491545    2.33  \n",
       "112063            3.648364    1.00  \n",
       "112064            3.696380    2.67  \n",
       "112065            3.467968    1.00  \n",
       "112066            3.645336    2.33  \n",
       "\n",
       "[112067 rows x 5 columns]"
      ]
     },
     "execution_count": 180,
     "metadata": {},
     "output_type": "execute_result"
    }
   ],
   "source": [
    "classical_test_df"
   ]
  },
  {
   "cell_type": "code",
   "execution_count": 181,
   "metadata": {
    "id": "JR4IFFhAZQF8"
   },
   "outputs": [],
   "source": [
    "def get_best_hyperparameters(algorithm,params, x_train, y_train):\n",
    "    \"\"\"\n",
    "    the fucntion recieves the paramters and the training set split into the features training set and target training set\n",
    "    and return the optimized paramters for the specific model using the RandomizedSearchCV function, whlie using the 3 fold\n",
    "    cross validation\n",
    "\n",
    "    :param params: the parmaters to search for optimization\n",
    "    :param x_train: features of training set\n",
    "    :param y_train: target of training set\n",
    "    :return:\n",
    "    \"\"\"\n",
    "    grid_search = RandomizedSearchCV(algorithm,params, cv=3, n_jobs=-1)  # cv - cross validation = 3\n",
    "    grid_search.fit(x_train,y_train)\n",
    "    return grid_search.best_params_"
   ]
  },
  {
   "cell_type": "code",
   "execution_count": 182,
   "metadata": {
    "id": "8P3SxyyNZQF8"
   },
   "outputs": [],
   "source": [
    "def Evaluate(y_test,y_pred):\n",
    "    rmse = mean_squared_error(y_test, y_pred, squared=False)\n",
    "    mae = mean_absolute_error(y_test, y_pred)\n",
    "    print(\"RMSE : \" + str(rmse))\n",
    "    print(\"mae: \" + str(mae))\n",
    "    return rmse,mae"
   ]
  },
  {
   "cell_type": "code",
   "execution_count": 183,
   "metadata": {
    "id": "l6_LxbVrZQF8"
   },
   "outputs": [],
   "source": [
    "def ML_loop(y_train,x_train,y_val,x_val,y_test,x_test,algorithm,params,algorithm_name):\n",
    "    print(algorithm_name)\n",
    "    print(\"started searching for best hyperpatamters\")\n",
    "    best_params=get_best_hyperparameters(algorithm,params,x_train,y_train)\n",
    "    print(\"best paramaters are : \" + str(best_params))\n",
    "    algorithm.set_params(**best_params)\n",
    "    algorithm.fit(x_train, y_train)\n",
    "    print(\"training score\")\n",
    "    y_train_pred = algorithm.predict(x_train)\n",
    "    train_rmse,train_mae = Evaluate(y_train,y_train_pred)\n",
    "    print(\"validation score\")\n",
    "    y_val_pred = algorithm.predict(x_val)\n",
    "    val_rmse,val_mae = Evaluate(y_val,y_val_pred)\n",
    "    print(\"test score\")\n",
    "    y_test_pred = algorithm.predict(x_test)\n",
    "    test_rmse,test_mae =Evaluate(y_test,y_test_pred)\n",
    "    return train_rmse,train_mae,val_rmse,val_mae,test_rmse,test_mae\n",
    "          "
   ]
  },
  {
   "cell_type": "code",
   "execution_count": 184,
   "metadata": {
    "id": "uHCvySKnZQF9"
   },
   "outputs": [],
   "source": [
    "y_train = classical_train_df['target']\n",
    "x_train =classical_train_df.drop('target',axis=1)\n",
    "y_val = classical_val_df['target']\n",
    "x_val = classical_val_df.drop('target',axis=1)\n",
    "y_test = classical_test_df['target']\n",
    "x_test = classical_test_df.drop('target',axis=1)"
   ]
  },
  {
   "cell_type": "markdown",
   "metadata": {
    "id": "--u1ewSBvG4q"
   },
   "source": [
    "## KNN"
   ]
  },
  {
   "cell_type": "code",
   "execution_count": 185,
   "metadata": {
    "id": "Rmzd3MgYvG4r"
   },
   "outputs": [],
   "source": [
    "knn = KNeighborsRegressor()\n",
    "Knn_params = {\n",
    "    'weights' : [\"uniform\",\"distance\"],\n",
    "    'n_neighbors' : list(range(1, 12, 1))\n",
    "\n",
    " }"
   ]
  },
  {
   "cell_type": "code",
   "execution_count": 186,
   "metadata": {
    "colab": {
     "base_uri": "https://localhost:8080/"
    },
    "id": "wqnhFPFbvG4r",
    "outputId": "8441060e-e11c-43f3-8d44-544c9aa87fb3"
   },
   "outputs": [
    {
     "name": "stdout",
     "output_type": "stream",
     "text": [
      "K Nearest Neighbors\n",
      "started searching for best hyperpatamters\n",
      "best paramaters are : {'weights': 'distance', 'n_neighbors': 11}\n",
      "training score\n",
      "RMSE : 0.01607195935533571\n",
      "mae: 0.0007611991516603942\n",
      "validation score\n",
      "RMSE : 0.5502788274489466\n",
      "mae: 0.4476862330496285\n",
      "test score\n",
      "RMSE : 0.5585739334966506\n",
      "mae: 0.45457805191029155\n",
      "K Nearest Neighbors runtime 0.11164723634719849 minutes\n"
     ]
    }
   ],
   "source": [
    "s_time = time.time()\n",
    "train_rmse,train_mae,val_rmse,val_mae,test_rmse,test_mae = ML_loop(y_train,x_train,y_val,x_val,y_test,x_test,knn,Knn_params,\"K Nearest Neighbors\")\n",
    "end = time.time() - s_time\n",
    "print(\"K Nearest Neighbors runtime \" + str(end/60) + \" minutes\")"
   ]
  },
  {
   "cell_type": "code",
   "execution_count": 187,
   "metadata": {},
   "outputs": [],
   "source": [
    "char_feature_extractor_KNN.append(end/60)\n",
    "char_feature_extractor_KNN.append(train_rmse)\n",
    "char_feature_extractor_KNN.append(val_rmse)\n",
    "char_feature_extractor_KNN.append(test_rmse)\n",
    "char_feature_extractor_KNN.append(train_mae)\n",
    "char_feature_extractor_KNN.append(val_mae)\n",
    "char_feature_extractor_KNN.append(test_mae)\n"
   ]
  },
  {
   "cell_type": "code",
   "execution_count": 188,
   "metadata": {},
   "outputs": [
    {
     "data": {
      "text/plain": [
       "[0.11164723634719849,\n",
       " 0.01607195935533571,\n",
       " 0.5502788274489466,\n",
       " 0.5585739334966506,\n",
       " 0.0007611991516603942,\n",
       " 0.4476862330496285,\n",
       " 0.45457805191029155]"
      ]
     },
     "execution_count": 188,
     "metadata": {},
     "output_type": "execute_result"
    }
   ],
   "source": [
    "char_feature_extractor_KNN"
   ]
  },
  {
   "cell_type": "markdown",
   "metadata": {
    "id": "NgUlBq1RZQF9"
   },
   "source": [
    "## XGBRegressor"
   ]
  },
  {
   "cell_type": "code",
   "execution_count": 189,
   "metadata": {
    "id": "apCw-22CZQF9"
   },
   "outputs": [],
   "source": [
    "\n",
    "xgb1 = xgb.XGBRegressor()\n",
    "XGB_parameters = {\n",
    "              'learning_rate': [0.05, 0.10, 0.15],\n",
    "              'max_depth': [3, 4, 5, 6, 8],\n",
    "              'n_estimators': [50, 150, 200, 250, 300, 350,400,450,500]}\n"
   ]
  },
  {
   "cell_type": "code",
   "execution_count": 190,
   "metadata": {
    "colab": {
     "base_uri": "https://localhost:8080/"
    },
    "id": "btke17S0ZQF9",
    "outputId": "c43530e1-cb9b-4fc8-dc2e-efcfe8c5b1a5"
   },
   "outputs": [
    {
     "name": "stdout",
     "output_type": "stream",
     "text": [
      "XGB\n",
      "started searching for best hyperpatamters\n",
      "best paramaters are : {'n_estimators': 350, 'max_depth': 3, 'learning_rate': 0.05}\n",
      "training score\n",
      "RMSE : 0.5239459987793774\n",
      "mae: 0.4292039001551531\n",
      "validation score\n",
      "RMSE : 0.5274508368534631\n",
      "mae: 0.4326762208768644\n",
      "test score\n",
      "RMSE : 0.5317946402495551\n",
      "mae: 0.43542929867460706\n",
      "XGB runtime 1.1607151269912719 minutes\n"
     ]
    }
   ],
   "source": [
    "s_time = time.time()\n",
    "train_rmse,train_mae,val_rmse,val_mae,test_rmse,test_mae = ML_loop(y_train,x_train,y_val,x_val,y_test,x_test,xgb1,XGB_parameters,\"XGB\")\n",
    "end = time.time() - s_time\n",
    "print(\"XGB runtime \" + str(end/60) + \" minutes\")"
   ]
  },
  {
   "cell_type": "code",
   "execution_count": 191,
   "metadata": {},
   "outputs": [],
   "source": [
    "char_feature_extractor_XGB.append(end/60)\n",
    "char_feature_extractor_XGB.append(train_rmse)\n",
    "char_feature_extractor_XGB.append(val_rmse)\n",
    "char_feature_extractor_XGB.append(test_rmse)\n",
    "char_feature_extractor_XGB.append(train_mae)\n",
    "char_feature_extractor_XGB.append(val_mae)\n",
    "char_feature_extractor_XGB.append(test_mae)"
   ]
  },
  {
   "cell_type": "code",
   "execution_count": 192,
   "metadata": {},
   "outputs": [
    {
     "data": {
      "text/plain": [
       "[1.1607151269912719,\n",
       " 0.5239459987793774,\n",
       " 0.5274508368534631,\n",
       " 0.5317946402495551,\n",
       " 0.4292039001551531,\n",
       " 0.4326762208768644,\n",
       " 0.43542929867460706]"
      ]
     },
     "execution_count": 192,
     "metadata": {},
     "output_type": "execute_result"
    }
   ],
   "source": [
    "char_feature_extractor_XGB"
   ]
  },
  {
   "cell_type": "markdown",
   "metadata": {
    "id": "zYkwQlyKvG4s"
   },
   "source": [
    "# Word Level Lstm"
   ]
  },
  {
   "cell_type": "markdown",
   "metadata": {
    "id": "DAEQ2ErfZQF-"
   },
   "source": [
    "## 2.a Preprocessing"
   ]
  },
  {
   "cell_type": "code",
   "execution_count": 193,
   "metadata": {
    "colab": {
     "base_uri": "https://localhost:8080/"
    },
    "id": "u8U1Jtj7vG4s",
    "outputId": "1eb7e0cf-27db-472d-d8ff-434ff27329b2"
   },
   "outputs": [
    {
     "name": "stdout",
     "output_type": "stream",
     "text": [
      "not only do angles make joints stronger, they also provide more consistent, straight corners. simpson strong-tie offers a wide variety of angles in various sizes and thicknesses to handle light-duty jobs or projects where a structural connection is needed. some can be bent (skewed) to match the project. for outdoor projects or those where moisture is present, use our zmax zinc-coated connectors, which provide extra resistance against corrosion (look for a \"z\" at the end of the model number).versatile connector for various 90 connections and home repair projectsstronger than angled nailing or screw fastening alonehelp ensure joints are consistently straight and strongdimensions: 3 in. x 3 in. x 1-1/2 in.made from 12-gauge steelgalvanized for extra corrosion resistanceinstall with 10d common nails or #9 x 1-1/2 in. strong-drive sd screws\n",
      "['angl', 'make', 'joint', 'stronger', 'also', 'provid', 'consist', 'straight', 'corner', 'simpson', 'strong-ti', 'offer', 'wide', 'varieti', 'angl', 'variou', 'size', 'thick', 'handl', 'light-duti', 'job', 'project', 'structur', 'connect', 'need', 'bent', 'skew', 'match', 'project', 'outdoor', 'project', 'moistur', 'present', 'use', 'zmax', 'zinc-coat', 'connector', 'provid', 'extra', 'resist', 'corros', 'look', '``', 'z', \"''\", 'end', 'model', 'number', '.versatil', 'connector', 'variou', '90', 'connect', 'home', 'repair', 'projectsstrong', 'angl', 'nail', 'screw', 'fasten', 'alonehelp', 'ensur', 'joint', 'consist', 'straight', 'strongdimens', '3', 'x', '3', 'x', '1-1/2', 'in.mad', '12-gaug', 'steelgalvan', 'extra', 'corros', 'resistanceinstal', '10d', 'common', 'nail', '9', 'x', '1-1/2', 'strong-driv', 'sd', 'screw']\n"
     ]
    }
   ],
   "source": [
    "stop = set(stopwords.words('english') + list(string.punctuation))\n",
    "ps = PorterStemmer()\n",
    "\n",
    "def clean_text(text):\n",
    "    return [ps.stem(i) for i in word_tokenize(text.lower()) if i not in stop]\n",
    "\n",
    "print(train_data.iloc[1]['product_description'].lower())\n",
    "print(clean_text(train_data.iloc[1]['product_description']))"
   ]
  },
  {
   "cell_type": "code",
   "execution_count": 194,
   "metadata": {
    "colab": {
     "base_uri": "https://localhost:8080/"
    },
    "id": "XoJZYN7ovG4t",
    "outputId": "d8b0630d-7577-44b0-c55a-5dccd569106a"
   },
   "outputs": [
    {
     "name": "stdout",
     "output_type": "stream",
     "text": [
      "Average word length in description after clean text:\n"
     ]
    },
    {
     "data": {
      "text/plain": [
       "92.61761648237406"
      ]
     },
     "execution_count": 194,
     "metadata": {},
     "output_type": "execute_result"
    }
   ],
   "source": [
    "print('Average word length in description after clean text:')\n",
    "train_data['product_description'].apply(clean_text).apply(len).mean()"
   ]
  },
  {
   "cell_type": "markdown",
   "metadata": {
    "id": "1NSU6HfLZQF-"
   },
   "source": [
    "## 2.b Embedding creation"
   ]
  },
  {
   "cell_type": "code",
   "execution_count": 195,
   "metadata": {
    "colab": {
     "base_uri": "https://localhost:8080/",
     "height": 293
    },
    "id": "I-cvqKsjvG4t",
    "outputId": "6e0ce7f3-47f2-492a-8734-c912b6897182"
   },
   "outputs": [],
   "source": [
    "import gensim\n",
    "from gensim.models import Word2Vec\n",
    "from gensim.models import KeyedVectors\n",
    "\n",
    "data = []\n",
    "product_ids = set()\n",
    "\n",
    "for index, row in train_df.iterrows():\n",
    "    if row['product_uid'] not in product_ids:\n",
    "        product_ids.add(row['product_uid'])\n",
    "        temp = []\n",
    "\n",
    "        temp.extend(clean_text(row['product_title']))\n",
    "        temp.extend(clean_text(row['product_description']))\n",
    "        data.append(temp)\n",
    "    \n",
    "    temp = []\n",
    "    temp.extend(clean_text(row['search_term']))\n",
    "    data.append(temp)\n",
    "    \n",
    "    \n",
    "for index, row in val_df.iterrows():\n",
    "    if row['product_uid'] not in product_ids:\n",
    "        product_ids.add(row['product_uid'])\n",
    "        temp = []\n",
    "\n",
    "        temp.extend(clean_text(row['product_title']))\n",
    "        temp.extend(clean_text(row['product_description']))\n",
    "        data.append(temp)\n",
    "    \n",
    "    temp = []\n",
    "    temp.extend(clean_text(row['search_term']))\n",
    "    data.append(temp)\n",
    "    \n",
    "    \n",
    "for index, row in test_data.iterrows():\n",
    "    if row['product_uid'] not in product_ids:\n",
    "        product_ids.add(row['product_uid'])\n",
    "        temp = []\n",
    "    \n",
    "        temp.extend(clean_text(row['product_title']))\n",
    "        temp.extend(clean_text(row['product_description']))\n",
    "        data.append(temp)\n",
    "\n",
    "    temp = []\n",
    "    temp.extend(clean_text(row['search_term']))\n",
    "    data.append(temp)"
   ]
  },
  {
   "cell_type": "code",
   "execution_count": 196,
   "metadata": {
    "id": "b90kthPbvG4t"
   },
   "outputs": [],
   "source": [
    "model1 = gensim.models.Word2Vec(data, min_count = 1, vector_size = 32, window = 15)"
   ]
  },
  {
   "cell_type": "code",
   "execution_count": 197,
   "metadata": {
    "id": "F_whVp5pvG4u"
   },
   "outputs": [
    {
     "name": "stdout",
     "output_type": "stream",
     "text": [
      "32\n",
      "[ -3.1981611   -3.1178684   -2.5031588   -1.4790602    3.003558\n",
      "  -4.025776     0.02743869  -2.6144867   -1.8318115  -10.055576\n",
      "   6.91641      7.490175    -2.7525487   -8.189062    -2.7371054\n",
      "   6.073041    -3.5936234    0.9696454    6.7093577   -4.7986054\n",
      "   1.3915415   -0.32562354  -3.7350192    2.6219378   -3.2493427\n",
      "  -1.8314816    6.853756    -0.11192003 -12.101991     2.519682\n",
      "  -2.393154     6.49701   ]\n"
     ]
    }
   ],
   "source": [
    "print(len(model1.wv['bolt']))\n",
    "print(model1.wv['bolt'])"
   ]
  },
  {
   "cell_type": "code",
   "execution_count": 198,
   "metadata": {
    "id": "tZq-btbNvG4u"
   },
   "outputs": [
    {
     "name": "stdout",
     "output_type": "stream",
     "text": [
      "0.6610966\n"
     ]
    }
   ],
   "source": [
    "print(model1.wv.similarity('corner', 'edg'))"
   ]
  },
  {
   "cell_type": "code",
   "execution_count": 199,
   "metadata": {
    "id": "wjxZPYydvG4u"
   },
   "outputs": [
    {
     "name": "stdout",
     "output_type": "stream",
     "text": [
      "0.36810464\n"
     ]
    }
   ],
   "source": [
    "print(model1.wv.similarity('corner', 'circl'))"
   ]
  },
  {
   "cell_type": "markdown",
   "metadata": {
    "id": "ME51aMqPZQF_"
   },
   "source": [
    "### Dataset creation"
   ]
  },
  {
   "cell_type": "code",
   "execution_count": 200,
   "metadata": {
    "id": "o-sDxie-vG4u"
   },
   "outputs": [],
   "source": [
    "class Word_dataset(Dataset):    \n",
    "    def __init__(self, data, word_vectors):\n",
    "        self.data = data\n",
    "        self.word_vectors = word_vectors\n",
    "        self.stop = set(stopwords.words('english') + list(string.punctuation))\n",
    "        self.ps = PorterStemmer()\n",
    "        \n",
    "    def __len__(self):\n",
    "        return len(self.data)\n",
    "    \n",
    "    def __getitem__(self,idx):\n",
    "        X = self.data.iloc[idx]\n",
    "        Y = X['relevance'] - 2\n",
    "        description = self.clean_text(X['product_description'])[:100]\n",
    "        search = self.clean_text(X['search_term'])[:100]\n",
    "        \n",
    "        description = list(map(lambda x: self.word_vectors[x], description))\n",
    "        search = list(map(lambda x: self.word_vectors[x] , search))\n",
    "        \n",
    "        if len(search) == 0:\n",
    "            search = np.zeros((100, 32))\n",
    "        padded_description = np.zeros((100, 32))\n",
    "        rand_index = random.randint(0, (100 - len(description)))\n",
    "        padded_description[rand_index : rand_index + len(description)] = description\n",
    "                        \n",
    "        padded_search = np.zeros((100, 32))\n",
    "        rand_index = random.randint(0, (100 - len(search)))\n",
    "        padded_search[rand_index : rand_index + len(search)] = search\n",
    "\n",
    "        padded_description = torch.tensor(padded_description).reshape([100,32])\n",
    "        padded_search = torch.tensor(padded_search).reshape([100,32])\n",
    "        \n",
    "        return padded_description, padded_search, torch.tensor([Y])\n",
    "    \n",
    "    \n",
    "    def clean_text(self, text):\n",
    "        return [self.ps.stem(i) for i in word_tokenize(text.lower()) if i not in self.stop]\n"
   ]
  },
  {
   "cell_type": "code",
   "execution_count": 201,
   "metadata": {
    "id": "JhBE33xkvG4v"
   },
   "outputs": [],
   "source": [
    "train_dataset = Word_dataset(train_df, model1.wv)"
   ]
  },
  {
   "cell_type": "code",
   "execution_count": 202,
   "metadata": {
    "id": "M5_Rfk8tZQF_"
   },
   "outputs": [],
   "source": [
    "val_dataset = Word_dataset(val_df, model1.wv)"
   ]
  },
  {
   "cell_type": "code",
   "execution_count": 203,
   "metadata": {
    "id": "a5nQd5KSvG4v"
   },
   "outputs": [
    {
     "data": {
      "text/plain": [
       "(tensor([[  4.2166,  -4.4077,   1.0908,  ...,  -4.5068,  -4.4785,   7.1839],\n",
       "         [  1.3742,  -1.0745,   0.0506,  ...,  -0.4830,  -1.2945,   2.0213],\n",
       "         [  6.0827,  -7.1189,  -2.8651,  ...,   1.3875, -16.1442,  12.6673],\n",
       "         ...,\n",
       "         [ -1.3418,  -1.4120,  -0.2499,  ...,  -0.7245,  -1.1328,   1.2839],\n",
       "         [ -3.0111,  -1.9130,   3.5508,  ...,   3.4125,   1.6966,   2.6958],\n",
       "         [ -0.8039,  -5.8695,   9.1237,  ...,  -0.1953,  -9.5942,   5.8208]],\n",
       "        dtype=torch.float64),\n",
       " tensor([[0., 0., 0.,  ..., 0., 0., 0.],\n",
       "         [0., 0., 0.,  ..., 0., 0., 0.],\n",
       "         [0., 0., 0.,  ..., 0., 0., 0.],\n",
       "         ...,\n",
       "         [0., 0., 0.,  ..., 0., 0., 0.],\n",
       "         [0., 0., 0.,  ..., 0., 0., 0.],\n",
       "         [0., 0., 0.,  ..., 0., 0., 0.]], dtype=torch.float64),\n",
       " tensor([0.3300], dtype=torch.float64))"
      ]
     },
     "execution_count": 203,
     "metadata": {},
     "output_type": "execute_result"
    }
   ],
   "source": [
    "train_dataset[5]"
   ]
  },
  {
   "cell_type": "code",
   "execution_count": 204,
   "metadata": {
    "id": "MMo-bBuSZQGA"
   },
   "outputs": [
    {
     "data": {
      "text/plain": [
       "(tensor([[ -2.7913,   1.9763,  -0.7817,  ...,   0.5061,  -0.8010,  -1.8467],\n",
       "         [ -9.1360,   3.6173,  -4.3923,  ...,   8.1976,  -2.7060,  -4.6206],\n",
       "         [ -0.3554,  -1.0502,   0.9250,  ...,  -0.8282,   0.7617,   0.6688],\n",
       "         ...,\n",
       "         [ -6.2498,   6.1845, -10.3240,  ...,  -1.0640,  -3.8218,  -0.2876],\n",
       "         [ -4.2290,  -0.2456,  -3.4683,  ...,  -0.1729,  -1.1836,  -1.1665],\n",
       "         [ -1.1181,  -1.0772,  -1.4217,  ...,  -0.5783,  -0.2981,  -0.3859]],\n",
       "        dtype=torch.float64),\n",
       " tensor([[0., 0., 0.,  ..., 0., 0., 0.],\n",
       "         [0., 0., 0.,  ..., 0., 0., 0.],\n",
       "         [0., 0., 0.,  ..., 0., 0., 0.],\n",
       "         ...,\n",
       "         [0., 0., 0.,  ..., 0., 0., 0.],\n",
       "         [0., 0., 0.,  ..., 0., 0., 0.],\n",
       "         [0., 0., 0.,  ..., 0., 0., 0.]], dtype=torch.float64),\n",
       " tensor([-1.], dtype=torch.float64))"
      ]
     },
     "execution_count": 204,
     "metadata": {},
     "output_type": "execute_result"
    }
   ],
   "source": [
    "val_dataset[5]"
   ]
  },
  {
   "cell_type": "markdown",
   "metadata": {
    "id": "YrHn957qZQGA"
   },
   "source": [
    "## 2.c Siamese Model creation"
   ]
  },
  {
   "cell_type": "code",
   "execution_count": 205,
   "metadata": {
    "id": "7SDTdys6vG4v"
   },
   "outputs": [],
   "source": [
    "class LSTM_Word_Model(nn.Module):\n",
    "    def __init__(self, dim_input=32, n_hidden=64, n_layer=4):\n",
    "        super(LSTM_Word_Model, self).__init__()\n",
    "        \n",
    "        self.similarity = nn.CosineSimilarity(dim=1)\n",
    "        \n",
    "        self.lstm  = nn.LSTM(\n",
    "            batch_first=True,\n",
    "            bidirectional = True,\n",
    "            dropout=0.2,\n",
    "            input_size = dim_input,\n",
    "            hidden_size = n_hidden,\n",
    "            num_layers = n_layer\n",
    "        )\n",
    "        \n",
    "        self.fc1 = nn.Linear(128, 128)\n",
    "               \n",
    "    def forward(self, description, search):\n",
    "\n",
    "        self.lstm.flatten_parameters()\n",
    "        \n",
    "        output_description, (hidden_description, cell_description) = self.lstm(description)\n",
    "            \n",
    "        output_search, (hidden_search, cell_search) = self.lstm(search)\n",
    "        \n",
    "        output_description = torch.mean(output_description, 1)\n",
    "\n",
    "        output_search = torch.mean(output_search, 1)\n",
    "\n",
    "        output_description = self.fc1(output_description)\n",
    "        \n",
    "        output_search = self.fc1(output_search)\n",
    "        \n",
    "        sim = self.similarity(output_description, output_search)\n",
    "\n",
    "        sim = sim.reshape([len(output_search),1])\n",
    "\n",
    "        return sim\n",
    "        "
   ]
  },
  {
   "cell_type": "code",
   "execution_count": 206,
   "metadata": {
    "id": "M1t_8DJ3vG4v"
   },
   "outputs": [
    {
     "data": {
      "text/plain": [
       "LSTM_Word_Model(\n",
       "  (similarity): CosineSimilarity()\n",
       "  (lstm): LSTM(32, 64, num_layers=4, batch_first=True, dropout=0.2, bidirectional=True)\n",
       "  (fc1): Linear(in_features=128, out_features=128, bias=True)\n",
       ")"
      ]
     },
     "execution_count": 206,
     "metadata": {},
     "output_type": "execute_result"
    }
   ],
   "source": [
    "lstm_word_model = LSTM_Word_Model().to(device)\n",
    "lstm_word_model"
   ]
  },
  {
   "cell_type": "markdown",
   "metadata": {
    "id": "whpS_gF_E_8J"
   },
   "source": [
    "## Training, Validation and Test loops"
   ]
  },
  {
   "cell_type": "code",
   "execution_count": 207,
   "metadata": {
    "id": "-OqYwH3TvG4w"
   },
   "outputs": [],
   "source": [
    "learning_rate = 0.001\n",
    "epochs = 10\n",
    "batch_size = 32\n",
    "loss_fn = nn.MSELoss()\n",
    "optimizer = torch.optim.Adam(lstm_word_model.parameters(),lr=learning_rate)"
   ]
  },
  {
   "cell_type": "code",
   "execution_count": 208,
   "metadata": {
    "id": "kN7J17WYZQGA"
   },
   "outputs": [],
   "source": [
    "train_loader = DataLoader(train_dataset,batch_size=32,shuffle=False)\n",
    "val_loader = DataLoader(val_dataset,batch_size=32,shuffle=False)"
   ]
  },
  {
   "cell_type": "code",
   "execution_count": 209,
   "metadata": {
    "id": "piF3N4nEvG4w",
    "scrolled": true
   },
   "outputs": [
    {
     "name": "stdout",
     "output_type": "stream",
     "text": [
      "Starting epoch 1\n",
      "loss=0.588, 0 samples / 59253\n",
      "loss=0.218, 16000 samples / 59253\n",
      "loss=0.229, 32000 samples / 59253\n",
      "loss=0.364, 48000 samples / 59253\n",
      "Epoch:1/10 AVG Training Loss:0.288 AVG Val Loss:0.276\n",
      "AVG Training rmse Loss:0.533 AVG Val rmse Loss:0.522\n",
      " AVG Training mae Loss:0.440 AVG Val mae Loss:0.428\n",
      "Starting epoch 2\n",
      "loss=0.233, 0 samples / 59253\n",
      "loss=0.199, 16000 samples / 59253\n",
      "loss=0.250, 32000 samples / 59253\n",
      "loss=0.354, 48000 samples / 59253\n",
      "Epoch:2/10 AVG Training Loss:0.276 AVG Val Loss:0.272\n",
      "AVG Training rmse Loss:0.522 AVG Val rmse Loss:0.517\n",
      " AVG Training mae Loss:0.431 AVG Val mae Loss:0.421\n",
      "Starting epoch 3\n",
      "loss=0.221, 0 samples / 59253\n",
      "loss=0.200, 16000 samples / 59253\n",
      "loss=0.240, 32000 samples / 59253\n",
      "loss=0.357, 48000 samples / 59253\n",
      "Epoch:3/10 AVG Training Loss:0.266 AVG Val Loss:0.278\n",
      "AVG Training rmse Loss:0.512 AVG Val rmse Loss:0.523\n",
      " AVG Training mae Loss:0.423 AVG Val mae Loss:0.427\n",
      "Starting epoch 4\n",
      "loss=0.233, 0 samples / 59253\n",
      "loss=0.177, 16000 samples / 59253\n",
      "loss=0.228, 32000 samples / 59253\n",
      "loss=0.318, 48000 samples / 59253\n",
      "Epoch:4/10 AVG Training Loss:0.258 AVG Val Loss:0.258\n",
      "AVG Training rmse Loss:0.504 AVG Val rmse Loss:0.504\n",
      " AVG Training mae Loss:0.415 AVG Val mae Loss:0.411\n",
      "Starting epoch 5\n",
      "loss=0.191, 0 samples / 59253\n",
      "loss=0.170, 16000 samples / 59253\n",
      "loss=0.245, 32000 samples / 59253\n",
      "loss=0.321, 48000 samples / 59253\n",
      "Epoch:5/10 AVG Training Loss:0.245 AVG Val Loss:0.251\n",
      "AVG Training rmse Loss:0.491 AVG Val rmse Loss:0.497\n",
      " AVG Training mae Loss:0.403 AVG Val mae Loss:0.403\n",
      "Starting epoch 6\n",
      "loss=0.195, 0 samples / 59253\n",
      "loss=0.160, 16000 samples / 59253\n",
      "loss=0.218, 32000 samples / 59253\n",
      "loss=0.290, 48000 samples / 59253\n",
      "Epoch:6/10 AVG Training Loss:0.235 AVG Val Loss:0.248\n",
      "AVG Training rmse Loss:0.481 AVG Val rmse Loss:0.494\n",
      " AVG Training mae Loss:0.393 AVG Val mae Loss:0.400\n",
      "Starting epoch 7\n",
      "loss=0.191, 0 samples / 59253\n",
      "loss=0.154, 16000 samples / 59253\n",
      "loss=0.197, 32000 samples / 59253\n",
      "loss=0.285, 48000 samples / 59253\n",
      "Epoch:7/10 AVG Training Loss:0.228 AVG Val Loss:0.245\n",
      "AVG Training rmse Loss:0.473 AVG Val rmse Loss:0.491\n",
      " AVG Training mae Loss:0.385 AVG Val mae Loss:0.394\n",
      "Starting epoch 8\n",
      "loss=0.169, 0 samples / 59253\n",
      "loss=0.163, 16000 samples / 59253\n",
      "loss=0.212, 32000 samples / 59253\n",
      "loss=0.275, 48000 samples / 59253\n",
      "Epoch:8/10 AVG Training Loss:0.221 AVG Val Loss:0.241\n",
      "AVG Training rmse Loss:0.467 AVG Val rmse Loss:0.487\n",
      " AVG Training mae Loss:0.379 AVG Val mae Loss:0.392\n",
      "Starting epoch 9\n",
      "loss=0.154, 0 samples / 59253\n",
      "loss=0.157, 16000 samples / 59253\n",
      "loss=0.171, 32000 samples / 59253\n",
      "loss=0.252, 48000 samples / 59253\n",
      "Epoch:9/10 AVG Training Loss:0.216 AVG Val Loss:0.238\n",
      "AVG Training rmse Loss:0.461 AVG Val rmse Loss:0.484\n",
      " AVG Training mae Loss:0.373 AVG Val mae Loss:0.390\n",
      "Starting epoch 10\n",
      "loss=0.160, 0 samples / 59253\n",
      "loss=0.161, 16000 samples / 59253\n",
      "loss=0.164, 32000 samples / 59253\n",
      "loss=0.250, 48000 samples / 59253\n",
      "Epoch:10/10 AVG Training Loss:0.212 AVG Val Loss:0.237\n",
      "AVG Training rmse Loss:0.457 AVG Val rmse Loss:0.483\n",
      " AVG Training mae Loss:0.370 AVG Val mae Loss:0.389\n"
     ]
    }
   ],
   "source": [
    "torch.cuda.empty_cache()\n",
    "\n",
    "history = {'train_loss': [], 'val_loss': [], 'train_rmse':[],'val_rmse':[], 'train_mae':[],'val_mae':[]}\n",
    "start_time = time.time()\n",
    "\n",
    "\n",
    "for epoch in range(epochs):\n",
    "    print(f'Starting epoch {epoch+1}')\n",
    "\n",
    "    train_epoch_loss, train_rmse_loss, train_mae_loss = train_loop(train_loader,lstm_word_model,device,loss_fn,optimizer)\n",
    "\n",
    "    val_loss, val_rmse_loss, val_mae_loss = val_loop(val_loader,lstm_word_model,device,loss_fn)\n",
    "\n",
    "    print(\"Epoch:{}/{} AVG Training Loss:{:.3f} AVG Val Loss:{:.3f}\".format(epoch + 1,\n",
    "                                                                          epochs,\n",
    "                                                                          train_epoch_loss,\n",
    "                                                                          val_loss))\n",
    "\n",
    "    print(\"AVG Training rmse Loss:{:.3f} AVG Val rmse Loss:{:.3f}\".format(train_rmse_loss,\n",
    "                                                                      val_rmse_loss))\n",
    "\n",
    "    print(\" AVG Training mae Loss:{:.3f} AVG Val mae Loss:{:.3f}\".format(train_mae_loss,\n",
    "                                                                      val_mae_loss))\n",
    "\n",
    "    history['train_loss'].append(train_epoch_loss.detach().cpu().numpy())\n",
    "    history['val_loss'].append(val_loss)\n",
    "    history['train_rmse'].append(train_rmse_loss)\n",
    "    history['val_rmse'].append(val_rmse_loss)   \n",
    "    history['train_mae'].append(train_mae_loss)\n",
    "    history['val_mae'].append(val_mae_loss)  \n",
    "        \n",
    "    \n",
    "history['total_time'] = time.time() - start_time"
   ]
  },
  {
   "cell_type": "code",
   "execution_count": 210,
   "metadata": {
    "id": "pDgghUBwvG4w"
   },
   "outputs": [
    {
     "data": {
      "image/png": "[encoded data removed]",
      "text/plain": [
       "<Figure size 864x288 with 3 Axes>"
      ]
     },
     "metadata": {
      "needs_background": "light"
     },
     "output_type": "display_data"
    }
   ],
   "source": [
    "plot_acc_loss(history)"
   ]
  },
  {
   "cell_type": "code",
   "execution_count": 211,
   "metadata": {
    "id": "fGZ_p_qP_wRy"
   },
   "outputs": [
    {
     "name": "stdout",
     "output_type": "stream",
     "text": [
      "3899.9558341503143\n"
     ]
    }
   ],
   "source": [
    "print(history['total_time'])"
   ]
  },
  {
   "cell_type": "code",
   "execution_count": 212,
   "metadata": {
    "id": "9ebN8HjCvG41"
   },
   "outputs": [
    {
     "name": "stdout",
     "output_type": "stream",
     "text": [
      "test loss : 0.2838934536618129\n",
      "test rmse loss : 0.5284967396877304\n",
      "test mae loss : 0.4262329740819338\n"
     ]
    }
   ],
   "source": [
    "test_dataset = Word_dataset(test_data,  model1.wv)\n",
    "test_loader = DataLoader(test_dataset,batch_size=32,shuffle=True)\n",
    "test_loss, test_rmse_loss, test_mae_loss = test_loop(test_loader,lstm_word_model,device,loss_fn)\n",
    "print(\"test loss : \" + str(test_loss))\n",
    "print(\"test rmse loss : \" + str(test_rmse_loss))\n",
    "print(\"test mae loss : \" + str(test_mae_loss))"
   ]
  },
  {
   "cell_type": "code",
   "execution_count": 213,
   "metadata": {
    "id": "JeyyEM9dvG41"
   },
   "outputs": [
    {
     "name": "stdout",
     "output_type": "stream",
     "text": [
      "0.21194622\n",
      "0.23740194404807513\n",
      "0.4565259695825515\n",
      "0.4833837679987592\n",
      "0.36978383067005655\n",
      "0.3892277255171576\n"
     ]
    }
   ],
   "source": [
    "print(history['train_loss'][-1])\n",
    "print(history['val_loss'][-1])\n",
    "print(history['train_rmse'][-1])\n",
    "print(history['val_rmse'][-1])\n",
    "print(history['train_mae'][-1])\n",
    "print(history['val_mae'][-1])"
   ]
  },
  {
   "cell_type": "code",
   "execution_count": 214,
   "metadata": {},
   "outputs": [],
   "source": [
    "simaese_word.append(history['total_time']/60)\n",
    "simaese_word.append(history['train_rmse'][-1])\n",
    "simaese_word.append(history['val_rmse'][-1])\n",
    "simaese_word.append(test_rmse_loss)\n",
    "simaese_word.append(history['train_mae'][-1])\n",
    "simaese_word.append(history['val_mae'][-1])\n",
    "simaese_word.append(test_mae_loss)"
   ]
  },
  {
   "cell_type": "code",
   "execution_count": 215,
   "metadata": {},
   "outputs": [
    {
     "data": {
      "text/plain": [
       "[64.99926390250523,\n",
       " 0.4565259695825515,\n",
       " 0.4833837679987592,\n",
       " 0.5284967396877304,\n",
       " 0.36978383067005655,\n",
       " 0.3892277255171576,\n",
       " 0.4262329740819338]"
      ]
     },
     "execution_count": 215,
     "metadata": {},
     "output_type": "execute_result"
    }
   ],
   "source": [
    "simaese_word"
   ]
  },
  {
   "cell_type": "code",
   "execution_count": 216,
   "metadata": {
    "id": "w1vU4skmvG41"
   },
   "outputs": [],
   "source": [
    "torch.save(lstm_word_model, 'models/LSTM_Word_Model.pt')"
   ]
  },
  {
   "cell_type": "markdown",
   "metadata": {
    "id": "tvzgbiSpvG42"
   },
   "source": [
    "## 2.d Classic ML model with feature extractor"
   ]
  },
  {
   "cell_type": "markdown",
   "metadata": {
    "id": "ao30xin9FEtm"
   },
   "source": [
    "> same as character model"
   ]
  },
  {
   "cell_type": "code",
   "execution_count": 217,
   "metadata": {
    "id": "zK8WPKo0vG42"
   },
   "outputs": [
    {
     "name": "stdout",
     "output_type": "stream",
     "text": [
      "[LSTM_Word_Model(\n",
      "  (similarity): CosineSimilarity()\n",
      "  (lstm): LSTM(32, 64, num_layers=4, batch_first=True, dropout=0.2, bidirectional=True)\n",
      "  (fc1): Linear(in_features=128, out_features=128, bias=True)\n",
      "), CosineSimilarity(), LSTM(32, 64, num_layers=4, batch_first=True, dropout=0.2, bidirectional=True), Linear(in_features=128, out_features=128, bias=True)]\n"
     ]
    }
   ],
   "source": [
    "lstm_character_model = torch.load('models/LSTM_Word_Model.pt')\n",
    "print(list(lstm_character_model.modules()))"
   ]
  },
  {
   "cell_type": "code",
   "execution_count": 218,
   "metadata": {
    "id": "kyuUZWhLvG42"
   },
   "outputs": [
    {
     "name": "stdout",
     "output_type": "stream",
     "text": [
      "Sequential(\n",
      "  (0): LSTM(32, 64, num_layers=4, batch_first=True, dropout=0.2, bidirectional=True)\n",
      ")\n"
     ]
    }
   ],
   "source": [
    "lstm_word_embedding = nn.Sequential(list(lstm_word_model.modules())[2])\n",
    "print(lstm_word_embedding)"
   ]
  },
  {
   "cell_type": "code",
   "execution_count": 219,
   "metadata": {
    "id": "V7ZdBzhgvG42",
    "scrolled": true
   },
   "outputs": [],
   "source": [
    "class lstm_word_embedder:\n",
    "    def __init__(self, lstm_word_embedding):\n",
    "        self.lstm_word_embedding = lstm_word_embedding\n",
    "        \n",
    "    def get_word_embedding(self, description, search):\n",
    "        description = description.to(device, dtype=torch.float)\n",
    "        search = search.to(device, dtype=torch.float)\n",
    "\n",
    "        out_description, _ = self.lstm_word_embedding(description)\n",
    "        out_search, _  = self.lstm_word_embedding(search)\n",
    "\n",
    "        description_vector = [x.item() for x in torch.mean(out_description, 0)]\n",
    "        search_vector = [x.item() for x in torch.mean(out_search, 0)]\n",
    "        \n",
    "        return description_vector, search_vector\n",
    "\n",
    "\n",
    "lstm_word_embedder = lstm_word_embedder(lstm_word_embedding)"
   ]
  },
  {
   "cell_type": "code",
   "execution_count": 220,
   "metadata": {
    "id": "D4ZEqxguvG42"
   },
   "outputs": [],
   "source": [
    "X_train = list(map(lambda x: lstm_word_embedder.get_word_embedding(x[0],x[1]), train_dataset))\n",
    "Y_train = list(map(lambda x: x[2].item() + 2 , train_dataset))"
   ]
  },
  {
   "cell_type": "code",
   "execution_count": 221,
   "metadata": {
    "id": "xkFAukjgZQGC"
   },
   "outputs": [],
   "source": [
    "X_val = list(map(lambda x: lstm_word_embedder.get_word_embedding(x[0],x[1]), val_dataset))\n",
    "Y_val = list(map(lambda x: x[2].item() + 2 , val_dataset))"
   ]
  },
  {
   "cell_type": "code",
   "execution_count": 222,
   "metadata": {
    "id": "8ZEVr3VrZQGC"
   },
   "outputs": [],
   "source": [
    "X_test = list(map(lambda x: lstm_word_embedder.get_word_embedding(x[0],x[1]), test_dataset))\n",
    "Y_test = list(map(lambda x: x[2].item() + 2 , test_dataset))"
   ]
  },
  {
   "cell_type": "code",
   "execution_count": 223,
   "metadata": {
    "id": "oOCDrGPoZQGC"
   },
   "outputs": [
    {
     "data": {
      "text/plain": [
       "59253"
      ]
     },
     "execution_count": 223,
     "metadata": {},
     "output_type": "execute_result"
    }
   ],
   "source": [
    "len(X_train)"
   ]
  },
  {
   "cell_type": "code",
   "execution_count": 224,
   "metadata": {
    "id": "SzO37NElZQGC"
   },
   "outputs": [
    {
     "data": {
      "text/plain": [
       "59253"
      ]
     },
     "execution_count": 224,
     "metadata": {},
     "output_type": "execute_result"
    }
   ],
   "source": [
    "len(Y_train)"
   ]
  },
  {
   "cell_type": "code",
   "execution_count": 225,
   "metadata": {
    "id": "XWy_gbHAZQGC"
   },
   "outputs": [],
   "source": [
    "train_df = get_df(X_train,Y_train)"
   ]
  },
  {
   "cell_type": "code",
   "execution_count": 226,
   "metadata": {
    "id": "6vGdcvmdZQGD"
   },
   "outputs": [],
   "source": [
    "val_df = get_df(X_val,Y_val)"
   ]
  },
  {
   "cell_type": "code",
   "execution_count": 227,
   "metadata": {
    "id": "qO-Ss9YbZQGD"
   },
   "outputs": [],
   "source": [
    "test_df = get_df(X_test,Y_test)"
   ]
  },
  {
   "cell_type": "code",
   "execution_count": 228,
   "metadata": {
    "id": "gLHNsXkmZQGD"
   },
   "outputs": [
    {
     "data": {
      "text/html": [
       "<div>\n",
       "<style scoped>\n",
       "    .dataframe tbody tr th:only-of-type {\n",
       "        vertical-align: middle;\n",
       "    }\n",
       "\n",
       "    .dataframe tbody tr th {\n",
       "        vertical-align: top;\n",
       "    }\n",
       "\n",
       "    .dataframe thead th {\n",
       "        text-align: right;\n",
       "    }\n",
       "</style>\n",
       "<table border=\"1\" class=\"dataframe\">\n",
       "  <thead>\n",
       "    <tr style=\"text-align: right;\">\n",
       "      <th></th>\n",
       "      <th>cosine similarity</th>\n",
       "      <th>Euclidean distance</th>\n",
       "      <th>manhattan distance</th>\n",
       "      <th>minkowski distance</th>\n",
       "      <th>target</th>\n",
       "    </tr>\n",
       "  </thead>\n",
       "  <tbody>\n",
       "    <tr>\n",
       "      <th>0</th>\n",
       "      <td>2.085941</td>\n",
       "      <td>5.233183</td>\n",
       "      <td>38.385220</td>\n",
       "      <td>5.233183</td>\n",
       "      <td>2.00</td>\n",
       "    </tr>\n",
       "    <tr>\n",
       "      <th>1</th>\n",
       "      <td>2.158778</td>\n",
       "      <td>5.240858</td>\n",
       "      <td>38.480969</td>\n",
       "      <td>5.240858</td>\n",
       "      <td>2.33</td>\n",
       "    </tr>\n",
       "    <tr>\n",
       "      <th>2</th>\n",
       "      <td>2.176606</td>\n",
       "      <td>5.990451</td>\n",
       "      <td>43.660559</td>\n",
       "      <td>5.990451</td>\n",
       "      <td>2.33</td>\n",
       "    </tr>\n",
       "    <tr>\n",
       "      <th>3</th>\n",
       "      <td>2.216884</td>\n",
       "      <td>5.632115</td>\n",
       "      <td>40.867057</td>\n",
       "      <td>5.632115</td>\n",
       "      <td>2.67</td>\n",
       "    </tr>\n",
       "    <tr>\n",
       "      <th>4</th>\n",
       "      <td>2.187884</td>\n",
       "      <td>6.305274</td>\n",
       "      <td>46.296977</td>\n",
       "      <td>6.305274</td>\n",
       "      <td>3.00</td>\n",
       "    </tr>\n",
       "    <tr>\n",
       "      <th>...</th>\n",
       "      <td>...</td>\n",
       "      <td>...</td>\n",
       "      <td>...</td>\n",
       "      <td>...</td>\n",
       "      <td>...</td>\n",
       "    </tr>\n",
       "    <tr>\n",
       "      <th>59248</th>\n",
       "      <td>2.246062</td>\n",
       "      <td>3.977183</td>\n",
       "      <td>28.277827</td>\n",
       "      <td>3.977183</td>\n",
       "      <td>3.00</td>\n",
       "    </tr>\n",
       "    <tr>\n",
       "      <th>59249</th>\n",
       "      <td>2.218727</td>\n",
       "      <td>6.719334</td>\n",
       "      <td>49.345536</td>\n",
       "      <td>6.719334</td>\n",
       "      <td>2.67</td>\n",
       "    </tr>\n",
       "    <tr>\n",
       "      <th>59250</th>\n",
       "      <td>2.219559</td>\n",
       "      <td>6.837307</td>\n",
       "      <td>50.342281</td>\n",
       "      <td>6.837307</td>\n",
       "      <td>3.00</td>\n",
       "    </tr>\n",
       "    <tr>\n",
       "      <th>59251</th>\n",
       "      <td>1.909661</td>\n",
       "      <td>6.906864</td>\n",
       "      <td>50.270532</td>\n",
       "      <td>6.906864</td>\n",
       "      <td>2.67</td>\n",
       "    </tr>\n",
       "    <tr>\n",
       "      <th>59252</th>\n",
       "      <td>2.265454</td>\n",
       "      <td>6.713712</td>\n",
       "      <td>49.708414</td>\n",
       "      <td>6.713712</td>\n",
       "      <td>3.00</td>\n",
       "    </tr>\n",
       "  </tbody>\n",
       "</table>\n",
       "<p>59253 rows × 5 columns</p>\n",
       "</div>"
      ],
      "text/plain": [
       "       cosine similarity  Euclidean distance  manhattan distance  \\\n",
       "0               2.085941            5.233183           38.385220   \n",
       "1               2.158778            5.240858           38.480969   \n",
       "2               2.176606            5.990451           43.660559   \n",
       "3               2.216884            5.632115           40.867057   \n",
       "4               2.187884            6.305274           46.296977   \n",
       "...                  ...                 ...                 ...   \n",
       "59248           2.246062            3.977183           28.277827   \n",
       "59249           2.218727            6.719334           49.345536   \n",
       "59250           2.219559            6.837307           50.342281   \n",
       "59251           1.909661            6.906864           50.270532   \n",
       "59252           2.265454            6.713712           49.708414   \n",
       "\n",
       "       minkowski distance  target  \n",
       "0                5.233183    2.00  \n",
       "1                5.240858    2.33  \n",
       "2                5.990451    2.33  \n",
       "3                5.632115    2.67  \n",
       "4                6.305274    3.00  \n",
       "...                   ...     ...  \n",
       "59248            3.977183    3.00  \n",
       "59249            6.719334    2.67  \n",
       "59250            6.837307    3.00  \n",
       "59251            6.906864    2.67  \n",
       "59252            6.713712    3.00  \n",
       "\n",
       "[59253 rows x 5 columns]"
      ]
     },
     "execution_count": 228,
     "metadata": {},
     "output_type": "execute_result"
    }
   ],
   "source": [
    "train_df"
   ]
  },
  {
   "cell_type": "code",
   "execution_count": 229,
   "metadata": {
    "id": "pUB1tlLpZQGD"
   },
   "outputs": [
    {
     "data": {
      "text/html": [
       "<div>\n",
       "<style scoped>\n",
       "    .dataframe tbody tr th:only-of-type {\n",
       "        vertical-align: middle;\n",
       "    }\n",
       "\n",
       "    .dataframe tbody tr th {\n",
       "        vertical-align: top;\n",
       "    }\n",
       "\n",
       "    .dataframe thead th {\n",
       "        text-align: right;\n",
       "    }\n",
       "</style>\n",
       "<table border=\"1\" class=\"dataframe\">\n",
       "  <thead>\n",
       "    <tr style=\"text-align: right;\">\n",
       "      <th></th>\n",
       "      <th>cosine similarity</th>\n",
       "      <th>Euclidean distance</th>\n",
       "      <th>manhattan distance</th>\n",
       "      <th>minkowski distance</th>\n",
       "      <th>target</th>\n",
       "    </tr>\n",
       "  </thead>\n",
       "  <tbody>\n",
       "    <tr>\n",
       "      <th>0</th>\n",
       "      <td>2.165478</td>\n",
       "      <td>4.901652</td>\n",
       "      <td>33.340158</td>\n",
       "      <td>4.901652</td>\n",
       "      <td>2.67</td>\n",
       "    </tr>\n",
       "    <tr>\n",
       "      <th>1</th>\n",
       "      <td>2.181461</td>\n",
       "      <td>5.918731</td>\n",
       "      <td>43.070094</td>\n",
       "      <td>5.918731</td>\n",
       "      <td>3.00</td>\n",
       "    </tr>\n",
       "    <tr>\n",
       "      <th>2</th>\n",
       "      <td>2.253442</td>\n",
       "      <td>6.644456</td>\n",
       "      <td>49.424120</td>\n",
       "      <td>6.644456</td>\n",
       "      <td>3.00</td>\n",
       "    </tr>\n",
       "    <tr>\n",
       "      <th>3</th>\n",
       "      <td>2.136241</td>\n",
       "      <td>3.998743</td>\n",
       "      <td>30.094721</td>\n",
       "      <td>3.998743</td>\n",
       "      <td>2.00</td>\n",
       "    </tr>\n",
       "    <tr>\n",
       "      <th>4</th>\n",
       "      <td>2.155135</td>\n",
       "      <td>6.826663</td>\n",
       "      <td>50.117718</td>\n",
       "      <td>6.826663</td>\n",
       "      <td>2.67</td>\n",
       "    </tr>\n",
       "    <tr>\n",
       "      <th>...</th>\n",
       "      <td>...</td>\n",
       "      <td>...</td>\n",
       "      <td>...</td>\n",
       "      <td>...</td>\n",
       "      <td>...</td>\n",
       "    </tr>\n",
       "    <tr>\n",
       "      <th>14809</th>\n",
       "      <td>2.181280</td>\n",
       "      <td>4.002310</td>\n",
       "      <td>27.778840</td>\n",
       "      <td>4.002310</td>\n",
       "      <td>2.67</td>\n",
       "    </tr>\n",
       "    <tr>\n",
       "      <th>14810</th>\n",
       "      <td>2.196639</td>\n",
       "      <td>3.387103</td>\n",
       "      <td>25.803129</td>\n",
       "      <td>3.387103</td>\n",
       "      <td>2.33</td>\n",
       "    </tr>\n",
       "    <tr>\n",
       "      <th>14811</th>\n",
       "      <td>2.235693</td>\n",
       "      <td>5.223806</td>\n",
       "      <td>37.335367</td>\n",
       "      <td>5.223806</td>\n",
       "      <td>2.33</td>\n",
       "    </tr>\n",
       "    <tr>\n",
       "      <th>14812</th>\n",
       "      <td>2.225036</td>\n",
       "      <td>5.384148</td>\n",
       "      <td>39.258380</td>\n",
       "      <td>5.384148</td>\n",
       "      <td>3.00</td>\n",
       "    </tr>\n",
       "    <tr>\n",
       "      <th>14813</th>\n",
       "      <td>1.910071</td>\n",
       "      <td>6.799977</td>\n",
       "      <td>49.496831</td>\n",
       "      <td>6.799977</td>\n",
       "      <td>1.00</td>\n",
       "    </tr>\n",
       "  </tbody>\n",
       "</table>\n",
       "<p>14814 rows × 5 columns</p>\n",
       "</div>"
      ],
      "text/plain": [
       "       cosine similarity  Euclidean distance  manhattan distance  \\\n",
       "0               2.165478            4.901652           33.340158   \n",
       "1               2.181461            5.918731           43.070094   \n",
       "2               2.253442            6.644456           49.424120   \n",
       "3               2.136241            3.998743           30.094721   \n",
       "4               2.155135            6.826663           50.117718   \n",
       "...                  ...                 ...                 ...   \n",
       "14809           2.181280            4.002310           27.778840   \n",
       "14810           2.196639            3.387103           25.803129   \n",
       "14811           2.235693            5.223806           37.335367   \n",
       "14812           2.225036            5.384148           39.258380   \n",
       "14813           1.910071            6.799977           49.496831   \n",
       "\n",
       "       minkowski distance  target  \n",
       "0                4.901652    2.67  \n",
       "1                5.918731    3.00  \n",
       "2                6.644456    3.00  \n",
       "3                3.998743    2.00  \n",
       "4                6.826663    2.67  \n",
       "...                   ...     ...  \n",
       "14809            4.002310    2.67  \n",
       "14810            3.387103    2.33  \n",
       "14811            5.223806    2.33  \n",
       "14812            5.384148    3.00  \n",
       "14813            6.799977    1.00  \n",
       "\n",
       "[14814 rows x 5 columns]"
      ]
     },
     "execution_count": 229,
     "metadata": {},
     "output_type": "execute_result"
    }
   ],
   "source": [
    "val_df"
   ]
  },
  {
   "cell_type": "code",
   "execution_count": 230,
   "metadata": {
    "id": "SkGIS3GjZQGD"
   },
   "outputs": [
    {
     "data": {
      "text/html": [
       "<div>\n",
       "<style scoped>\n",
       "    .dataframe tbody tr th:only-of-type {\n",
       "        vertical-align: middle;\n",
       "    }\n",
       "\n",
       "    .dataframe tbody tr th {\n",
       "        vertical-align: top;\n",
       "    }\n",
       "\n",
       "    .dataframe thead th {\n",
       "        text-align: right;\n",
       "    }\n",
       "</style>\n",
       "<table border=\"1\" class=\"dataframe\">\n",
       "  <thead>\n",
       "    <tr style=\"text-align: right;\">\n",
       "      <th></th>\n",
       "      <th>cosine similarity</th>\n",
       "      <th>Euclidean distance</th>\n",
       "      <th>manhattan distance</th>\n",
       "      <th>minkowski distance</th>\n",
       "      <th>target</th>\n",
       "    </tr>\n",
       "  </thead>\n",
       "  <tbody>\n",
       "    <tr>\n",
       "      <th>0</th>\n",
       "      <td>2.042431</td>\n",
       "      <td>6.444273</td>\n",
       "      <td>46.836029</td>\n",
       "      <td>6.444273</td>\n",
       "      <td>2.33</td>\n",
       "    </tr>\n",
       "    <tr>\n",
       "      <th>1</th>\n",
       "      <td>1.921433</td>\n",
       "      <td>6.203502</td>\n",
       "      <td>45.347158</td>\n",
       "      <td>6.203502</td>\n",
       "      <td>2.33</td>\n",
       "    </tr>\n",
       "    <tr>\n",
       "      <th>2</th>\n",
       "      <td>2.248879</td>\n",
       "      <td>6.257998</td>\n",
       "      <td>46.206486</td>\n",
       "      <td>6.257998</td>\n",
       "      <td>2.67</td>\n",
       "    </tr>\n",
       "    <tr>\n",
       "      <th>3</th>\n",
       "      <td>2.228490</td>\n",
       "      <td>5.992203</td>\n",
       "      <td>44.486709</td>\n",
       "      <td>5.992203</td>\n",
       "      <td>2.00</td>\n",
       "    </tr>\n",
       "    <tr>\n",
       "      <th>4</th>\n",
       "      <td>2.157134</td>\n",
       "      <td>5.001341</td>\n",
       "      <td>37.331354</td>\n",
       "      <td>5.001341</td>\n",
       "      <td>2.67</td>\n",
       "    </tr>\n",
       "    <tr>\n",
       "      <th>...</th>\n",
       "      <td>...</td>\n",
       "      <td>...</td>\n",
       "      <td>...</td>\n",
       "      <td>...</td>\n",
       "      <td>...</td>\n",
       "    </tr>\n",
       "    <tr>\n",
       "      <th>112062</th>\n",
       "      <td>2.195159</td>\n",
       "      <td>6.825253</td>\n",
       "      <td>50.178609</td>\n",
       "      <td>6.825253</td>\n",
       "      <td>2.33</td>\n",
       "    </tr>\n",
       "    <tr>\n",
       "      <th>112063</th>\n",
       "      <td>2.006547</td>\n",
       "      <td>4.118000</td>\n",
       "      <td>28.770863</td>\n",
       "      <td>4.118000</td>\n",
       "      <td>1.00</td>\n",
       "    </tr>\n",
       "    <tr>\n",
       "      <th>112064</th>\n",
       "      <td>2.186645</td>\n",
       "      <td>3.612155</td>\n",
       "      <td>26.674573</td>\n",
       "      <td>3.612155</td>\n",
       "      <td>2.67</td>\n",
       "    </tr>\n",
       "    <tr>\n",
       "      <th>112065</th>\n",
       "      <td>2.027147</td>\n",
       "      <td>5.809351</td>\n",
       "      <td>41.836289</td>\n",
       "      <td>5.809351</td>\n",
       "      <td>1.00</td>\n",
       "    </tr>\n",
       "    <tr>\n",
       "      <th>112066</th>\n",
       "      <td>2.142664</td>\n",
       "      <td>3.656457</td>\n",
       "      <td>26.557560</td>\n",
       "      <td>3.656457</td>\n",
       "      <td>2.33</td>\n",
       "    </tr>\n",
       "  </tbody>\n",
       "</table>\n",
       "<p>112067 rows × 5 columns</p>\n",
       "</div>"
      ],
      "text/plain": [
       "        cosine similarity  Euclidean distance  manhattan distance  \\\n",
       "0                2.042431            6.444273           46.836029   \n",
       "1                1.921433            6.203502           45.347158   \n",
       "2                2.248879            6.257998           46.206486   \n",
       "3                2.228490            5.992203           44.486709   \n",
       "4                2.157134            5.001341           37.331354   \n",
       "...                   ...                 ...                 ...   \n",
       "112062           2.195159            6.825253           50.178609   \n",
       "112063           2.006547            4.118000           28.770863   \n",
       "112064           2.186645            3.612155           26.674573   \n",
       "112065           2.027147            5.809351           41.836289   \n",
       "112066           2.142664            3.656457           26.557560   \n",
       "\n",
       "        minkowski distance  target  \n",
       "0                 6.444273    2.33  \n",
       "1                 6.203502    2.33  \n",
       "2                 6.257998    2.67  \n",
       "3                 5.992203    2.00  \n",
       "4                 5.001341    2.67  \n",
       "...                    ...     ...  \n",
       "112062            6.825253    2.33  \n",
       "112063            4.118000    1.00  \n",
       "112064            3.612155    2.67  \n",
       "112065            5.809351    1.00  \n",
       "112066            3.656457    2.33  \n",
       "\n",
       "[112067 rows x 5 columns]"
      ]
     },
     "execution_count": 230,
     "metadata": {},
     "output_type": "execute_result"
    }
   ],
   "source": [
    "test_df"
   ]
  },
  {
   "cell_type": "code",
   "execution_count": 231,
   "metadata": {
    "id": "00mZqyBZZQGE"
   },
   "outputs": [],
   "source": [
    "y_train = train_df['target']\n",
    "x_train =train_df.drop('target',axis=1)\n",
    "y_val = val_df['target']\n",
    "x_val = val_df.drop('target',axis=1)\n",
    "y_test = test_df['target']\n",
    "x_test = test_df.drop('target',axis=1)"
   ]
  },
  {
   "cell_type": "markdown",
   "metadata": {
    "id": "vRLCYshTvG43"
   },
   "source": [
    "## KNN"
   ]
  },
  {
   "cell_type": "code",
   "execution_count": 232,
   "metadata": {
    "id": "RopWMv70vG43"
   },
   "outputs": [],
   "source": [
    "knn = KNeighborsRegressor()\n",
    "Knn_params = {\n",
    "    'weights' : [\"uniform\",\"distance\"],\n",
    "    'n_neighbors' : list(range(1, 12, 1))\n",
    "\n",
    " }"
   ]
  },
  {
   "cell_type": "code",
   "execution_count": 233,
   "metadata": {
    "id": "VW2hsrVKvG44"
   },
   "outputs": [
    {
     "name": "stdout",
     "output_type": "stream",
     "text": [
      "K Nearest Neighbors\n",
      "started searching for best hyperpatamters\n",
      "best paramaters are : {'weights': 'distance', 'n_neighbors': 11}\n",
      "training score\n",
      "RMSE : 0.005025965018955241\n",
      "mae: 8.421514522471437e-05\n",
      "validation score\n",
      "RMSE : 0.5114169400090641\n",
      "mae: 0.4104372913243847\n",
      "test score\n",
      "RMSE : 0.5541051093739195\n",
      "mae: 0.4436415599991505\n",
      "K Nearest Neighbors runtime 0.13534604708353679 minutes\n"
     ]
    }
   ],
   "source": [
    "s_time = time.time()\n",
    "train_rmse,train_mae,val_rmse,val_mae,test_rmse,test_mae = ML_loop(y_train,x_train,y_val,x_val,y_test,x_test,knn,Knn_params,\"K Nearest Neighbors\")\n",
    "end = time.time() - s_time\n",
    "print(\"K Nearest Neighbors runtime \" + str(end/60) + \" minutes\")"
   ]
  },
  {
   "cell_type": "code",
   "execution_count": 234,
   "metadata": {},
   "outputs": [],
   "source": [
    "word_feature_extractor_KNN.append(end/60)\n",
    "word_feature_extractor_KNN.append(train_rmse)\n",
    "word_feature_extractor_KNN.append(val_rmse)\n",
    "word_feature_extractor_KNN.append(test_rmse)\n",
    "word_feature_extractor_KNN.append(train_mae)\n",
    "word_feature_extractor_KNN.append(val_mae)\n",
    "word_feature_extractor_KNN.append(test_mae)\n"
   ]
  },
  {
   "cell_type": "code",
   "execution_count": 235,
   "metadata": {},
   "outputs": [
    {
     "data": {
      "text/plain": [
       "[0.13534604708353679,\n",
       " 0.005025965018955241,\n",
       " 0.5114169400090641,\n",
       " 0.5541051093739195,\n",
       " 8.421514522471437e-05,\n",
       " 0.4104372913243847,\n",
       " 0.4436415599991505]"
      ]
     },
     "execution_count": 235,
     "metadata": {},
     "output_type": "execute_result"
    }
   ],
   "source": [
    "word_feature_extractor_KNN"
   ]
  },
  {
   "cell_type": "markdown",
   "metadata": {
    "id": "9y2_faRDZQGG"
   },
   "source": [
    "## XGBRegressor"
   ]
  },
  {
   "cell_type": "code",
   "execution_count": 236,
   "metadata": {
    "id": "sz0mBJMjZQGH"
   },
   "outputs": [],
   "source": [
    "xgb1 = xgb.XGBRegressor()\n",
    "XGB_parameters = {\n",
    "              'learning_rate': [0.05, 0.10, 0.15],\n",
    "              'max_depth': [3, 4, 5, 6, 8],\n",
    "              'n_estimators': [50, 150, 200, 250, 300, 350,400,450,500]}\n"
   ]
  },
  {
   "cell_type": "code",
   "execution_count": 237,
   "metadata": {
    "id": "oFNTthtjZQGH"
   },
   "outputs": [
    {
     "name": "stdout",
     "output_type": "stream",
     "text": [
      "XGB\n",
      "started searching for best hyperpatamters\n",
      "best paramaters are : {'n_estimators': 150, 'max_depth': 4, 'learning_rate': 0.1}\n",
      "training score\n",
      "RMSE : 0.44557621399531083\n",
      "mae: 0.35837902795183463\n",
      "validation score\n",
      "RMSE : 0.49100877102885804\n",
      "mae: 0.3959768394324982\n",
      "test score\n",
      "RMSE : 0.5356313058309072\n",
      "mae: 0.4305137314241137\n",
      "XGB runtime 2.1060641487439473 minutes\n"
     ]
    }
   ],
   "source": [
    "s_time = time.time()\n",
    "train_rmse,train_mae,val_rmse,val_mae,test_rmse,test_mae = ML_loop(y_train,x_train,y_val,x_val,y_test,x_test,xgb1,XGB_parameters,\"XGB\")\n",
    "end = time.time() - s_time\n",
    "print(\"XGB runtime \" + str(end/60) + \" minutes\")"
   ]
  },
  {
   "cell_type": "code",
   "execution_count": 238,
   "metadata": {},
   "outputs": [],
   "source": [
    "word_feature_extractor_XGB.append(end/60)\n",
    "word_feature_extractor_XGB.append(train_rmse)\n",
    "word_feature_extractor_XGB.append(val_rmse)\n",
    "word_feature_extractor_XGB.append(test_rmse)\n",
    "word_feature_extractor_XGB.append(train_mae)\n",
    "word_feature_extractor_XGB.append(val_mae)\n",
    "word_feature_extractor_XGB.append(test_mae)\n"
   ]
  },
  {
   "cell_type": "code",
   "execution_count": 239,
   "metadata": {},
   "outputs": [
    {
     "data": {
      "text/plain": [
       "[2.1060641487439473,\n",
       " 0.44557621399531083,\n",
       " 0.49100877102885804,\n",
       " 0.5356313058309072,\n",
       " 0.35837902795183463,\n",
       " 0.3959768394324982,\n",
       " 0.4305137314241137]"
      ]
     },
     "execution_count": 239,
     "metadata": {},
     "output_type": "execute_result"
    }
   ],
   "source": [
    "word_feature_extractor_XGB"
   ]
  },
  {
   "cell_type": "code",
   "execution_count": 242,
   "metadata": {},
   "outputs": [],
   "source": [
    "results = {'simaese_char': simaese_char,'naive_benchmark':naive_benchmark,'char_feature_extractor_KNN':char_feature_extractor_KNN,'char_feature_extractor_XGB':char_feature_extractor_XGB,'simaese_word':simaese_word,'word_feature_extractor_KNN':word_feature_extractor_KNN,'word_feature_extractor_XGB':word_feature_extractor_XGB}\n"
   ]
  },
  {
   "cell_type": "code",
   "execution_count": 243,
   "metadata": {},
   "outputs": [],
   "source": [
    "table = pd.DataFrame.from_dict(results, orient='index')"
   ]
  },
  {
   "cell_type": "code",
   "execution_count": 244,
   "metadata": {},
   "outputs": [
    {
     "data": {
      "text/html": [
       "<div>\n",
       "<style scoped>\n",
       "    .dataframe tbody tr th:only-of-type {\n",
       "        vertical-align: middle;\n",
       "    }\n",
       "\n",
       "    .dataframe tbody tr th {\n",
       "        vertical-align: top;\n",
       "    }\n",
       "\n",
       "    .dataframe thead th {\n",
       "        text-align: right;\n",
       "    }\n",
       "</style>\n",
       "<table border=\"1\" class=\"dataframe\">\n",
       "  <thead>\n",
       "    <tr style=\"text-align: right;\">\n",
       "      <th></th>\n",
       "      <th>0</th>\n",
       "      <th>1</th>\n",
       "      <th>2</th>\n",
       "      <th>3</th>\n",
       "      <th>4</th>\n",
       "      <th>5</th>\n",
       "      <th>6</th>\n",
       "    </tr>\n",
       "  </thead>\n",
       "  <tbody>\n",
       "    <tr>\n",
       "      <th>simaese_char</th>\n",
       "      <td>53.938973</td>\n",
       "      <td>0.525479</td>\n",
       "      <td>0.524640</td>\n",
       "      <td>0.528291</td>\n",
       "      <td>0.433532</td>\n",
       "      <td>0.432484</td>\n",
       "      <td>0.435381</td>\n",
       "    </tr>\n",
       "    <tr>\n",
       "      <th>naive_benchmark</th>\n",
       "      <td>0.929184</td>\n",
       "      <td>0.587146</td>\n",
       "      <td>0.583973</td>\n",
       "      <td>0.588534</td>\n",
       "      <td>0.473375</td>\n",
       "      <td>0.470216</td>\n",
       "      <td>0.473584</td>\n",
       "    </tr>\n",
       "    <tr>\n",
       "      <th>char_feature_extractor_KNN</th>\n",
       "      <td>0.111647</td>\n",
       "      <td>0.016072</td>\n",
       "      <td>0.550279</td>\n",
       "      <td>0.558574</td>\n",
       "      <td>0.000761</td>\n",
       "      <td>0.447686</td>\n",
       "      <td>0.454578</td>\n",
       "    </tr>\n",
       "    <tr>\n",
       "      <th>char_feature_extractor_XGB</th>\n",
       "      <td>1.160715</td>\n",
       "      <td>0.523946</td>\n",
       "      <td>0.527451</td>\n",
       "      <td>0.531795</td>\n",
       "      <td>0.429204</td>\n",
       "      <td>0.432676</td>\n",
       "      <td>0.435429</td>\n",
       "    </tr>\n",
       "    <tr>\n",
       "      <th>simaese_word</th>\n",
       "      <td>64.999264</td>\n",
       "      <td>0.456526</td>\n",
       "      <td>0.483384</td>\n",
       "      <td>0.528497</td>\n",
       "      <td>0.369784</td>\n",
       "      <td>0.389228</td>\n",
       "      <td>0.426233</td>\n",
       "    </tr>\n",
       "    <tr>\n",
       "      <th>word_feature_extractor_KNN</th>\n",
       "      <td>0.135346</td>\n",
       "      <td>0.005026</td>\n",
       "      <td>0.511417</td>\n",
       "      <td>0.554105</td>\n",
       "      <td>0.000084</td>\n",
       "      <td>0.410437</td>\n",
       "      <td>0.443642</td>\n",
       "    </tr>\n",
       "    <tr>\n",
       "      <th>word_feature_extractor_XGB</th>\n",
       "      <td>2.106064</td>\n",
       "      <td>0.445576</td>\n",
       "      <td>0.491009</td>\n",
       "      <td>0.535631</td>\n",
       "      <td>0.358379</td>\n",
       "      <td>0.395977</td>\n",
       "      <td>0.430514</td>\n",
       "    </tr>\n",
       "  </tbody>\n",
       "</table>\n",
       "</div>"
      ],
      "text/plain": [
       "                                    0         1         2         3         4  \\\n",
       "simaese_char                53.938973  0.525479  0.524640  0.528291  0.433532   \n",
       "naive_benchmark              0.929184  0.587146  0.583973  0.588534  0.473375   \n",
       "char_feature_extractor_KNN   0.111647  0.016072  0.550279  0.558574  0.000761   \n",
       "char_feature_extractor_XGB   1.160715  0.523946  0.527451  0.531795  0.429204   \n",
       "simaese_word                64.999264  0.456526  0.483384  0.528497  0.369784   \n",
       "word_feature_extractor_KNN   0.135346  0.005026  0.511417  0.554105  0.000084   \n",
       "word_feature_extractor_XGB   2.106064  0.445576  0.491009  0.535631  0.358379   \n",
       "\n",
       "                                   5         6  \n",
       "simaese_char                0.432484  0.435381  \n",
       "naive_benchmark             0.470216  0.473584  \n",
       "char_feature_extractor_KNN  0.447686  0.454578  \n",
       "char_feature_extractor_XGB  0.432676  0.435429  \n",
       "simaese_word                0.389228  0.426233  \n",
       "word_feature_extractor_KNN  0.410437  0.443642  \n",
       "word_feature_extractor_XGB  0.395977  0.430514  "
      ]
     },
     "execution_count": 244,
     "metadata": {},
     "output_type": "execute_result"
    }
   ],
   "source": [
    "table"
   ]
  },
  {
   "cell_type": "code",
   "execution_count": 245,
   "metadata": {},
   "outputs": [],
   "source": [
    "table.columns = ['Runtime', 'train_rmse', 'val_rmse', 'test_rmse', 'train_mae','val_mae','test_mae']"
   ]
  },
  {
   "cell_type": "code",
   "execution_count": 246,
   "metadata": {},
   "outputs": [
    {
     "data": {
      "text/html": [
       "<div>\n",
       "<style scoped>\n",
       "    .dataframe tbody tr th:only-of-type {\n",
       "        vertical-align: middle;\n",
       "    }\n",
       "\n",
       "    .dataframe tbody tr th {\n",
       "        vertical-align: top;\n",
       "    }\n",
       "\n",
       "    .dataframe thead th {\n",
       "        text-align: right;\n",
       "    }\n",
       "</style>\n",
       "<table border=\"1\" class=\"dataframe\">\n",
       "  <thead>\n",
       "    <tr style=\"text-align: right;\">\n",
       "      <th></th>\n",
       "      <th>Runtime</th>\n",
       "      <th>train_rmse</th>\n",
       "      <th>val_rmse</th>\n",
       "      <th>test_rmse</th>\n",
       "      <th>train_mae</th>\n",
       "      <th>val_mae</th>\n",
       "      <th>test_mae</th>\n",
       "    </tr>\n",
       "  </thead>\n",
       "  <tbody>\n",
       "    <tr>\n",
       "      <th>simaese_char</th>\n",
       "      <td>53.938973</td>\n",
       "      <td>0.525479</td>\n",
       "      <td>0.524640</td>\n",
       "      <td>0.528291</td>\n",
       "      <td>0.433532</td>\n",
       "      <td>0.432484</td>\n",
       "      <td>0.435381</td>\n",
       "    </tr>\n",
       "    <tr>\n",
       "      <th>naive_benchmark</th>\n",
       "      <td>0.929184</td>\n",
       "      <td>0.587146</td>\n",
       "      <td>0.583973</td>\n",
       "      <td>0.588534</td>\n",
       "      <td>0.473375</td>\n",
       "      <td>0.470216</td>\n",
       "      <td>0.473584</td>\n",
       "    </tr>\n",
       "    <tr>\n",
       "      <th>char_feature_extractor_KNN</th>\n",
       "      <td>0.111647</td>\n",
       "      <td>0.016072</td>\n",
       "      <td>0.550279</td>\n",
       "      <td>0.558574</td>\n",
       "      <td>0.000761</td>\n",
       "      <td>0.447686</td>\n",
       "      <td>0.454578</td>\n",
       "    </tr>\n",
       "    <tr>\n",
       "      <th>char_feature_extractor_XGB</th>\n",
       "      <td>1.160715</td>\n",
       "      <td>0.523946</td>\n",
       "      <td>0.527451</td>\n",
       "      <td>0.531795</td>\n",
       "      <td>0.429204</td>\n",
       "      <td>0.432676</td>\n",
       "      <td>0.435429</td>\n",
       "    </tr>\n",
       "    <tr>\n",
       "      <th>simaese_word</th>\n",
       "      <td>64.999264</td>\n",
       "      <td>0.456526</td>\n",
       "      <td>0.483384</td>\n",
       "      <td>0.528497</td>\n",
       "      <td>0.369784</td>\n",
       "      <td>0.389228</td>\n",
       "      <td>0.426233</td>\n",
       "    </tr>\n",
       "    <tr>\n",
       "      <th>word_feature_extractor_KNN</th>\n",
       "      <td>0.135346</td>\n",
       "      <td>0.005026</td>\n",
       "      <td>0.511417</td>\n",
       "      <td>0.554105</td>\n",
       "      <td>0.000084</td>\n",
       "      <td>0.410437</td>\n",
       "      <td>0.443642</td>\n",
       "    </tr>\n",
       "    <tr>\n",
       "      <th>word_feature_extractor_XGB</th>\n",
       "      <td>2.106064</td>\n",
       "      <td>0.445576</td>\n",
       "      <td>0.491009</td>\n",
       "      <td>0.535631</td>\n",
       "      <td>0.358379</td>\n",
       "      <td>0.395977</td>\n",
       "      <td>0.430514</td>\n",
       "    </tr>\n",
       "  </tbody>\n",
       "</table>\n",
       "</div>"
      ],
      "text/plain": [
       "                              Runtime  train_rmse  val_rmse  test_rmse  \\\n",
       "simaese_char                53.938973    0.525479  0.524640   0.528291   \n",
       "naive_benchmark              0.929184    0.587146  0.583973   0.588534   \n",
       "char_feature_extractor_KNN   0.111647    0.016072  0.550279   0.558574   \n",
       "char_feature_extractor_XGB   1.160715    0.523946  0.527451   0.531795   \n",
       "simaese_word                64.999264    0.456526  0.483384   0.528497   \n",
       "word_feature_extractor_KNN   0.135346    0.005026  0.511417   0.554105   \n",
       "word_feature_extractor_XGB   2.106064    0.445576  0.491009   0.535631   \n",
       "\n",
       "                            train_mae   val_mae  test_mae  \n",
       "simaese_char                 0.433532  0.432484  0.435381  \n",
       "naive_benchmark              0.473375  0.470216  0.473584  \n",
       "char_feature_extractor_KNN   0.000761  0.447686  0.454578  \n",
       "char_feature_extractor_XGB   0.429204  0.432676  0.435429  \n",
       "simaese_word                 0.369784  0.389228  0.426233  \n",
       "word_feature_extractor_KNN   0.000084  0.410437  0.443642  \n",
       "word_feature_extractor_XGB   0.358379  0.395977  0.430514  "
      ]
     },
     "execution_count": 246,
     "metadata": {},
     "output_type": "execute_result"
    }
   ],
   "source": [
    "table"
   ]
  }
 ],
 "metadata": {
  "accelerator": "GPU",
  "colab": {
   "provenance": []
  },
  "gpuClass": "premium",
  "kernelspec": {
   "display_name": "Python 3 (ipykernel)",
   "language": "python",
   "name": "python3"
  },
  "language_info": {
   "codemirror_mode": {
    "name": "ipython",
    "version": 3
   },
   "file_extension": ".py",
   "mimetype": "text/x-python",
   "name": "python",
   "nbconvert_exporter": "python",
   "pygments_lexer": "ipython3",
   "version": "3.7.15"
  },
  "vscode": {
   "interpreter": {
    "hash": "3ec388c464d8d3ab5bd40ed2c5c408020e5665135aa993c732b6c8146444ef33"
   }
  }
 },
 "nbformat": 4,
 "nbformat_minor": 4
}
